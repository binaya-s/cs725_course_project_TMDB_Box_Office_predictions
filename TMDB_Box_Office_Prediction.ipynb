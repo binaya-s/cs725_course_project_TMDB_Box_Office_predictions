{
  "nbformat": 4,
  "nbformat_minor": 0,
  "metadata": {
    "accelerator": "GPU",
    "colab": {
      "name": "Final RNN_FML_Box_Office_Prediction.ipynb",
      "provenance": [],
      "collapsed_sections": [
        "myLNxKLHYHOx",
        "YmGxRsfz9m3y"
      ],
      "toc_visible": true
    },
    "kernelspec": {
      "display_name": "Python 3",
      "language": "python",
      "name": "python3"
    },
    "language_info": {
      "codemirror_mode": {
        "name": "ipython",
        "version": 3
      },
      "file_extension": ".py",
      "mimetype": "text/x-python",
      "name": "python",
      "nbconvert_exporter": "python",
      "pygments_lexer": "ipython3",
      "version": "3.6.6"
    }
  },
  "cells": [
    {
      "cell_type": "markdown",
      "metadata": {
        "id": "jAuapdRl-EPR"
      },
      "source": [
        "# TMDB Box Office Prediction\n",
        "# CS725: Course Project\n",
        "Authors: <br>\n",
        "*   A V Sai Pavan(213070007)\n",
        "*   Binaya Kumar Sahoo(213070009)\n",
        "*   Shashwat Pathak(213070010)\n",
        "\n"
      ]
    },
    {
      "cell_type": "code",
      "metadata": {
        "colab": {
          "base_uri": "https://localhost:8080/"
        },
        "id": "08ci3zb8oTJo",
        "outputId": "1ad79b16-304b-4538-c4cc-8a05db44bc89"
      },
      "source": [
        "from google.colab import drive\n",
        "drive.mount('/content/drive')"
      ],
      "execution_count": 1,
      "outputs": [
        {
          "output_type": "stream",
          "name": "stdout",
          "text": [
            "Mounted at /content/drive\n"
          ]
        }
      ]
    },
    {
      "cell_type": "markdown",
      "metadata": {
        "id": "jJ6gVzXvElAc"
      },
      "source": [
        "# **README**\n",
        "*  For running the below code cell, change the directory to the folder that \n",
        "contains the test and train csv files\n",
        "*  Update the paths for test.csv and train.csv in the subsequent code blocks(EDA, Feature engineering, ML models)\n",
        "*  For test score, the files created in test blocks of each model is uploaded to kaggle competition: https://www.kaggle.com/c/tmdb-box-office-prediction/submissions and the scores were noted."
      ]
    },
    {
      "cell_type": "code",
      "metadata": {
        "colab": {
          "base_uri": "https://localhost:8080/"
        },
        "id": "6wA6E2WKoPJv",
        "outputId": "65ff9493-f30d-4331-d75f-e348e95f7c18"
      },
      "source": [
        "%cd \"/content/drive/MyDrive/Academics/Semester 1/Foundations of Machine Learning/Project\""
      ],
      "execution_count": 108,
      "outputs": [
        {
          "output_type": "stream",
          "name": "stdout",
          "text": [
            "/content/drive/MyDrive/Academics/Semester 1/Foundations of Machine Learning/Project\n"
          ]
        }
      ]
    },
    {
      "cell_type": "code",
      "metadata": {
        "id": "QpxkbnRh9m3k"
      },
      "source": [
        "import numpy as np\n",
        "import tensorflow as tf\n",
        "import pandas as pd\n",
        "import matplotlib.pyplot as plt\n",
        "import seaborn as sns \n",
        "import warnings\n",
        "from tqdm import tqdm\n",
        "from datetime import datetime\n",
        "import json\n",
        "from sklearn.preprocessing import LabelEncoder\n",
        "warnings.filterwarnings(\"ignore\")\n",
        "from sklearn.model_selection import train_test_split\n",
        "from sklearn.linear_model import LinearRegression\n",
        "import tensorflow.keras.backend as kb\n",
        "import tensorflow as tf"
      ],
      "execution_count": 3,
      "outputs": []
    },
    {
      "cell_type": "code",
      "metadata": {
        "colab": {
          "base_uri": "https://localhost:8080/"
        },
        "id": "f8xfeVwQ9m3o",
        "scrolled": false,
        "outputId": "39bf7d58-4ba3-4cd8-c111-6676c0929c8c"
      },
      "source": [
        "train = pd.read_csv('train.csv')\n",
        "train.info()"
      ],
      "execution_count": 4,
      "outputs": [
        {
          "output_type": "stream",
          "name": "stdout",
          "text": [
            "<class 'pandas.core.frame.DataFrame'>\n",
            "RangeIndex: 3000 entries, 0 to 2999\n",
            "Data columns (total 23 columns):\n",
            " #   Column                 Non-Null Count  Dtype  \n",
            "---  ------                 --------------  -----  \n",
            " 0   id                     3000 non-null   int64  \n",
            " 1   belongs_to_collection  604 non-null    object \n",
            " 2   budget                 3000 non-null   int64  \n",
            " 3   genres                 2993 non-null   object \n",
            " 4   homepage               946 non-null    object \n",
            " 5   imdb_id                3000 non-null   object \n",
            " 6   original_language      3000 non-null   object \n",
            " 7   original_title         3000 non-null   object \n",
            " 8   overview               2992 non-null   object \n",
            " 9   popularity             3000 non-null   float64\n",
            " 10  poster_path            2999 non-null   object \n",
            " 11  production_companies   2844 non-null   object \n",
            " 12  production_countries   2945 non-null   object \n",
            " 13  release_date           3000 non-null   object \n",
            " 14  runtime                2998 non-null   float64\n",
            " 15  spoken_languages       2980 non-null   object \n",
            " 16  status                 3000 non-null   object \n",
            " 17  tagline                2403 non-null   object \n",
            " 18  title                  3000 non-null   object \n",
            " 19  Keywords               2724 non-null   object \n",
            " 20  cast                   2987 non-null   object \n",
            " 21  crew                   2984 non-null   object \n",
            " 22  revenue                3000 non-null   int64  \n",
            "dtypes: float64(2), int64(3), object(18)\n",
            "memory usage: 539.2+ KB\n"
          ]
        }
      ]
    },
    {
      "cell_type": "code",
      "metadata": {
        "colab": {
          "base_uri": "https://localhost:8080/"
        },
        "id": "0VCRiyt99m3s",
        "outputId": "6e78dd6c-4d39-4315-86ee-e5e0221ed965"
      },
      "source": [
        "test = pd.read_csv('test.csv')\n",
        "test.info()"
      ],
      "execution_count": 5,
      "outputs": [
        {
          "output_type": "stream",
          "name": "stdout",
          "text": [
            "<class 'pandas.core.frame.DataFrame'>\n",
            "RangeIndex: 4398 entries, 0 to 4397\n",
            "Data columns (total 22 columns):\n",
            " #   Column                 Non-Null Count  Dtype  \n",
            "---  ------                 --------------  -----  \n",
            " 0   id                     4398 non-null   int64  \n",
            " 1   belongs_to_collection  877 non-null    object \n",
            " 2   budget                 4398 non-null   int64  \n",
            " 3   genres                 4382 non-null   object \n",
            " 4   homepage               1420 non-null   object \n",
            " 5   imdb_id                4398 non-null   object \n",
            " 6   original_language      4398 non-null   object \n",
            " 7   original_title         4398 non-null   object \n",
            " 8   overview               4384 non-null   object \n",
            " 9   popularity             4398 non-null   float64\n",
            " 10  poster_path            4397 non-null   object \n",
            " 11  production_companies   4140 non-null   object \n",
            " 12  production_countries   4296 non-null   object \n",
            " 13  release_date           4397 non-null   object \n",
            " 14  runtime                4394 non-null   float64\n",
            " 15  spoken_languages       4356 non-null   object \n",
            " 16  status                 4396 non-null   object \n",
            " 17  tagline                3535 non-null   object \n",
            " 18  title                  4395 non-null   object \n",
            " 19  Keywords               4005 non-null   object \n",
            " 20  cast                   4385 non-null   object \n",
            " 21  crew                   4376 non-null   object \n",
            "dtypes: float64(2), int64(2), object(18)\n",
            "memory usage: 756.0+ KB\n"
          ]
        }
      ]
    },
    {
      "cell_type": "markdown",
      "metadata": {
        "id": "myLNxKLHYHOx"
      },
      "source": [
        "# Scraping images\n",
        "The below code blocks in this section were to scrape movie posters from TMDB website for using as extra features for the networks. Due to permission issues from TMDB website on web queries and there responses we were not able to implement the same. We are trying to get permission for TMDB API to do the same."
      ]
    },
    {
      "cell_type": "code",
      "metadata": {
        "id": "vUAYYmJNuB7T"
      },
      "source": [
        "# !unzip '/content/drive/MyDrive/Academics/Semester 1/Foundations of Machine Learning/Project/chromedriver_linux64.zip'"
      ],
      "execution_count": null,
      "outputs": []
    },
    {
      "cell_type": "code",
      "metadata": {
        "id": "HStZ4fKHv3Fk"
      },
      "source": [
        "# !pip install selenium\n",
        "# !apt-get update # to update ubuntu to correctly run apt install\n",
        "# !apt install chromium-chromedriver\n",
        "# !cp /usr/lib/chromium-browser/chromedriver /usr/bin\n",
        "\n",
        "# import sys\n",
        "# sys.path.insert(0,'/usr/lib/chromium-browser/chromedriver')\n",
        "# from selenium import webdriver\n",
        "# chrome_options = webdriver.ChromeOptions()\n",
        "# chrome_options.add_argument('--headless')\n",
        "# chrome_options.add_argument('--no-sandbox')\n",
        "# chrome_options.add_argument('--disable-dev-shm-usage')\n",
        "# wd = webdriver.Chrome('chromedriver',chrome_options=chrome_options)\n",
        "# wd.get(\"https://www.webite-url.com\")"
      ],
      "execution_count": null,
      "outputs": []
    },
    {
      "cell_type": "code",
      "metadata": {
        "id": "yIclLsUS0kcf"
      },
      "source": [
        "# results = wd.get(\"https://www.themoviedb.org/\")"
      ],
      "execution_count": null,
      "outputs": []
    },
    {
      "cell_type": "code",
      "metadata": {
        "id": "O8NzeaZN0t6n"
      },
      "source": [
        "# print(results)"
      ],
      "execution_count": null,
      "outputs": []
    },
    {
      "cell_type": "code",
      "metadata": {
        "id": "RzwZOu7xv8FJ"
      },
      "source": [
        "# driver = webdriver.Chrome('chromedriver',chrome_options=chrome_options)"
      ],
      "execution_count": null,
      "outputs": []
    },
    {
      "cell_type": "code",
      "metadata": {
        "id": "Qz0ZVloswK2I"
      },
      "source": [
        "# search_url = \"https://www.themoviedb.org\"\n",
        "# results = driver.get(search_url)"
      ],
      "execution_count": null,
      "outputs": []
    },
    {
      "cell_type": "code",
      "metadata": {
        "id": "oQQq_qjZz7X_"
      },
      "source": [
        "# search_url= \"https://nhai.gov.in/#/tenders\"\n",
        "# results = driver.get(search_url)"
      ],
      "execution_count": null,
      "outputs": []
    },
    {
      "cell_type": "code",
      "metadata": {
        "id": "L8iHPVcazehe"
      },
      "source": [
        "# tab = driver.find_element_by_id('main')"
      ],
      "execution_count": null,
      "outputs": []
    },
    {
      "cell_type": "code",
      "metadata": {
        "id": "PgWWr1FbzM1i"
      },
      "source": [
        "# driver = driver.find_element_by_id(\"mat-option-5\")"
      ],
      "execution_count": null,
      "outputs": []
    },
    {
      "cell_type": "code",
      "metadata": {
        "id": "6gNdJJLrw11j"
      },
      "source": [
        "# from selenium.webdriver.support import expected_conditions\n",
        "# from selenium.webdriver.common.by import By\n",
        "# from selenium.webdriver.support.ui import WebDriverWait"
      ],
      "execution_count": null,
      "outputs": []
    },
    {
      "cell_type": "code",
      "metadata": {
        "id": "U7zQqaTg5QCo"
      },
      "source": [
        ""
      ],
      "execution_count": null,
      "outputs": []
    },
    {
      "cell_type": "markdown",
      "metadata": {
        "id": "YmGxRsfz9m3y"
      },
      "source": [
        "# **EDA**\n",
        "Reference for EDA code: https://www.kaggle.com/kamalchhirang/eda-feature-engineering-lgb-xgb-cat"
      ]
    },
    {
      "cell_type": "markdown",
      "metadata": {
        "id": "5ZLtpNLU9m3u"
      },
      "source": [
        "**Data Description**\n",
        "**id** - Integer unique id of each movie\n",
        "\n",
        "**belongs_to_collection** - Contains the TMDB Id, Name, Movie Poster and Backdrop URL  of a movie in JSON format. You can see the Poster and Backdrop Image like this: https://image.tmdb.org/t/p/original/<Poster_path_here>. Example: https://image.tmdb.org/t/p/original//iEhb00TGPucF0b4joM1ieyY026U.jpg\n",
        "\n",
        "**budget**:Budget of a movie in dollars. 0 values mean unknown. \n",
        "\n",
        "**genres** : Contains all the Genres Name & TMDB Id in JSON Format\n",
        "\n",
        "**homepage** - Contains the official homepage URL of a movie. Example: http://sonyclassics.com/whiplash/\t, this is the homepage of Whiplash movie.\n",
        "\n",
        "**imdb_id** - IMDB id of a movie (string). You can visit the IMDB Page like this: https://www.imdb.com/title/<imdb_id_here>\n",
        "\n",
        "**original_language** - Two digit code of the original language, in which the movie was made. Like: en = English, fr = french. \n",
        "\n",
        "**original_title** - The original title of a movie. Title & Original title may differ, if the original title is not in English. \n",
        "\n",
        "**overview** - Brief description of the movie.\n",
        "\n",
        "**popularity** -  Popularity of the movie in float. \n",
        "\n",
        "**poster_path** - Poster path of a movie. You can see the full image like this: https://image.tmdb.org/t/p/original/<Poster_path_here>\n",
        "\n",
        "**production_companies** - All production company name and TMDB id in JSON format of a movie.\n",
        "\n",
        "**production_countries** - Two digit code and full name of the production company in JSON format.\n",
        "\n",
        "**release_date** - Release date of a movie in mm/dd/yy format.\n",
        "\n",
        "**runtime** - Total runtime of a movie in minutes (Integer).\n",
        "\n",
        "**spoken_languages** - Two digit code and full name of the spoken language. \n",
        "\n",
        "**status** - Is the movie released or rumored? \n",
        "\n",
        "**tagline** - Tagline of a movie \n",
        "\n",
        "**title** - English title of a movie\n",
        "\n",
        "**Keywords** - TMDB Id and name of all the keywords in JSON format. \n",
        "\n",
        "**cast** - All cast TMDB id, name, character name, gender (1 = Female, 2 = Male) in JSON format\n",
        "\n",
        "**crew** - Name, TMDB id, profile path of various kind of crew members job like Director, Writer, Art, Sound etc. \n",
        "\n",
        "**revenue** - Total revenue earned by a movie in dollars. "
      ]
    },
    {
      "cell_type": "code",
      "metadata": {
        "colab": {
          "base_uri": "https://localhost:8080/",
          "height": 642
        },
        "id": "LfHkOnZ69m31",
        "scrolled": true,
        "outputId": "d94f305e-cdf0-4e76-c72e-c27183ecd13a"
      },
      "source": [
        "train.head()"
      ],
      "execution_count": 6,
      "outputs": [
        {
          "output_type": "execute_result",
          "data": {
            "text/html": [
              "<div>\n",
              "<style scoped>\n",
              "    .dataframe tbody tr th:only-of-type {\n",
              "        vertical-align: middle;\n",
              "    }\n",
              "\n",
              "    .dataframe tbody tr th {\n",
              "        vertical-align: top;\n",
              "    }\n",
              "\n",
              "    .dataframe thead th {\n",
              "        text-align: right;\n",
              "    }\n",
              "</style>\n",
              "<table border=\"1\" class=\"dataframe\">\n",
              "  <thead>\n",
              "    <tr style=\"text-align: right;\">\n",
              "      <th></th>\n",
              "      <th>id</th>\n",
              "      <th>belongs_to_collection</th>\n",
              "      <th>budget</th>\n",
              "      <th>genres</th>\n",
              "      <th>homepage</th>\n",
              "      <th>imdb_id</th>\n",
              "      <th>original_language</th>\n",
              "      <th>original_title</th>\n",
              "      <th>overview</th>\n",
              "      <th>popularity</th>\n",
              "      <th>poster_path</th>\n",
              "      <th>production_companies</th>\n",
              "      <th>production_countries</th>\n",
              "      <th>release_date</th>\n",
              "      <th>runtime</th>\n",
              "      <th>spoken_languages</th>\n",
              "      <th>status</th>\n",
              "      <th>tagline</th>\n",
              "      <th>title</th>\n",
              "      <th>Keywords</th>\n",
              "      <th>cast</th>\n",
              "      <th>crew</th>\n",
              "      <th>revenue</th>\n",
              "    </tr>\n",
              "  </thead>\n",
              "  <tbody>\n",
              "    <tr>\n",
              "      <th>0</th>\n",
              "      <td>1</td>\n",
              "      <td>[{'id': 313576, 'name': 'Hot Tub Time Machine ...</td>\n",
              "      <td>14000000</td>\n",
              "      <td>[{'id': 35, 'name': 'Comedy'}]</td>\n",
              "      <td>NaN</td>\n",
              "      <td>tt2637294</td>\n",
              "      <td>en</td>\n",
              "      <td>Hot Tub Time Machine 2</td>\n",
              "      <td>When Lou, who has become the \"father of the In...</td>\n",
              "      <td>6.575393</td>\n",
              "      <td>/tQtWuwvMf0hCc2QR2tkolwl7c3c.jpg</td>\n",
              "      <td>[{'name': 'Paramount Pictures', 'id': 4}, {'na...</td>\n",
              "      <td>[{'iso_3166_1': 'US', 'name': 'United States o...</td>\n",
              "      <td>2/20/15</td>\n",
              "      <td>93.0</td>\n",
              "      <td>[{'iso_639_1': 'en', 'name': 'English'}]</td>\n",
              "      <td>Released</td>\n",
              "      <td>The Laws of Space and Time are About to be Vio...</td>\n",
              "      <td>Hot Tub Time Machine 2</td>\n",
              "      <td>[{'id': 4379, 'name': 'time travel'}, {'id': 9...</td>\n",
              "      <td>[{'cast_id': 4, 'character': 'Lou', 'credit_id...</td>\n",
              "      <td>[{'credit_id': '59ac067c92514107af02c8c8', 'de...</td>\n",
              "      <td>12314651</td>\n",
              "    </tr>\n",
              "    <tr>\n",
              "      <th>1</th>\n",
              "      <td>2</td>\n",
              "      <td>[{'id': 107674, 'name': 'The Princess Diaries ...</td>\n",
              "      <td>40000000</td>\n",
              "      <td>[{'id': 35, 'name': 'Comedy'}, {'id': 18, 'nam...</td>\n",
              "      <td>NaN</td>\n",
              "      <td>tt0368933</td>\n",
              "      <td>en</td>\n",
              "      <td>The Princess Diaries 2: Royal Engagement</td>\n",
              "      <td>Mia Thermopolis is now a college graduate and ...</td>\n",
              "      <td>8.248895</td>\n",
              "      <td>/w9Z7A0GHEhIp7etpj0vyKOeU1Wx.jpg</td>\n",
              "      <td>[{'name': 'Walt Disney Pictures', 'id': 2}]</td>\n",
              "      <td>[{'iso_3166_1': 'US', 'name': 'United States o...</td>\n",
              "      <td>8/6/04</td>\n",
              "      <td>113.0</td>\n",
              "      <td>[{'iso_639_1': 'en', 'name': 'English'}]</td>\n",
              "      <td>Released</td>\n",
              "      <td>It can take a lifetime to find true love; she'...</td>\n",
              "      <td>The Princess Diaries 2: Royal Engagement</td>\n",
              "      <td>[{'id': 2505, 'name': 'coronation'}, {'id': 42...</td>\n",
              "      <td>[{'cast_id': 1, 'character': 'Mia Thermopolis'...</td>\n",
              "      <td>[{'credit_id': '52fe43fe9251416c7502563d', 'de...</td>\n",
              "      <td>95149435</td>\n",
              "    </tr>\n",
              "    <tr>\n",
              "      <th>2</th>\n",
              "      <td>3</td>\n",
              "      <td>NaN</td>\n",
              "      <td>3300000</td>\n",
              "      <td>[{'id': 18, 'name': 'Drama'}]</td>\n",
              "      <td>http://sonyclassics.com/whiplash/</td>\n",
              "      <td>tt2582802</td>\n",
              "      <td>en</td>\n",
              "      <td>Whiplash</td>\n",
              "      <td>Under the direction of a ruthless instructor, ...</td>\n",
              "      <td>64.299990</td>\n",
              "      <td>/lIv1QinFqz4dlp5U4lQ6HaiskOZ.jpg</td>\n",
              "      <td>[{'name': 'Bold Films', 'id': 2266}, {'name': ...</td>\n",
              "      <td>[{'iso_3166_1': 'US', 'name': 'United States o...</td>\n",
              "      <td>10/10/14</td>\n",
              "      <td>105.0</td>\n",
              "      <td>[{'iso_639_1': 'en', 'name': 'English'}]</td>\n",
              "      <td>Released</td>\n",
              "      <td>The road to greatness can take you to the edge.</td>\n",
              "      <td>Whiplash</td>\n",
              "      <td>[{'id': 1416, 'name': 'jazz'}, {'id': 1523, 'n...</td>\n",
              "      <td>[{'cast_id': 5, 'character': 'Andrew Neimann',...</td>\n",
              "      <td>[{'credit_id': '54d5356ec3a3683ba0000039', 'de...</td>\n",
              "      <td>13092000</td>\n",
              "    </tr>\n",
              "    <tr>\n",
              "      <th>3</th>\n",
              "      <td>4</td>\n",
              "      <td>NaN</td>\n",
              "      <td>1200000</td>\n",
              "      <td>[{'id': 53, 'name': 'Thriller'}, {'id': 18, 'n...</td>\n",
              "      <td>http://kahaanithefilm.com/</td>\n",
              "      <td>tt1821480</td>\n",
              "      <td>hi</td>\n",
              "      <td>Kahaani</td>\n",
              "      <td>Vidya Bagchi (Vidya Balan) arrives in Kolkata ...</td>\n",
              "      <td>3.174936</td>\n",
              "      <td>/aTXRaPrWSinhcmCrcfJK17urp3F.jpg</td>\n",
              "      <td>NaN</td>\n",
              "      <td>[{'iso_3166_1': 'IN', 'name': 'India'}]</td>\n",
              "      <td>3/9/12</td>\n",
              "      <td>122.0</td>\n",
              "      <td>[{'iso_639_1': 'en', 'name': 'English'}, {'iso...</td>\n",
              "      <td>Released</td>\n",
              "      <td>NaN</td>\n",
              "      <td>Kahaani</td>\n",
              "      <td>[{'id': 10092, 'name': 'mystery'}, {'id': 1054...</td>\n",
              "      <td>[{'cast_id': 1, 'character': 'Vidya Bagchi', '...</td>\n",
              "      <td>[{'credit_id': '52fe48779251416c9108d6eb', 'de...</td>\n",
              "      <td>16000000</td>\n",
              "    </tr>\n",
              "    <tr>\n",
              "      <th>4</th>\n",
              "      <td>5</td>\n",
              "      <td>NaN</td>\n",
              "      <td>0</td>\n",
              "      <td>[{'id': 28, 'name': 'Action'}, {'id': 53, 'nam...</td>\n",
              "      <td>NaN</td>\n",
              "      <td>tt1380152</td>\n",
              "      <td>ko</td>\n",
              "      <td>마린보이</td>\n",
              "      <td>Marine Boy is the story of a former national s...</td>\n",
              "      <td>1.148070</td>\n",
              "      <td>/m22s7zvkVFDU9ir56PiiqIEWFdT.jpg</td>\n",
              "      <td>NaN</td>\n",
              "      <td>[{'iso_3166_1': 'KR', 'name': 'South Korea'}]</td>\n",
              "      <td>2/5/09</td>\n",
              "      <td>118.0</td>\n",
              "      <td>[{'iso_639_1': 'ko', 'name': '한국어/조선말'}]</td>\n",
              "      <td>Released</td>\n",
              "      <td>NaN</td>\n",
              "      <td>Marine Boy</td>\n",
              "      <td>NaN</td>\n",
              "      <td>[{'cast_id': 3, 'character': 'Chun-soo', 'cred...</td>\n",
              "      <td>[{'credit_id': '52fe464b9251416c75073b43', 'de...</td>\n",
              "      <td>3923970</td>\n",
              "    </tr>\n",
              "  </tbody>\n",
              "</table>\n",
              "</div>"
            ],
            "text/plain": [
              "   id  ...   revenue\n",
              "0   1  ...  12314651\n",
              "1   2  ...  95149435\n",
              "2   3  ...  13092000\n",
              "3   4  ...  16000000\n",
              "4   5  ...   3923970\n",
              "\n",
              "[5 rows x 23 columns]"
            ]
          },
          "metadata": {},
          "execution_count": 6
        }
      ]
    },
    {
      "cell_type": "code",
      "metadata": {
        "colab": {
          "base_uri": "https://localhost:8080/",
          "height": 625
        },
        "id": "__1ghIuO9m34",
        "outputId": "38b7b7f5-5b60-4328-e1ea-65d5b0d41015"
      },
      "source": [
        "test.head()"
      ],
      "execution_count": 7,
      "outputs": [
        {
          "output_type": "execute_result",
          "data": {
            "text/html": [
              "<div>\n",
              "<style scoped>\n",
              "    .dataframe tbody tr th:only-of-type {\n",
              "        vertical-align: middle;\n",
              "    }\n",
              "\n",
              "    .dataframe tbody tr th {\n",
              "        vertical-align: top;\n",
              "    }\n",
              "\n",
              "    .dataframe thead th {\n",
              "        text-align: right;\n",
              "    }\n",
              "</style>\n",
              "<table border=\"1\" class=\"dataframe\">\n",
              "  <thead>\n",
              "    <tr style=\"text-align: right;\">\n",
              "      <th></th>\n",
              "      <th>id</th>\n",
              "      <th>belongs_to_collection</th>\n",
              "      <th>budget</th>\n",
              "      <th>genres</th>\n",
              "      <th>homepage</th>\n",
              "      <th>imdb_id</th>\n",
              "      <th>original_language</th>\n",
              "      <th>original_title</th>\n",
              "      <th>overview</th>\n",
              "      <th>popularity</th>\n",
              "      <th>poster_path</th>\n",
              "      <th>production_companies</th>\n",
              "      <th>production_countries</th>\n",
              "      <th>release_date</th>\n",
              "      <th>runtime</th>\n",
              "      <th>spoken_languages</th>\n",
              "      <th>status</th>\n",
              "      <th>tagline</th>\n",
              "      <th>title</th>\n",
              "      <th>Keywords</th>\n",
              "      <th>cast</th>\n",
              "      <th>crew</th>\n",
              "    </tr>\n",
              "  </thead>\n",
              "  <tbody>\n",
              "    <tr>\n",
              "      <th>0</th>\n",
              "      <td>3001</td>\n",
              "      <td>[{'id': 34055, 'name': 'Pokémon Collection', '...</td>\n",
              "      <td>0</td>\n",
              "      <td>[{'id': 12, 'name': 'Adventure'}, {'id': 16, '...</td>\n",
              "      <td>http://www.pokemon.com/us/movies/movie-pokemon...</td>\n",
              "      <td>tt1226251</td>\n",
              "      <td>ja</td>\n",
              "      <td>ディアルガVSパルキアVSダークライ</td>\n",
              "      <td>Ash and friends (this time accompanied by newc...</td>\n",
              "      <td>3.851534</td>\n",
              "      <td>/tnftmLMemPLduW6MRyZE0ZUD19z.jpg</td>\n",
              "      <td>NaN</td>\n",
              "      <td>[{'iso_3166_1': 'JP', 'name': 'Japan'}, {'iso_...</td>\n",
              "      <td>7/14/07</td>\n",
              "      <td>90.0</td>\n",
              "      <td>[{'iso_639_1': 'en', 'name': 'English'}, {'iso...</td>\n",
              "      <td>Released</td>\n",
              "      <td>Somewhere Between Time &amp; Space... A Legend Is ...</td>\n",
              "      <td>Pokémon: The Rise of Darkrai</td>\n",
              "      <td>[{'id': 11451, 'name': 'pok√©mon'}, {'id': 115...</td>\n",
              "      <td>[{'cast_id': 3, 'character': 'Tonio', 'credit_...</td>\n",
              "      <td>[{'credit_id': '52fe44e7c3a368484e03d683', 'de...</td>\n",
              "    </tr>\n",
              "    <tr>\n",
              "      <th>1</th>\n",
              "      <td>3002</td>\n",
              "      <td>NaN</td>\n",
              "      <td>88000</td>\n",
              "      <td>[{'id': 27, 'name': 'Horror'}, {'id': 878, 'na...</td>\n",
              "      <td>NaN</td>\n",
              "      <td>tt0051380</td>\n",
              "      <td>en</td>\n",
              "      <td>Attack of the 50 Foot Woman</td>\n",
              "      <td>When an abused wife grows to giant size becaus...</td>\n",
              "      <td>3.559789</td>\n",
              "      <td>/9MgBNBqlH1sG4yG2u4XkwI5CoJa.jpg</td>\n",
              "      <td>[{'name': 'Woolner Brothers Pictures Inc.', 'i...</td>\n",
              "      <td>[{'iso_3166_1': 'US', 'name': 'United States o...</td>\n",
              "      <td>5/19/58</td>\n",
              "      <td>65.0</td>\n",
              "      <td>[{'iso_639_1': 'en', 'name': 'English'}]</td>\n",
              "      <td>Released</td>\n",
              "      <td>A titanic beauty spreads a macabre wave of hor...</td>\n",
              "      <td>Attack of the 50 Foot Woman</td>\n",
              "      <td>[{'id': 9748, 'name': 'revenge'}, {'id': 9951,...</td>\n",
              "      <td>[{'cast_id': 2, 'character': 'Nancy Fowler Arc...</td>\n",
              "      <td>[{'credit_id': '55807805c3a3685b1300060b', 'de...</td>\n",
              "    </tr>\n",
              "    <tr>\n",
              "      <th>2</th>\n",
              "      <td>3003</td>\n",
              "      <td>NaN</td>\n",
              "      <td>0</td>\n",
              "      <td>[{'id': 35, 'name': 'Comedy'}, {'id': 10749, '...</td>\n",
              "      <td>NaN</td>\n",
              "      <td>tt0118556</td>\n",
              "      <td>en</td>\n",
              "      <td>Addicted to Love</td>\n",
              "      <td>Good-natured astronomer Sam is devastated when...</td>\n",
              "      <td>8.085194</td>\n",
              "      <td>/ed6nD7h9sbojSWY2qrnDcSvDFko.jpg</td>\n",
              "      <td>[{'name': 'Warner Bros.', 'id': 6194}, {'name'...</td>\n",
              "      <td>[{'iso_3166_1': 'US', 'name': 'United States o...</td>\n",
              "      <td>5/23/97</td>\n",
              "      <td>100.0</td>\n",
              "      <td>[{'iso_639_1': 'en', 'name': 'English'}]</td>\n",
              "      <td>Released</td>\n",
              "      <td>A Comedy About Lost Loves And Last Laughs</td>\n",
              "      <td>Addicted to Love</td>\n",
              "      <td>[{'id': 931, 'name': 'jealousy'}, {'id': 9673,...</td>\n",
              "      <td>[{'cast_id': 11, 'character': 'Maggie', 'credi...</td>\n",
              "      <td>[{'credit_id': '52fe4330c3a36847f8041367', 'de...</td>\n",
              "    </tr>\n",
              "    <tr>\n",
              "      <th>3</th>\n",
              "      <td>3004</td>\n",
              "      <td>NaN</td>\n",
              "      <td>6800000</td>\n",
              "      <td>[{'id': 18, 'name': 'Drama'}, {'id': 10752, 'n...</td>\n",
              "      <td>http://www.sonyclassics.com/incendies/</td>\n",
              "      <td>tt1255953</td>\n",
              "      <td>fr</td>\n",
              "      <td>Incendies</td>\n",
              "      <td>A mother's last wishes send twins Jeanne and S...</td>\n",
              "      <td>8.596012</td>\n",
              "      <td>/sEUG3qjxwHjxkzuO7plrRHhOZUH.jpg</td>\n",
              "      <td>[{'name': 'TS Productions', 'id': 313}, {'name...</td>\n",
              "      <td>[{'iso_3166_1': 'CA', 'name': 'Canada'}, {'iso...</td>\n",
              "      <td>9/4/10</td>\n",
              "      <td>130.0</td>\n",
              "      <td>[{'iso_639_1': 'fr', 'name': 'Français'}, {'is...</td>\n",
              "      <td>Released</td>\n",
              "      <td>The search began at the opening of their mothe...</td>\n",
              "      <td>Incendies</td>\n",
              "      <td>[{'id': 378, 'name': 'prison'}, {'id': 539, 'n...</td>\n",
              "      <td>[{'cast_id': 6, 'character': 'Nawal', 'credit_...</td>\n",
              "      <td>[{'credit_id': '56478092c3a36826140043af', 'de...</td>\n",
              "    </tr>\n",
              "    <tr>\n",
              "      <th>4</th>\n",
              "      <td>3005</td>\n",
              "      <td>NaN</td>\n",
              "      <td>2000000</td>\n",
              "      <td>[{'id': 36, 'name': 'History'}, {'id': 99, 'na...</td>\n",
              "      <td>NaN</td>\n",
              "      <td>tt0418753</td>\n",
              "      <td>en</td>\n",
              "      <td>Inside Deep Throat</td>\n",
              "      <td>In 1972, a seemingly typical shoestring budget...</td>\n",
              "      <td>3.217680</td>\n",
              "      <td>/n4WC3zbelz6SG7rhkWbf8m9pMHB.jpg</td>\n",
              "      <td>NaN</td>\n",
              "      <td>[{'iso_3166_1': 'US', 'name': 'United States o...</td>\n",
              "      <td>2/11/05</td>\n",
              "      <td>92.0</td>\n",
              "      <td>[{'iso_639_1': 'en', 'name': 'English'}]</td>\n",
              "      <td>Released</td>\n",
              "      <td>It was filmed in 6 days for 25 thousand dollar...</td>\n",
              "      <td>Inside Deep Throat</td>\n",
              "      <td>[{'id': 279, 'name': 'usa'}, {'id': 1228, 'nam...</td>\n",
              "      <td>[{'cast_id': 1, 'character': 'Narrator (voice)...</td>\n",
              "      <td>[{'credit_id': '52fe44ce9251416c75041967', 'de...</td>\n",
              "    </tr>\n",
              "  </tbody>\n",
              "</table>\n",
              "</div>"
            ],
            "text/plain": [
              "     id  ...                                               crew\n",
              "0  3001  ...  [{'credit_id': '52fe44e7c3a368484e03d683', 'de...\n",
              "1  3002  ...  [{'credit_id': '55807805c3a3685b1300060b', 'de...\n",
              "2  3003  ...  [{'credit_id': '52fe4330c3a36847f8041367', 'de...\n",
              "3  3004  ...  [{'credit_id': '56478092c3a36826140043af', 'de...\n",
              "4  3005  ...  [{'credit_id': '52fe44ce9251416c75041967', 'de...\n",
              "\n",
              "[5 rows x 22 columns]"
            ]
          },
          "metadata": {},
          "execution_count": 7
        }
      ]
    },
    {
      "cell_type": "code",
      "metadata": {
        "colab": {
          "base_uri": "https://localhost:8080/",
          "height": 501
        },
        "id": "aj0ncZuf9m36",
        "outputId": "7537c5ce-95b5-4b9d-9bdc-d9d64dfd4ef3"
      },
      "source": [
        "train.describe(include='all')"
      ],
      "execution_count": 8,
      "outputs": [
        {
          "output_type": "execute_result",
          "data": {
            "text/html": [
              "<div>\n",
              "<style scoped>\n",
              "    .dataframe tbody tr th:only-of-type {\n",
              "        vertical-align: middle;\n",
              "    }\n",
              "\n",
              "    .dataframe tbody tr th {\n",
              "        vertical-align: top;\n",
              "    }\n",
              "\n",
              "    .dataframe thead th {\n",
              "        text-align: right;\n",
              "    }\n",
              "</style>\n",
              "<table border=\"1\" class=\"dataframe\">\n",
              "  <thead>\n",
              "    <tr style=\"text-align: right;\">\n",
              "      <th></th>\n",
              "      <th>id</th>\n",
              "      <th>belongs_to_collection</th>\n",
              "      <th>budget</th>\n",
              "      <th>genres</th>\n",
              "      <th>homepage</th>\n",
              "      <th>imdb_id</th>\n",
              "      <th>original_language</th>\n",
              "      <th>original_title</th>\n",
              "      <th>overview</th>\n",
              "      <th>popularity</th>\n",
              "      <th>poster_path</th>\n",
              "      <th>production_companies</th>\n",
              "      <th>production_countries</th>\n",
              "      <th>release_date</th>\n",
              "      <th>runtime</th>\n",
              "      <th>spoken_languages</th>\n",
              "      <th>status</th>\n",
              "      <th>tagline</th>\n",
              "      <th>title</th>\n",
              "      <th>Keywords</th>\n",
              "      <th>cast</th>\n",
              "      <th>crew</th>\n",
              "      <th>revenue</th>\n",
              "    </tr>\n",
              "  </thead>\n",
              "  <tbody>\n",
              "    <tr>\n",
              "      <th>count</th>\n",
              "      <td>3000.000000</td>\n",
              "      <td>604</td>\n",
              "      <td>3.000000e+03</td>\n",
              "      <td>2993</td>\n",
              "      <td>946</td>\n",
              "      <td>3000</td>\n",
              "      <td>3000</td>\n",
              "      <td>3000</td>\n",
              "      <td>2992</td>\n",
              "      <td>3000.000000</td>\n",
              "      <td>2999</td>\n",
              "      <td>2844</td>\n",
              "      <td>2945</td>\n",
              "      <td>3000</td>\n",
              "      <td>2998.000000</td>\n",
              "      <td>2980</td>\n",
              "      <td>3000</td>\n",
              "      <td>2403</td>\n",
              "      <td>3000</td>\n",
              "      <td>2724</td>\n",
              "      <td>2987</td>\n",
              "      <td>2984</td>\n",
              "      <td>3.000000e+03</td>\n",
              "    </tr>\n",
              "    <tr>\n",
              "      <th>unique</th>\n",
              "      <td>NaN</td>\n",
              "      <td>422</td>\n",
              "      <td>NaN</td>\n",
              "      <td>872</td>\n",
              "      <td>941</td>\n",
              "      <td>3000</td>\n",
              "      <td>36</td>\n",
              "      <td>2975</td>\n",
              "      <td>2992</td>\n",
              "      <td>NaN</td>\n",
              "      <td>2999</td>\n",
              "      <td>2383</td>\n",
              "      <td>321</td>\n",
              "      <td>2398</td>\n",
              "      <td>NaN</td>\n",
              "      <td>401</td>\n",
              "      <td>2</td>\n",
              "      <td>2400</td>\n",
              "      <td>2969</td>\n",
              "      <td>2648</td>\n",
              "      <td>2975</td>\n",
              "      <td>2984</td>\n",
              "      <td>NaN</td>\n",
              "    </tr>\n",
              "    <tr>\n",
              "      <th>top</th>\n",
              "      <td>NaN</td>\n",
              "      <td>[{'id': 645, 'name': 'James Bond Collection', ...</td>\n",
              "      <td>NaN</td>\n",
              "      <td>[{'id': 18, 'name': 'Drama'}]</td>\n",
              "      <td>http://www.transformersmovie.com/</td>\n",
              "      <td>tt1815862</td>\n",
              "      <td>en</td>\n",
              "      <td>Black Sheep</td>\n",
              "      <td>An exploration of the United States of America...</td>\n",
              "      <td>NaN</td>\n",
              "      <td>/4WZPn7zUf8rNSPSbDMvNGK3ebCy.jpg</td>\n",
              "      <td>[{'name': 'Paramount Pictures', 'id': 4}]</td>\n",
              "      <td>[{'iso_3166_1': 'US', 'name': 'United States o...</td>\n",
              "      <td>9/10/15</td>\n",
              "      <td>NaN</td>\n",
              "      <td>[{'iso_639_1': 'en', 'name': 'English'}]</td>\n",
              "      <td>Released</td>\n",
              "      <td>Based on a true story.</td>\n",
              "      <td>Black Sheep</td>\n",
              "      <td>[{'id': 10183, 'name': 'independent film'}]</td>\n",
              "      <td>[]</td>\n",
              "      <td>[{'credit_id': '52fe4e08c3a36847f827a303', 'de...</td>\n",
              "      <td>NaN</td>\n",
              "    </tr>\n",
              "    <tr>\n",
              "      <th>freq</th>\n",
              "      <td>NaN</td>\n",
              "      <td>16</td>\n",
              "      <td>NaN</td>\n",
              "      <td>266</td>\n",
              "      <td>4</td>\n",
              "      <td>1</td>\n",
              "      <td>2575</td>\n",
              "      <td>2</td>\n",
              "      <td>1</td>\n",
              "      <td>NaN</td>\n",
              "      <td>1</td>\n",
              "      <td>51</td>\n",
              "      <td>1752</td>\n",
              "      <td>5</td>\n",
              "      <td>NaN</td>\n",
              "      <td>1817</td>\n",
              "      <td>2996</td>\n",
              "      <td>3</td>\n",
              "      <td>2</td>\n",
              "      <td>27</td>\n",
              "      <td>13</td>\n",
              "      <td>1</td>\n",
              "      <td>NaN</td>\n",
              "    </tr>\n",
              "    <tr>\n",
              "      <th>mean</th>\n",
              "      <td>1500.500000</td>\n",
              "      <td>NaN</td>\n",
              "      <td>2.253133e+07</td>\n",
              "      <td>NaN</td>\n",
              "      <td>NaN</td>\n",
              "      <td>NaN</td>\n",
              "      <td>NaN</td>\n",
              "      <td>NaN</td>\n",
              "      <td>NaN</td>\n",
              "      <td>8.463274</td>\n",
              "      <td>NaN</td>\n",
              "      <td>NaN</td>\n",
              "      <td>NaN</td>\n",
              "      <td>NaN</td>\n",
              "      <td>107.856571</td>\n",
              "      <td>NaN</td>\n",
              "      <td>NaN</td>\n",
              "      <td>NaN</td>\n",
              "      <td>NaN</td>\n",
              "      <td>NaN</td>\n",
              "      <td>NaN</td>\n",
              "      <td>NaN</td>\n",
              "      <td>6.672585e+07</td>\n",
              "    </tr>\n",
              "    <tr>\n",
              "      <th>std</th>\n",
              "      <td>866.169729</td>\n",
              "      <td>NaN</td>\n",
              "      <td>3.702609e+07</td>\n",
              "      <td>NaN</td>\n",
              "      <td>NaN</td>\n",
              "      <td>NaN</td>\n",
              "      <td>NaN</td>\n",
              "      <td>NaN</td>\n",
              "      <td>NaN</td>\n",
              "      <td>12.104000</td>\n",
              "      <td>NaN</td>\n",
              "      <td>NaN</td>\n",
              "      <td>NaN</td>\n",
              "      <td>NaN</td>\n",
              "      <td>22.086434</td>\n",
              "      <td>NaN</td>\n",
              "      <td>NaN</td>\n",
              "      <td>NaN</td>\n",
              "      <td>NaN</td>\n",
              "      <td>NaN</td>\n",
              "      <td>NaN</td>\n",
              "      <td>NaN</td>\n",
              "      <td>1.375323e+08</td>\n",
              "    </tr>\n",
              "    <tr>\n",
              "      <th>min</th>\n",
              "      <td>1.000000</td>\n",
              "      <td>NaN</td>\n",
              "      <td>0.000000e+00</td>\n",
              "      <td>NaN</td>\n",
              "      <td>NaN</td>\n",
              "      <td>NaN</td>\n",
              "      <td>NaN</td>\n",
              "      <td>NaN</td>\n",
              "      <td>NaN</td>\n",
              "      <td>0.000001</td>\n",
              "      <td>NaN</td>\n",
              "      <td>NaN</td>\n",
              "      <td>NaN</td>\n",
              "      <td>NaN</td>\n",
              "      <td>0.000000</td>\n",
              "      <td>NaN</td>\n",
              "      <td>NaN</td>\n",
              "      <td>NaN</td>\n",
              "      <td>NaN</td>\n",
              "      <td>NaN</td>\n",
              "      <td>NaN</td>\n",
              "      <td>NaN</td>\n",
              "      <td>1.000000e+00</td>\n",
              "    </tr>\n",
              "    <tr>\n",
              "      <th>25%</th>\n",
              "      <td>750.750000</td>\n",
              "      <td>NaN</td>\n",
              "      <td>0.000000e+00</td>\n",
              "      <td>NaN</td>\n",
              "      <td>NaN</td>\n",
              "      <td>NaN</td>\n",
              "      <td>NaN</td>\n",
              "      <td>NaN</td>\n",
              "      <td>NaN</td>\n",
              "      <td>4.018053</td>\n",
              "      <td>NaN</td>\n",
              "      <td>NaN</td>\n",
              "      <td>NaN</td>\n",
              "      <td>NaN</td>\n",
              "      <td>94.000000</td>\n",
              "      <td>NaN</td>\n",
              "      <td>NaN</td>\n",
              "      <td>NaN</td>\n",
              "      <td>NaN</td>\n",
              "      <td>NaN</td>\n",
              "      <td>NaN</td>\n",
              "      <td>NaN</td>\n",
              "      <td>2.379808e+06</td>\n",
              "    </tr>\n",
              "    <tr>\n",
              "      <th>50%</th>\n",
              "      <td>1500.500000</td>\n",
              "      <td>NaN</td>\n",
              "      <td>8.000000e+06</td>\n",
              "      <td>NaN</td>\n",
              "      <td>NaN</td>\n",
              "      <td>NaN</td>\n",
              "      <td>NaN</td>\n",
              "      <td>NaN</td>\n",
              "      <td>NaN</td>\n",
              "      <td>7.374861</td>\n",
              "      <td>NaN</td>\n",
              "      <td>NaN</td>\n",
              "      <td>NaN</td>\n",
              "      <td>NaN</td>\n",
              "      <td>104.000000</td>\n",
              "      <td>NaN</td>\n",
              "      <td>NaN</td>\n",
              "      <td>NaN</td>\n",
              "      <td>NaN</td>\n",
              "      <td>NaN</td>\n",
              "      <td>NaN</td>\n",
              "      <td>NaN</td>\n",
              "      <td>1.680707e+07</td>\n",
              "    </tr>\n",
              "    <tr>\n",
              "      <th>75%</th>\n",
              "      <td>2250.250000</td>\n",
              "      <td>NaN</td>\n",
              "      <td>2.900000e+07</td>\n",
              "      <td>NaN</td>\n",
              "      <td>NaN</td>\n",
              "      <td>NaN</td>\n",
              "      <td>NaN</td>\n",
              "      <td>NaN</td>\n",
              "      <td>NaN</td>\n",
              "      <td>10.890983</td>\n",
              "      <td>NaN</td>\n",
              "      <td>NaN</td>\n",
              "      <td>NaN</td>\n",
              "      <td>NaN</td>\n",
              "      <td>118.000000</td>\n",
              "      <td>NaN</td>\n",
              "      <td>NaN</td>\n",
              "      <td>NaN</td>\n",
              "      <td>NaN</td>\n",
              "      <td>NaN</td>\n",
              "      <td>NaN</td>\n",
              "      <td>NaN</td>\n",
              "      <td>6.891920e+07</td>\n",
              "    </tr>\n",
              "    <tr>\n",
              "      <th>max</th>\n",
              "      <td>3000.000000</td>\n",
              "      <td>NaN</td>\n",
              "      <td>3.800000e+08</td>\n",
              "      <td>NaN</td>\n",
              "      <td>NaN</td>\n",
              "      <td>NaN</td>\n",
              "      <td>NaN</td>\n",
              "      <td>NaN</td>\n",
              "      <td>NaN</td>\n",
              "      <td>294.337037</td>\n",
              "      <td>NaN</td>\n",
              "      <td>NaN</td>\n",
              "      <td>NaN</td>\n",
              "      <td>NaN</td>\n",
              "      <td>338.000000</td>\n",
              "      <td>NaN</td>\n",
              "      <td>NaN</td>\n",
              "      <td>NaN</td>\n",
              "      <td>NaN</td>\n",
              "      <td>NaN</td>\n",
              "      <td>NaN</td>\n",
              "      <td>NaN</td>\n",
              "      <td>1.519558e+09</td>\n",
              "    </tr>\n",
              "  </tbody>\n",
              "</table>\n",
              "</div>"
            ],
            "text/plain": [
              "                 id  ...       revenue\n",
              "count   3000.000000  ...  3.000000e+03\n",
              "unique          NaN  ...           NaN\n",
              "top             NaN  ...           NaN\n",
              "freq            NaN  ...           NaN\n",
              "mean    1500.500000  ...  6.672585e+07\n",
              "std      866.169729  ...  1.375323e+08\n",
              "min        1.000000  ...  1.000000e+00\n",
              "25%      750.750000  ...  2.379808e+06\n",
              "50%     1500.500000  ...  1.680707e+07\n",
              "75%     2250.250000  ...  6.891920e+07\n",
              "max     3000.000000  ...  1.519558e+09\n",
              "\n",
              "[11 rows x 23 columns]"
            ]
          },
          "metadata": {},
          "execution_count": 8
        }
      ]
    },
    {
      "cell_type": "code",
      "metadata": {
        "colab": {
          "base_uri": "https://localhost:8080/",
          "height": 501
        },
        "id": "myflZyxV9m38",
        "outputId": "2a709baf-569f-4a96-d6c1-06d92da8cdca"
      },
      "source": [
        "test.describe(include='all')"
      ],
      "execution_count": 9,
      "outputs": [
        {
          "output_type": "execute_result",
          "data": {
            "text/html": [
              "<div>\n",
              "<style scoped>\n",
              "    .dataframe tbody tr th:only-of-type {\n",
              "        vertical-align: middle;\n",
              "    }\n",
              "\n",
              "    .dataframe tbody tr th {\n",
              "        vertical-align: top;\n",
              "    }\n",
              "\n",
              "    .dataframe thead th {\n",
              "        text-align: right;\n",
              "    }\n",
              "</style>\n",
              "<table border=\"1\" class=\"dataframe\">\n",
              "  <thead>\n",
              "    <tr style=\"text-align: right;\">\n",
              "      <th></th>\n",
              "      <th>id</th>\n",
              "      <th>belongs_to_collection</th>\n",
              "      <th>budget</th>\n",
              "      <th>genres</th>\n",
              "      <th>homepage</th>\n",
              "      <th>imdb_id</th>\n",
              "      <th>original_language</th>\n",
              "      <th>original_title</th>\n",
              "      <th>overview</th>\n",
              "      <th>popularity</th>\n",
              "      <th>poster_path</th>\n",
              "      <th>production_companies</th>\n",
              "      <th>production_countries</th>\n",
              "      <th>release_date</th>\n",
              "      <th>runtime</th>\n",
              "      <th>spoken_languages</th>\n",
              "      <th>status</th>\n",
              "      <th>tagline</th>\n",
              "      <th>title</th>\n",
              "      <th>Keywords</th>\n",
              "      <th>cast</th>\n",
              "      <th>crew</th>\n",
              "    </tr>\n",
              "  </thead>\n",
              "  <tbody>\n",
              "    <tr>\n",
              "      <th>count</th>\n",
              "      <td>4398.000000</td>\n",
              "      <td>877</td>\n",
              "      <td>4.398000e+03</td>\n",
              "      <td>4382</td>\n",
              "      <td>1420</td>\n",
              "      <td>4398</td>\n",
              "      <td>4398</td>\n",
              "      <td>4398</td>\n",
              "      <td>4384</td>\n",
              "      <td>4398.000000</td>\n",
              "      <td>4397</td>\n",
              "      <td>4140</td>\n",
              "      <td>4296</td>\n",
              "      <td>4397</td>\n",
              "      <td>4394.000000</td>\n",
              "      <td>4356</td>\n",
              "      <td>4396</td>\n",
              "      <td>3535</td>\n",
              "      <td>4395</td>\n",
              "      <td>4005</td>\n",
              "      <td>4385</td>\n",
              "      <td>4376</td>\n",
              "    </tr>\n",
              "    <tr>\n",
              "      <th>unique</th>\n",
              "      <td>NaN</td>\n",
              "      <td>556</td>\n",
              "      <td>NaN</td>\n",
              "      <td>1101</td>\n",
              "      <td>1402</td>\n",
              "      <td>4398</td>\n",
              "      <td>39</td>\n",
              "      <td>4353</td>\n",
              "      <td>4383</td>\n",
              "      <td>NaN</td>\n",
              "      <td>4397</td>\n",
              "      <td>3366</td>\n",
              "      <td>458</td>\n",
              "      <td>3289</td>\n",
              "      <td>NaN</td>\n",
              "      <td>526</td>\n",
              "      <td>3</td>\n",
              "      <td>3529</td>\n",
              "      <td>4342</td>\n",
              "      <td>3885</td>\n",
              "      <td>4365</td>\n",
              "      <td>4376</td>\n",
              "    </tr>\n",
              "    <tr>\n",
              "      <th>top</th>\n",
              "      <td>NaN</td>\n",
              "      <td>[{'id': 645, 'name': 'James Bond Collection', ...</td>\n",
              "      <td>NaN</td>\n",
              "      <td>[{'id': 18, 'name': 'Drama'}]</td>\n",
              "      <td>http://www.thehungergames.movie/</td>\n",
              "      <td>tt0268126</td>\n",
              "      <td>en</td>\n",
              "      <td>Night of the Living Dead</td>\n",
              "      <td>No overview found.</td>\n",
              "      <td>NaN</td>\n",
              "      <td>/8oeFZFiD7qFkfBXXAJZTMQzdayQ.jpg</td>\n",
              "      <td>[{'name': 'Paramount Pictures', 'id': 4}]</td>\n",
              "      <td>[{'iso_3166_1': 'US', 'name': 'United States o...</td>\n",
              "      <td>9/9/11</td>\n",
              "      <td>NaN</td>\n",
              "      <td>[{'iso_639_1': 'en', 'name': 'English'}]</td>\n",
              "      <td>Released</td>\n",
              "      <td>What could go wrong?</td>\n",
              "      <td>The Girl with the Dragon Tattoo</td>\n",
              "      <td>[{'id': 187056, 'name': 'woman director'}]</td>\n",
              "      <td>[]</td>\n",
              "      <td>[{'credit_id': '52fe436cc3a36847f8053125', 'de...</td>\n",
              "    </tr>\n",
              "    <tr>\n",
              "      <th>freq</th>\n",
              "      <td>NaN</td>\n",
              "      <td>10</td>\n",
              "      <td>NaN</td>\n",
              "      <td>348</td>\n",
              "      <td>3</td>\n",
              "      <td>1</td>\n",
              "      <td>3776</td>\n",
              "      <td>2</td>\n",
              "      <td>2</td>\n",
              "      <td>NaN</td>\n",
              "      <td>1</td>\n",
              "      <td>72</td>\n",
              "      <td>2587</td>\n",
              "      <td>7</td>\n",
              "      <td>NaN</td>\n",
              "      <td>2704</td>\n",
              "      <td>4389</td>\n",
              "      <td>2</td>\n",
              "      <td>2</td>\n",
              "      <td>30</td>\n",
              "      <td>21</td>\n",
              "      <td>1</td>\n",
              "    </tr>\n",
              "    <tr>\n",
              "      <th>mean</th>\n",
              "      <td>5199.500000</td>\n",
              "      <td>NaN</td>\n",
              "      <td>2.264929e+07</td>\n",
              "      <td>NaN</td>\n",
              "      <td>NaN</td>\n",
              "      <td>NaN</td>\n",
              "      <td>NaN</td>\n",
              "      <td>NaN</td>\n",
              "      <td>NaN</td>\n",
              "      <td>8.550230</td>\n",
              "      <td>NaN</td>\n",
              "      <td>NaN</td>\n",
              "      <td>NaN</td>\n",
              "      <td>NaN</td>\n",
              "      <td>107.622212</td>\n",
              "      <td>NaN</td>\n",
              "      <td>NaN</td>\n",
              "      <td>NaN</td>\n",
              "      <td>NaN</td>\n",
              "      <td>NaN</td>\n",
              "      <td>NaN</td>\n",
              "      <td>NaN</td>\n",
              "    </tr>\n",
              "    <tr>\n",
              "      <th>std</th>\n",
              "      <td>1269.737571</td>\n",
              "      <td>NaN</td>\n",
              "      <td>3.689991e+07</td>\n",
              "      <td>NaN</td>\n",
              "      <td>NaN</td>\n",
              "      <td>NaN</td>\n",
              "      <td>NaN</td>\n",
              "      <td>NaN</td>\n",
              "      <td>NaN</td>\n",
              "      <td>12.209014</td>\n",
              "      <td>NaN</td>\n",
              "      <td>NaN</td>\n",
              "      <td>NaN</td>\n",
              "      <td>NaN</td>\n",
              "      <td>21.058290</td>\n",
              "      <td>NaN</td>\n",
              "      <td>NaN</td>\n",
              "      <td>NaN</td>\n",
              "      <td>NaN</td>\n",
              "      <td>NaN</td>\n",
              "      <td>NaN</td>\n",
              "      <td>NaN</td>\n",
              "    </tr>\n",
              "    <tr>\n",
              "      <th>min</th>\n",
              "      <td>3001.000000</td>\n",
              "      <td>NaN</td>\n",
              "      <td>0.000000e+00</td>\n",
              "      <td>NaN</td>\n",
              "      <td>NaN</td>\n",
              "      <td>NaN</td>\n",
              "      <td>NaN</td>\n",
              "      <td>NaN</td>\n",
              "      <td>NaN</td>\n",
              "      <td>0.000001</td>\n",
              "      <td>NaN</td>\n",
              "      <td>NaN</td>\n",
              "      <td>NaN</td>\n",
              "      <td>NaN</td>\n",
              "      <td>0.000000</td>\n",
              "      <td>NaN</td>\n",
              "      <td>NaN</td>\n",
              "      <td>NaN</td>\n",
              "      <td>NaN</td>\n",
              "      <td>NaN</td>\n",
              "      <td>NaN</td>\n",
              "      <td>NaN</td>\n",
              "    </tr>\n",
              "    <tr>\n",
              "      <th>25%</th>\n",
              "      <td>4100.250000</td>\n",
              "      <td>NaN</td>\n",
              "      <td>0.000000e+00</td>\n",
              "      <td>NaN</td>\n",
              "      <td>NaN</td>\n",
              "      <td>NaN</td>\n",
              "      <td>NaN</td>\n",
              "      <td>NaN</td>\n",
              "      <td>NaN</td>\n",
              "      <td>3.895186</td>\n",
              "      <td>NaN</td>\n",
              "      <td>NaN</td>\n",
              "      <td>NaN</td>\n",
              "      <td>NaN</td>\n",
              "      <td>94.000000</td>\n",
              "      <td>NaN</td>\n",
              "      <td>NaN</td>\n",
              "      <td>NaN</td>\n",
              "      <td>NaN</td>\n",
              "      <td>NaN</td>\n",
              "      <td>NaN</td>\n",
              "      <td>NaN</td>\n",
              "    </tr>\n",
              "    <tr>\n",
              "      <th>50%</th>\n",
              "      <td>5199.500000</td>\n",
              "      <td>NaN</td>\n",
              "      <td>7.450000e+06</td>\n",
              "      <td>NaN</td>\n",
              "      <td>NaN</td>\n",
              "      <td>NaN</td>\n",
              "      <td>NaN</td>\n",
              "      <td>NaN</td>\n",
              "      <td>NaN</td>\n",
              "      <td>7.482241</td>\n",
              "      <td>NaN</td>\n",
              "      <td>NaN</td>\n",
              "      <td>NaN</td>\n",
              "      <td>NaN</td>\n",
              "      <td>104.000000</td>\n",
              "      <td>NaN</td>\n",
              "      <td>NaN</td>\n",
              "      <td>NaN</td>\n",
              "      <td>NaN</td>\n",
              "      <td>NaN</td>\n",
              "      <td>NaN</td>\n",
              "      <td>NaN</td>\n",
              "    </tr>\n",
              "    <tr>\n",
              "      <th>75%</th>\n",
              "      <td>6298.750000</td>\n",
              "      <td>NaN</td>\n",
              "      <td>2.800000e+07</td>\n",
              "      <td>NaN</td>\n",
              "      <td>NaN</td>\n",
              "      <td>NaN</td>\n",
              "      <td>NaN</td>\n",
              "      <td>NaN</td>\n",
              "      <td>NaN</td>\n",
              "      <td>10.938524</td>\n",
              "      <td>NaN</td>\n",
              "      <td>NaN</td>\n",
              "      <td>NaN</td>\n",
              "      <td>NaN</td>\n",
              "      <td>118.000000</td>\n",
              "      <td>NaN</td>\n",
              "      <td>NaN</td>\n",
              "      <td>NaN</td>\n",
              "      <td>NaN</td>\n",
              "      <td>NaN</td>\n",
              "      <td>NaN</td>\n",
              "      <td>NaN</td>\n",
              "    </tr>\n",
              "    <tr>\n",
              "      <th>max</th>\n",
              "      <td>7398.000000</td>\n",
              "      <td>NaN</td>\n",
              "      <td>2.600000e+08</td>\n",
              "      <td>NaN</td>\n",
              "      <td>NaN</td>\n",
              "      <td>NaN</td>\n",
              "      <td>NaN</td>\n",
              "      <td>NaN</td>\n",
              "      <td>NaN</td>\n",
              "      <td>547.488298</td>\n",
              "      <td>NaN</td>\n",
              "      <td>NaN</td>\n",
              "      <td>NaN</td>\n",
              "      <td>NaN</td>\n",
              "      <td>320.000000</td>\n",
              "      <td>NaN</td>\n",
              "      <td>NaN</td>\n",
              "      <td>NaN</td>\n",
              "      <td>NaN</td>\n",
              "      <td>NaN</td>\n",
              "      <td>NaN</td>\n",
              "      <td>NaN</td>\n",
              "    </tr>\n",
              "  </tbody>\n",
              "</table>\n",
              "</div>"
            ],
            "text/plain": [
              "                 id  ...                                               crew\n",
              "count   4398.000000  ...                                               4376\n",
              "unique          NaN  ...                                               4376\n",
              "top             NaN  ...  [{'credit_id': '52fe436cc3a36847f8053125', 'de...\n",
              "freq            NaN  ...                                                  1\n",
              "mean    5199.500000  ...                                                NaN\n",
              "std     1269.737571  ...                                                NaN\n",
              "min     3001.000000  ...                                                NaN\n",
              "25%     4100.250000  ...                                                NaN\n",
              "50%     5199.500000  ...                                                NaN\n",
              "75%     6298.750000  ...                                                NaN\n",
              "max     7398.000000  ...                                                NaN\n",
              "\n",
              "[11 rows x 22 columns]"
            ]
          },
          "metadata": {},
          "execution_count": 9
        }
      ]
    },
    {
      "cell_type": "markdown",
      "metadata": {
        "id": "jnNM2YwE9m39"
      },
      "source": [
        "Count of missing values in each column in train:"
      ]
    },
    {
      "cell_type": "code",
      "metadata": {
        "colab": {
          "base_uri": "https://localhost:8080/"
        },
        "id": "3CSvwmdF9m3_",
        "outputId": "6de3ba62-442c-4025-81cf-79ab3bd224fc"
      },
      "source": [
        "train.isna().sum()"
      ],
      "execution_count": 10,
      "outputs": [
        {
          "output_type": "execute_result",
          "data": {
            "text/plain": [
              "id                          0\n",
              "belongs_to_collection    2396\n",
              "budget                      0\n",
              "genres                      7\n",
              "homepage                 2054\n",
              "imdb_id                     0\n",
              "original_language           0\n",
              "original_title              0\n",
              "overview                    8\n",
              "popularity                  0\n",
              "poster_path                 1\n",
              "production_companies      156\n",
              "production_countries       55\n",
              "release_date                0\n",
              "runtime                     2\n",
              "spoken_languages           20\n",
              "status                      0\n",
              "tagline                   597\n",
              "title                       0\n",
              "Keywords                  276\n",
              "cast                       13\n",
              "crew                       16\n",
              "revenue                     0\n",
              "dtype: int64"
            ]
          },
          "metadata": {},
          "execution_count": 10
        }
      ]
    },
    {
      "cell_type": "markdown",
      "metadata": {
        "id": "q_iP0irC9m4A"
      },
      "source": [
        "Count of missing values in each column in train:"
      ]
    },
    {
      "cell_type": "code",
      "metadata": {
        "colab": {
          "base_uri": "https://localhost:8080/"
        },
        "id": "ueLfzNwA9m4B",
        "outputId": "e972ddb9-59ad-475c-e6da-d73138e90b61"
      },
      "source": [
        "test.isna().sum()"
      ],
      "execution_count": 11,
      "outputs": [
        {
          "output_type": "execute_result",
          "data": {
            "text/plain": [
              "id                          0\n",
              "belongs_to_collection    3521\n",
              "budget                      0\n",
              "genres                     16\n",
              "homepage                 2978\n",
              "imdb_id                     0\n",
              "original_language           0\n",
              "original_title              0\n",
              "overview                   14\n",
              "popularity                  0\n",
              "poster_path                 1\n",
              "production_companies      258\n",
              "production_countries      102\n",
              "release_date                1\n",
              "runtime                     4\n",
              "spoken_languages           42\n",
              "status                      2\n",
              "tagline                   863\n",
              "title                       3\n",
              "Keywords                  393\n",
              "cast                       13\n",
              "crew                       22\n",
              "dtype: int64"
            ]
          },
          "metadata": {},
          "execution_count": 11
        }
      ]
    },
    {
      "cell_type": "markdown",
      "metadata": {
        "id": "5bXxAb-s9m4E"
      },
      "source": [
        "Plot Budget vs Revenue."
      ]
    },
    {
      "cell_type": "code",
      "metadata": {
        "colab": {
          "base_uri": "https://localhost:8080/",
          "height": 616
        },
        "id": "YqIt0tDX9m4F",
        "outputId": "c94dd3fb-5001-494c-8ac8-fb71c691b00e"
      },
      "source": [
        "\n",
        "plt.figure(figsize=(15,10))\n",
        "plt.scatter(train['budget'],train['revenue'])\n",
        "plt.xlabel('Budget')\n",
        "plt.ylabel('Revenue')\n",
        "plt.show()"
      ],
      "execution_count": 13,
      "outputs": [
        {
          "output_type": "display_data",
          "data": {
            "image/png": "[encoded data removed]",
            "text/plain": [
              "<Figure size 1080x720 with 1 Axes>"
            ]
          },
          "metadata": {
            "needs_background": "light"
          }
        }
      ]
    },
    {
      "cell_type": "markdown",
      "metadata": {
        "id": "5CjbExyf9m4H"
      },
      "source": [
        "Plot popularity vs revenue"
      ]
    },
    {
      "cell_type": "code",
      "metadata": {
        "colab": {
          "base_uri": "https://localhost:8080/",
          "height": 616
        },
        "id": "iisVaCKV9m4H",
        "outputId": "f0175f52-2e96-41ac-b0d7-d927397ac585"
      },
      "source": [
        "plt.figure(figsize=(15,10))\n",
        "plt.scatter(train['popularity'],train['revenue'])\n",
        "plt.xlabel('Popularity')\n",
        "plt.ylabel('Revenue')\n",
        "plt.show()"
      ],
      "execution_count": 14,
      "outputs": [
        {
          "output_type": "display_data",
          "data": {
            "image/png": "[encoded data removed]",
            "text/plain": [
              "<Figure size 1080x720 with 1 Axes>"
            ]
          },
          "metadata": {
            "needs_background": "light"
          }
        }
      ]
    },
    {
      "cell_type": "markdown",
      "metadata": {
        "id": "InFMFrBH9m4J"
      },
      "source": [
        "Plot runtime vs revenue"
      ]
    },
    {
      "cell_type": "code",
      "metadata": {
        "colab": {
          "base_uri": "https://localhost:8080/",
          "height": 616
        },
        "id": "vBkWaeI09m4K",
        "scrolled": true,
        "outputId": "468ac94e-0f1f-4079-ac10-30e34b7dc93b"
      },
      "source": [
        "\n",
        "plt.figure(figsize=(15,10))\n",
        "plt.scatter(train['runtime'],train['revenue'])\n",
        "plt.xlabel('Runtime')\n",
        "plt.ylabel('Revenue')\n",
        "plt.show()\n",
        "plt.show()"
      ],
      "execution_count": 15,
      "outputs": [
        {
          "output_type": "display_data",
          "data": {
            "image/png": "[encoded data removed]",
            "text/plain": [
              "<Figure size 1080x720 with 1 Axes>"
            ]
          },
          "metadata": {
            "needs_background": "light"
          }
        }
      ]
    },
    {
      "cell_type": "markdown",
      "metadata": {
        "id": "iHRwrXFN9m4P"
      },
      "source": [
        "Get Month, Day Year, Week day, quarter from release date"
      ]
    },
    {
      "cell_type": "code",
      "metadata": {
        "id": "hhN2ixkq9m4Q"
      },
      "source": [
        "#Since only last two digits of year are provided, this is the correct way of getting the year.\n",
        "train[['release_month','release_day','release_year']]=train['release_date'].str.split('/',expand=True).replace(np.nan, -1).astype(int)\n",
        "# Some rows have 4 digits of year instead of 2, that's why I am applying (train['release_year'] < 100) this condition\n",
        "train.loc[ (train['release_year'] <= 19) & (train['release_year'] < 100), \"release_year\"] += 2000\n",
        "train.loc[ (train['release_year'] > 19)  & (train['release_year'] < 100), \"release_year\"] += 1900\n",
        "\n",
        "releaseDate = pd.to_datetime(train['release_date']) \n",
        "train['release_dayofweek'] = releaseDate.dt.dayofweek\n",
        "train['release_quarter'] = releaseDate.dt.quarter"
      ],
      "execution_count": 17,
      "outputs": []
    },
    {
      "cell_type": "markdown",
      "metadata": {
        "id": "b43_ZDM49m4W"
      },
      "source": [
        "Plot Release Year vs Revenue. "
      ]
    },
    {
      "cell_type": "code",
      "metadata": {
        "colab": {
          "base_uri": "https://localhost:8080/",
          "height": 627
        },
        "id": "JlVObys-9m4X",
        "outputId": "2330c838-ed34-4085-d94f-711083eb2aa0"
      },
      "source": [
        "train['meanRevenueByYear'] = train.groupby(\"release_year\")[\"revenue\"].aggregate('mean')\n",
        "train['meanRevenueByYear'].plot(figsize=(15,10))\n",
        "plt.xticks(np.arange(1920,2018,4))\n",
        "plt.xlabel(\"Release Year\")\n",
        "plt.ylabel(\"Revenue\")\n",
        "plt.title(\"Movie Mean Revenue By Year\",fontsize=20)\n",
        "plt.show()"
      ],
      "execution_count": 18,
      "outputs": [
        {
          "output_type": "display_data",
          "data": {
            "image/png": "[encoded data removed]",
            "text/plain": [
              "<Figure size 1080x720 with 1 Axes>"
            ]
          },
          "metadata": {
            "needs_background": "light"
          }
        }
      ]
    },
    {
      "cell_type": "markdown",
      "metadata": {
        "id": "fP6jpPpS9m4X"
      },
      "source": [
        "Release Month Vs Revenue Plot"
      ]
    },
    {
      "cell_type": "code",
      "metadata": {
        "colab": {
          "base_uri": "https://localhost:8080/",
          "height": 627
        },
        "id": "9KZwgJ8S9m4Y",
        "outputId": "da9492f8-cefe-4abb-e1b9-30b888ad58f6"
      },
      "source": [
        "train['meanRevenueByMonth'] = train.groupby(\"release_month\")[\"revenue\"].aggregate('mean')\n",
        "train['meanRevenueByMonth'].plot(figsize=(15,10))\n",
        "plt.xlabel(\"Release Month\")\n",
        "plt.ylabel(\"Revenue\")\n",
        "plt.title(\"Movie Mean Revenue Release Month\",fontsize=20)\n",
        "plt.show()"
      ],
      "execution_count": 20,
      "outputs": [
        {
          "output_type": "display_data",
          "data": {
            "image/png": "[encoded data removed]",
            "text/plain": [
              "<Figure size 1080x720 with 1 Axes>"
            ]
          },
          "metadata": {
            "needs_background": "light"
          }
        }
      ]
    },
    {
      "cell_type": "markdown",
      "metadata": {
        "id": "hzylkk_R9m4Z"
      },
      "source": [
        "Release day of week vs Revenue"
      ]
    },
    {
      "cell_type": "code",
      "metadata": {
        "colab": {
          "base_uri": "https://localhost:8080/",
          "height": 627
        },
        "id": "GuxwZKY-9m4Z",
        "outputId": "2e6f9bca-79c4-45a9-d0fb-e99adc30a710"
      },
      "source": [
        "train['meanRevenueByDayOfWeek'] = train.groupby(\"release_dayofweek\")[\"revenue\"].aggregate('mean')\n",
        "train['meanRevenueByDayOfWeek'].plot(figsize=(15,10))\n",
        "plt.xlabel(\"Day of Week\")\n",
        "plt.ylabel(\"Revenue\")\n",
        "plt.title(\"Movie Mean Revenue by Day of Week\",fontsize=20)\n",
        "plt.show()"
      ],
      "execution_count": 21,
      "outputs": [
        {
          "output_type": "display_data",
          "data": {
            "image/png": "[encoded data removed]",
            "text/plain": [
              "<Figure size 1080x720 with 1 Axes>"
            ]
          },
          "metadata": {
            "needs_background": "light"
          }
        }
      ]
    },
    {
      "cell_type": "markdown",
      "metadata": {
        "id": "UTgodRXU9m4c"
      },
      "source": [
        "Count Genres in Train set"
      ]
    },
    {
      "cell_type": "code",
      "metadata": {
        "colab": {
          "base_uri": "https://localhost:8080/"
        },
        "id": "a431Fz3a9m4d",
        "outputId": "56ae7aeb-1529-45a8-be7c-636f2824ac77"
      },
      "source": [
        "def get_dictionary(s):\n",
        "    try:\n",
        "        d = eval(s)\n",
        "    except:\n",
        "        d = {}\n",
        "    return d\n",
        "train = train\n",
        "train['genres'] = train['genres'].map(lambda x: sorted([d['name'] for d in get_dictionary(x)])).map(lambda x: ','.join(map(str, x)))\n",
        "genres = train.genres.str.get_dummies(sep=',')\n",
        "train = pd.concat([train, genres], axis=1, sort=False)\n",
        "print(\"Action Genres Movie           \", train[train.Action == 1].shape[0])\n",
        "print(\"Adventure Genres Movie        \", train[train.Adventure == 1].shape[0])\n",
        "print(\"Animation Genres Movie        \", train[train.Animation == 1].shape[0])\n",
        "print(\"Comedy Genres Movie           \", train[train.Comedy == 1].shape[0])\n",
        "print(\"Crime Genres Movie            \", train[train.Crime == 1].shape[0])\n",
        "print(\"Documentary Genres Movie      \", train[train.Documentary == 1].shape[0])\n",
        "print(\"Drama Genres Movie            \", train[train.Drama == 1].shape[0])\n",
        "print(\"Family Genres Movie           \", train[train.Family == 1].shape[0])\n",
        "print(\"Fantasy Genres Movie          \", train[train.Fantasy == 1].shape[0])\n",
        "print(\"Foreign Genres Movie          \", train[train.Foreign == 1].shape[0])\n",
        "print(\"History Genres Movie          \", train[train.History == 1].shape[0])\n",
        "print(\"Music Genres Movie            \", train[train.Music == 1].shape[0])\n",
        "print(\"Mystery Genres Movie          \", train[train.Mystery == 1].shape[0])\n",
        "print(\"Romance Genres Movie          \", train[train.Romance == 1].shape[0])\n",
        "print(\"Science Fiction Genres Movie  \", train[train['Science Fiction'] == 1].shape[0])\n",
        "print(\"TV Movie Genres Movie         \", train[train['TV Movie'] == 1].shape[0])\n",
        "print(\"Thriller Genres Movie         \", train[train.Thriller == 1].shape[0])\n",
        "print(\"War Genres Movie              \", train[train.War == 1].shape[0])\n",
        "print(\"Western Genres Movie          \", train[train.Western == 1].shape[0])"
      ],
      "execution_count": null,
      "outputs": [
        {
          "name": "stdout",
          "output_type": "stream",
          "text": [
            "Action Genres Movie            741\n",
            "Adventure Genres Movie         439\n",
            "Animation Genres Movie         141\n",
            "Comedy Genres Movie            1028\n",
            "Crime Genres Movie             469\n",
            "Documentary Genres Movie       87\n",
            "Drama Genres Movie             1531\n",
            "Family Genres Movie            260\n",
            "Fantasy Genres Movie           232\n",
            "Foreign Genres Movie           31\n",
            "History Genres Movie           132\n",
            "Music Genres Movie             100\n",
            "Mystery Genres Movie           225\n",
            "Romance Genres Movie           571\n",
            "Science Fiction Genres Movie   290\n",
            "TV Movie Genres Movie          1\n",
            "Thriller Genres Movie          789\n",
            "War Genres Movie               100\n",
            "Western Genres Movie           43\n"
          ]
        }
      ]
    },
    {
      "cell_type": "code",
      "metadata": {
        "id": "ZHsH_erz9m4z",
        "colab": {
          "base_uri": "https://localhost:8080/",
          "height": 584
        },
        "outputId": "103a5370-513c-4f1a-e624-ad283fec3eba"
      },
      "source": [
        "train = train[['budget','popularity','runtime','release_year','release_month','release_dayofweek','revenue']]\n",
        "f,ax = plt.subplots(figsize=(10, 8))\n",
        "plt.title('Feature correlation  matrix')\n",
        "sns.heatmap(train.corr(), annot=True)\n",
        "plt.show()"
      ],
      "execution_count": 24,
      "outputs": [
        {
          "output_type": "display_data",
          "data": {
            "image/png": "[encoded data removed]",
            "text/plain": [
              "<Figure size 720x576 with 2 Axes>"
            ]
          },
          "metadata": {
            "needs_background": "light"
          }
        }
      ]
    },
    {
      "cell_type": "markdown",
      "metadata": {
        "id": "I5-ZrM7D9m4z"
      },
      "source": [
        "# **Feature Engineering & Prediction**\n",
        "Reference: https://www.kaggle.com/kamalchhirang/eda-feature-engineering-lgb-xgb-cat\n"
      ]
    },
    {
      "cell_type": "code",
      "metadata": {
        "colab": {
          "base_uri": "https://localhost:8080/"
        },
        "id": "79mm5X2b9m40",
        "outputId": "3fdd0e31-3d9f-42b3-c84d-7dfe60cf2795"
      },
      "source": [
        "def prepare(df):\n",
        "    global json_cols\n",
        "    global train_dict\n",
        "\n",
        "    df[['release_month','release_day','release_year']]=df['release_date'].str.split('/',expand=True).replace(np.nan, 0).astype(int)\n",
        "    df['release_year'] = df['release_year']\n",
        "    df.loc[ (df['release_year'] <= 19) & (df['release_year'] < 100), \"release_year\"] += 2000\n",
        "    df.loc[ (df['release_year'] > 19)  & (df['release_year'] < 100), \"release_year\"] += 1900\n",
        "    \n",
        "    releaseDate = pd.to_datetime(df['release_date']) \n",
        "    df['release_dayofweek'] = releaseDate.dt.dayofweek \n",
        "    df['release_quarter'] = releaseDate.dt.quarter     \n",
        "\n",
        "\n",
        "    df['originalBudget'] = df['budget']\n",
        "    df['inflationBudget'] = df['budget'] + df['budget']*1.8/100*(2021-df['release_year']) #Inflation simple formula\n",
        "    df['budget'] = np.log1p(df['budget']) \n",
        "    \n",
        "    \n",
        "    # Thanks to this Kernel for the next 7 features https://www.kaggle.com/artgor/eda-feature-engineering-and-model-interpretation\n",
        "    df['genders_0_crew'] = df['crew'].apply(lambda x: sum([1 for i in x if i['gender'] == 0]))\n",
        "    df['genders_1_crew'] = df['crew'].apply(lambda x: sum([1 for i in x if i['gender'] == 1]))\n",
        "    df['genders_2_crew'] = df['crew'].apply(lambda x: sum([1 for i in x if i['gender'] == 2]))\n",
        "    df['_collection_name'] = df['belongs_to_collection'].apply(lambda x: x[0]['name'] if x != {} else 0)\n",
        "    le = LabelEncoder()\n",
        "    le.fit(list(df['_collection_name'].fillna('')))\n",
        "    df['_collection_name'] = le.transform(df['_collection_name'].fillna('').astype(str))\n",
        "    df['_num_Keywords'] = df['Keywords'].apply(lambda x: len(x) if x != {} else 0)\n",
        "    df['_num_cast'] = df['cast'].apply(lambda x: len(x) if x != {} else 0)\n",
        "\n",
        "    \n",
        "    \n",
        "    df['_popularity_mean_year'] = df['popularity'] / df.groupby(\"release_year\")[\"popularity\"].transform('mean')\n",
        "    df['_budget_runtime_ratio'] = df['budget']/df['runtime'] \n",
        "    df['_budget_popularity_ratio'] = df['budget']/df['popularity']\n",
        "    df['_budget_year_ratio'] = df['budget']/(df['release_year']*df['release_year'])\n",
        "    df['_releaseYear_popularity_ratio'] = df['release_year']/df['popularity']\n",
        "    df['_releaseYear_popularity_ratio2'] = df['popularity']/df['release_year']\n",
        "    \n",
        "    df['has_homepage'] = 1\n",
        "    df.loc[pd.isnull(df['homepage']) ,\"has_homepage\"] = 0\n",
        "    \n",
        "    df['isbelongs_to_collectionNA'] = 0\n",
        "    df.loc[pd.isnull(df['belongs_to_collection']) ,\"isbelongs_to_collectionNA\"] = 1\n",
        "    \n",
        "    df['isTaglineNA'] = 0\n",
        "    df.loc[df['tagline'] == 0 ,\"isTaglineNA\"] = 1 \n",
        "\n",
        "    df['isOriginalLanguageEng'] = 0 \n",
        "    df.loc[ df['original_language'] == \"en\" ,\"isOriginalLanguageEng\"] = 1\n",
        "    \n",
        "    df['isTitleDifferent'] = 1\n",
        "    df.loc[ df['original_title'] == df['title'] ,\"isTitleDifferent\"] = 0 \n",
        "\n",
        "    df['isMovieReleased'] = 1\n",
        "    df.loc[ df['status'] != \"Released\" ,\"isMovieReleased\"] = 0 \n",
        "\n",
        "    # get collection id\n",
        "    df['collection_id'] = df['belongs_to_collection'].apply(lambda x : np.nan if len(x)==0 else x[0]['id'])\n",
        "    \n",
        "    # df['original_title_letter_count'] = df['original_title'].str.len() \n",
        "    # df['original_title_word_count'] = df['original_title'].str.split().str.len() \n",
        "\n",
        "\n",
        "    # df['title_word_count'] = df['title'].str.split().str.len()\n",
        "    # df['overview_word_count'] = df['overview'].str.split().str.len()\n",
        "    # df['tagline_word_count'] = df['tagline'].str.split().str.len()\n",
        "    \n",
        "    # df['production_countries_count'] = df['production_countries'].apply(lambda x : len(x))\n",
        "    # df['production_companies_count'] = df['production_companies'].apply(lambda x : len(x))\n",
        "    # df['cast_count'] = df['cast'].apply(lambda x : len(x))\n",
        "    # df['crew_count'] = df['crew'].apply(lambda x : len(x))\n",
        "    \n",
        "\n",
        "    df['meanruntimeByYear'] = df.groupby(\"release_year\")[\"runtime\"].aggregate('mean')\n",
        "    df['meanPopularityByYear'] = df.groupby(\"release_year\")[\"popularity\"].aggregate('mean')\n",
        "    df['meanBudgetByYear'] = df.groupby(\"release_year\")[\"budget\"].aggregate('mean')\n",
        "  #  df['meantotalVotesByYear'] = df.groupby(\"release_year\")[\"totalVotes\"].aggregate('mean')\n",
        "  #  df['meanTotalVotesByRating'] = df.groupby(\"rating\")[\"totalVotes\"].aggregate('mean')\n",
        "    df['medianBudgetByYear'] = df.groupby(\"release_year\")[\"budget\"].aggregate('median')\n",
        "\n",
        "    for col in ['genres', 'production_countries', 'spoken_languages', 'production_companies'] :\n",
        "        df[col] = df[col].map(lambda x: sorted(list(set([n if n in train_dict[col] else col+'_etc' for n in [d['name'] for d in x]])))).map(lambda x: ','.join(map(str, x)))\n",
        "        temp = df[col].str.get_dummies(sep=',')\n",
        "        df = pd.concat([df, temp], axis=1, sort=False)\n",
        "    df.drop(['genres_etc'], axis = 1, inplace = True)\n",
        "    \n",
        "    df = df.drop(['id', 'revenue','belongs_to_collection','genres','homepage','imdb_id','overview','runtime'\n",
        "    ,'poster_path','production_companies','production_countries','release_date','spoken_languages'\n",
        "    ,'status','title','Keywords','cast','crew','original_language','original_title','tagline', 'collection_id'\n",
        "    ],axis=1)\n",
        "    \n",
        "    df.fillna(value=0.0, inplace = True) \n",
        "\n",
        "    return df\n",
        "\n",
        "train = pd.read_csv('train.csv')\n",
        "\n",
        "#Clean Datapower_six \n",
        " \n",
        "train.loc[train['id'] == 16,'revenue'] = 192864          # Skinning\n",
        "train.loc[train['id'] == 90,'budget'] = 30000000         # Sommersby          \n",
        "train.loc[train['id'] == 118,'budget'] = 60000000        # Wild Hogs\n",
        "train.loc[train['id'] == 149,'budget'] = 18000000        # Beethoven\n",
        "train.loc[train['id'] == 313,'revenue'] = 12000000       # The Cookout \n",
        "train.loc[train['id'] == 451,'revenue'] = 12000000       # Chasing Liberty\n",
        "train.loc[train['id'] == 464,'budget'] = 20000000        # Parenthood\n",
        "train.loc[train['id'] == 470,'budget'] = 13000000        # The Karate Kid, Part II\n",
        "train.loc[train['id'] == 513,'budget'] = 930000          # From Prada to Nada\n",
        "train.loc[train['id'] == 797,'budget'] = 8000000         # Welcome to Dongmakgol\n",
        "train.loc[train['id'] == 819,'budget'] = 90000000        # Alvin and the Chipmunks: The Road Chip\n",
        "train.loc[train['id'] == 850,'budget'] = 90000000        # Modern Times\n",
        "train.loc[train['id'] == 1007,'budget'] = 2              # Zyzzyx Road \n",
        "train.loc[train['id'] == 1112,'budget'] = 7500000        # An Officer and a Gentleman\n",
        "train.loc[train['id'] == 1131,'budget'] = 4300000        # Smokey and the Bandit   \n",
        "train.loc[train['id'] == 1359,'budget'] = 10000000       # Stir Crazy \n",
        "train.loc[train['id'] == 1542,'budget'] = 1              # All at Once\n",
        "train.loc[train['id'] == 1570,'budget'] = 15800000       # Crocodile Dundee II\n",
        "train.loc[train['id'] == 1571,'budget'] = 4000000        # Lady and the Tramp\n",
        "train.loc[train['id'] == 1714,'budget'] = 46000000       # The Recruit\n",
        "train.loc[train['id'] == 1721,'budget'] = 17500000       # Cocoon\n",
        "train.loc[train['id'] == 1865,'revenue'] = 25000000      # Scooby-Doo 2: Monsters Unleashed\n",
        "train.loc[train['id'] == 1885,'budget'] = 12             # In the Cut\n",
        "train.loc[train['id'] == 2091,'budget'] = 10             # Deadfall\n",
        "train.loc[train['id'] == 2268,'budget'] = 17500000       # Madea Goes to Jail budget\n",
        "train.loc[train['id'] == 2491,'budget'] = 6              # Never Talk to Strangers\n",
        "train.loc[train['id'] == 2602,'budget'] = 31000000       # Mr. Holland's Opus\n",
        "train.loc[train['id'] == 2612,'budget'] = 15000000       # Field of Dreams\n",
        "train.loc[train['id'] == 2696,'budget'] = 10000000       # Nurse 3-D\n",
        "train.loc[train['id'] == 2801,'budget'] = 10000000       # Fracture\n",
        "train.loc[train['id'] == 335,'budget'] = 2 \n",
        "train.loc[train['id'] == 348,'budget'] = 12\n",
        "train.loc[train['id'] == 470,'budget'] = 13000000 \n",
        "train.loc[train['id'] == 513,'budget'] = 1100000\n",
        "train.loc[train['id'] == 640,'budget'] = 6 \n",
        "train.loc[train['id'] == 696,'budget'] = 1\n",
        "train.loc[train['id'] == 797,'budget'] = 8000000 \n",
        "train.loc[train['id'] == 850,'budget'] = 1500000\n",
        "train.loc[train['id'] == 1199,'budget'] = 5 \n",
        "train.loc[train['id'] == 1282,'budget'] = 9               # Death at a Funeral\n",
        "train.loc[train['id'] == 1347,'budget'] = 1\n",
        "train.loc[train['id'] == 1755,'budget'] = 2\n",
        "train.loc[train['id'] == 1801,'budget'] = 5\n",
        "train.loc[train['id'] == 1918,'budget'] = 592 \n",
        "train.loc[train['id'] == 2033,'budget'] = 4\n",
        "train.loc[train['id'] == 2118,'budget'] = 344 \n",
        "train.loc[train['id'] == 2252,'budget'] = 130\n",
        "train.loc[train['id'] == 2256,'budget'] = 1 \n",
        "train.loc[train['id'] == 2696,'budget'] = 10000000\n",
        "\n",
        "\n",
        "test = pd.read_csv('test.csv')\n",
        "\n",
        "#Clean Data\n",
        "test.loc[test['id'] == 6733,'budget'] = 5000000\n",
        "test.loc[test['id'] == 3889,'budget'] = 15000000\n",
        "test.loc[test['id'] == 6683,'budget'] = 50000000\n",
        "test.loc[test['id'] == 5704,'budget'] = 4300000\n",
        "test.loc[test['id'] == 6109,'budget'] = 281756\n",
        "test.loc[test['id'] == 7242,'budget'] = 10000000\n",
        "test.loc[test['id'] == 7021,'budget'] = 17540562       #  Two Is a Family\n",
        "test.loc[test['id'] == 5591,'budget'] = 4000000        # The Orphanage\n",
        "test.loc[test['id'] == 4282,'budget'] = 20000000       # Big Top Pee-wee\n",
        "test.loc[test['id'] == 3033,'budget'] = 250 \n",
        "test.loc[test['id'] == 3051,'budget'] = 50\n",
        "test.loc[test['id'] == 3084,'budget'] = 337\n",
        "test.loc[test['id'] == 3224,'budget'] = 4  \n",
        "test.loc[test['id'] == 3594,'budget'] = 25  \n",
        "test.loc[test['id'] == 3619,'budget'] = 500  \n",
        "test.loc[test['id'] == 3831,'budget'] = 3  \n",
        "test.loc[test['id'] == 3935,'budget'] = 500  \n",
        "test.loc[test['id'] == 4049,'budget'] = 995946 \n",
        "test.loc[test['id'] == 4424,'budget'] = 3  \n",
        "test.loc[test['id'] == 4460,'budget'] = 8  \n",
        "test.loc[test['id'] == 4555,'budget'] = 1200000 \n",
        "test.loc[test['id'] == 4624,'budget'] = 30 \n",
        "test.loc[test['id'] == 4645,'budget'] = 500 \n",
        "test.loc[test['id'] == 4709,'budget'] = 450 \n",
        "test.loc[test['id'] == 4839,'budget'] = 7\n",
        "test.loc[test['id'] == 3125,'budget'] = 25 \n",
        "test.loc[test['id'] == 3142,'budget'] = 1\n",
        "test.loc[test['id'] == 3201,'budget'] = 450\n",
        "test.loc[test['id'] == 3222,'budget'] = 6\n",
        "test.loc[test['id'] == 3545,'budget'] = 38\n",
        "test.loc[test['id'] == 3670,'budget'] = 18\n",
        "test.loc[test['id'] == 3792,'budget'] = 19\n",
        "test.loc[test['id'] == 3881,'budget'] = 7\n",
        "test.loc[test['id'] == 3969,'budget'] = 400\n",
        "test.loc[test['id'] == 4196,'budget'] = 6\n",
        "test.loc[test['id'] == 4221,'budget'] = 11\n",
        "test.loc[test['id'] == 4222,'budget'] = 500\n",
        "test.loc[test['id'] == 4285,'budget'] = 11\n",
        "test.loc[test['id'] == 4319,'budget'] = 1\n",
        "test.loc[test['id'] == 4639,'budget'] = 10\n",
        "test.loc[test['id'] == 4719,'budget'] = 45\n",
        "test.loc[test['id'] == 4822,'budget'] = 22\n",
        "test.loc[test['id'] == 4829,'budget'] = 20\n",
        "test.loc[test['id'] == 4969,'budget'] = 20\n",
        "test.loc[test['id'] == 5021,'budget'] = 40 \n",
        "test.loc[test['id'] == 5035,'budget'] = 1 \n",
        "test.loc[test['id'] == 5063,'budget'] = 14 \n",
        "test.loc[test['id'] == 5119,'budget'] = 2 \n",
        "test.loc[test['id'] == 5214,'budget'] = 30 \n",
        "test.loc[test['id'] == 5221,'budget'] = 50 \n",
        "test.loc[test['id'] == 4903,'budget'] = 15\n",
        "test.loc[test['id'] == 4983,'budget'] = 3\n",
        "test.loc[test['id'] == 5102,'budget'] = 28\n",
        "test.loc[test['id'] == 5217,'budget'] = 75\n",
        "test.loc[test['id'] == 5224,'budget'] = 3 \n",
        "test.loc[test['id'] == 5469,'budget'] = 20 \n",
        "test.loc[test['id'] == 5840,'budget'] = 1 \n",
        "test.loc[test['id'] == 5960,'budget'] = 30\n",
        "test.loc[test['id'] == 6506,'budget'] = 11 \n",
        "test.loc[test['id'] == 6553,'budget'] = 280\n",
        "test.loc[test['id'] == 6561,'budget'] = 7\n",
        "test.loc[test['id'] == 6582,'budget'] = 218\n",
        "test.loc[test['id'] == 6638,'budget'] = 5\n",
        "test.loc[test['id'] == 6749,'budget'] = 8 \n",
        "test.loc[test['id'] == 6759,'budget'] = 50 \n",
        "test.loc[test['id'] == 6856,'budget'] = 10\n",
        "test.loc[test['id'] == 6858,'budget'] =  100\n",
        "test.loc[test['id'] == 6876,'budget'] =  250\n",
        "test.loc[test['id'] == 6972,'budget'] = 1\n",
        "test.loc[test['id'] == 7079,'budget'] = 8000000\n",
        "test.loc[test['id'] == 7150,'budget'] = 118\n",
        "test.loc[test['id'] == 6506,'budget'] = 118\n",
        "test.loc[test['id'] == 7225,'budget'] = 6\n",
        "test.loc[test['id'] == 7231,'budget'] = 85\n",
        "test.loc[test['id'] == 5222,'budget'] = 5\n",
        "test.loc[test['id'] == 5322,'budget'] = 90\n",
        "test.loc[test['id'] == 5350,'budget'] = 70\n",
        "test.loc[test['id'] == 5378,'budget'] = 10\n",
        "test.loc[test['id'] == 5545,'budget'] = 80\n",
        "test.loc[test['id'] == 5810,'budget'] = 8\n",
        "test.loc[test['id'] == 5926,'budget'] = 300\n",
        "test.loc[test['id'] == 5927,'budget'] = 4\n",
        "test.loc[test['id'] == 5986,'budget'] = 1\n",
        "test.loc[test['id'] == 6053,'budget'] = 20\n",
        "test.loc[test['id'] == 6104,'budget'] = 1\n",
        "test.loc[test['id'] == 6130,'budget'] = 30\n",
        "test.loc[test['id'] == 6301,'budget'] = 150\n",
        "test.loc[test['id'] == 6276,'budget'] = 100\n",
        "test.loc[test['id'] == 6473,'budget'] = 100\n",
        "test.loc[test['id'] == 6842,'budget'] = 30\n",
        "\n",
        "\n",
        "test['revenue'] = np.nan\n",
        "\n",
        "# features from https://www.kaggle.com/kamalchhirang/eda-simple-feature-engineering-external-data\n",
        "#train = pd.merge(train, pd.read_csv('../input/tmdb-competition-additional-features/TrainAdditionalFeatures.csv'), how='left', on=['imdb_id'])\n",
        "#test = pd.merge(test, pd.read_csv('../input/tmdb-competition-additional-features/TestAdditionalFeatures.csv'), how='left', on=['imdb_id'])\n",
        "\n",
        "\n",
        "\n",
        "#additionalTrainData = pd.read_csv('../input/tmdb-box-office-prediction-more-training-data/additionalTrainData.csv')\n",
        "#additionalTrainData['release_date'] = additionalTrainData['release_date'].astype('str')\n",
        "#additionalTrainData['release_date'] = additionalTrainData['release_date'].str.replace('-', '/')\n",
        "#train = pd.concat([train, additionalTrainData])\n",
        "\n",
        "#train = pd.merge(train, additionalTrainData, how='left', on=['imdb_id'],axis=1)\n",
        "\n",
        "print(train.columns)\n",
        "print(train.shape)\n",
        "train['revenue'] = np.log1p(train['revenue'].astype('int32'))\n",
        "y = train['revenue'].values\n",
        "\n",
        "json_cols = ['genres', 'production_companies', 'production_countries', 'spoken_languages', 'Keywords', 'cast', 'crew']\n",
        "\n",
        "def get_dictionary(s):\n",
        "    try:\n",
        "        d = eval(s)\n",
        "    except:\n",
        "        d = {}\n",
        "    return d\n",
        "\n",
        "for col in tqdm(json_cols + ['belongs_to_collection']) :\n",
        "    train[col] = train[col].apply(lambda x : get_dictionary(x))\n",
        "    test[col] = test[col].apply(lambda x : get_dictionary(x))\n",
        "    \n",
        "def get_json_dict(df) :\n",
        "    global json_cols\n",
        "    result = dict()\n",
        "    for e_col in json_cols :\n",
        "        d = dict()\n",
        "        rows = df[e_col].values\n",
        "        for row in rows :\n",
        "            if row is None : continue\n",
        "            for i in row :\n",
        "                if i['name'] not in d :\n",
        "                    d[i['name']] = 0\n",
        "                d[i['name']] += 1\n",
        "        result[e_col] = d\n",
        "    return result\n",
        "\n",
        "train_dict = get_json_dict(train)\n",
        "test_dict = get_json_dict(test)\n",
        "\n",
        "# remove cateogry with bias and low frequency\n",
        "for col in json_cols :\n",
        "    \n",
        "    remove = []\n",
        "    train_id = set(list(train_dict[col].keys()))\n",
        "    test_id = set(list(test_dict[col].keys()))   \n",
        "    \n",
        "    remove += list(train_id - test_id) + list(test_id - train_id)\n",
        "    for i in train_id.union(test_id) - set(remove) :\n",
        "        if train_dict[col][i] < 10 or i == '' :\n",
        "            remove += [i]\n",
        "            \n",
        "    for i in remove :\n",
        "        if i in train_dict[col] :\n",
        "            del train_dict[col][i]\n",
        "        if i in test_dict[col] :\n",
        "            del test_dict[col][i]\n",
        "             \n",
        "all_data = prepare(pd.concat([train, test]).reset_index(drop = True))\n",
        "train = all_data.loc[:train.shape[0] - 1,:]\n",
        "test = all_data.loc[train.shape[0]:,:] "
      ],
      "execution_count": 107,
      "outputs": [
        {
          "output_type": "stream",
          "name": "stdout",
          "text": [
            "Index(['id', 'belongs_to_collection', 'budget', 'genres', 'homepage',\n",
            "       'imdb_id', 'original_language', 'original_title', 'overview',\n",
            "       'popularity', 'poster_path', 'production_companies',\n",
            "       'production_countries', 'release_date', 'runtime', 'spoken_languages',\n",
            "       'status', 'tagline', 'title', 'Keywords', 'cast', 'crew', 'revenue'],\n",
            "      dtype='object')\n",
            "(3000, 23)\n"
          ]
        },
        {
          "output_type": "stream",
          "name": "stderr",
          "text": [
            "100%|██████████| 8/8 [00:08<00:00,  1.05s/it]\n"
          ]
        }
      ]
    },
    {
      "cell_type": "code",
      "metadata": {
        "colab": {
          "base_uri": "https://localhost:8080/"
        },
        "id": "dqPDHf8kCftc",
        "outputId": "97005f6a-797e-42fe-86f2-d5c00492e2e8"
      },
      "source": [
        "print(train.shape)\n",
        "print(test.shape)\n",
        "print(y.shape)"
      ],
      "execution_count": 26,
      "outputs": [
        {
          "output_type": "stream",
          "name": "stdout",
          "text": [
            "(3000, 182)\n",
            "(4398, 182)\n",
            "(3000,)\n"
          ]
        }
      ]
    },
    {
      "cell_type": "markdown",
      "metadata": {
        "id": "JQn_QODyCT4H"
      },
      "source": [
        "# LR w/o Text"
      ]
    },
    {
      "cell_type": "code",
      "metadata": {
        "id": "91G7VrKeCfoy"
      },
      "source": [
        "# Preprocessing training data\n",
        "x_train = np.array(train)\n",
        "y_train = np.array(y)\n",
        "\n",
        "indices = np.where(np.isinf(x_train))\n",
        "\n",
        "x_train[indices] = 0.0\n",
        "\n",
        "temp = x_train.T\n",
        "mean = []\n",
        "std = []\n",
        "for i in range(len(temp)):\n",
        "  mean.append(np.mean(temp[i]))\n",
        "  std.append(np.std(temp[i]))\n",
        "  temp[i] = (temp[i] - np.mean(temp[i]))/(np.std(temp[i]) + 1e-9)\n",
        "x_train = temp.T\n",
        "\n",
        "x_train1,x_val1,y_train1,y_val1 = train_test_split(x_train,y_train, test_size=0.05)"
      ],
      "execution_count": 27,
      "outputs": []
    },
    {
      "cell_type": "code",
      "metadata": {
        "id": "eGpOiqPlCfll"
      },
      "source": [
        "# Pre-processing Test data\n",
        "x_test = np.array(test)\n",
        "\n",
        "indices = np.where(np.isinf(x_test))\n",
        "x_test[indices] = 0.0\n",
        "\n",
        "temp = x_test.T\n",
        "for i in range(len(temp)):\n",
        "  temp[i] = (temp[i] - mean[i])/(std[i] + 1e-9)\n",
        "x_test = temp.T"
      ],
      "execution_count": 28,
      "outputs": []
    },
    {
      "cell_type": "code",
      "metadata": {
        "colab": {
          "base_uri": "https://localhost:8080/"
        },
        "id": "oiWdlIpbCfir",
        "outputId": "f861f074-de14-4dd3-9ae0-e914ce7eedba"
      },
      "source": [
        "reg = LinearRegression().fit(x_train1, y_train1)\n",
        "\n",
        "y_train_pred = reg.predict(x_train1)\n",
        "print('Training RMSLE on linear regression: ',np.sum(np.mean(np.sqrt((y_train_pred - y_train1)**2))))"
      ],
      "execution_count": 29,
      "outputs": [
        {
          "output_type": "stream",
          "name": "stdout",
          "text": [
            "Training RMSLE on linear regression:  1.4243676285467035\n"
          ]
        }
      ]
    },
    {
      "cell_type": "code",
      "metadata": {
        "colab": {
          "base_uri": "https://localhost:8080/"
        },
        "id": "5RUK6T-3Cff6",
        "outputId": "08bbcfba-e5c3-4b94-c71c-a531636f3586"
      },
      "source": [
        "y_val_pred = reg.predict(x_val1)\n",
        "print('validation RMSLE on linear regression: ',np.sum(np.mean(np.sqrt((y_val_pred - y_val1)**2))))"
      ],
      "execution_count": 30,
      "outputs": [
        {
          "output_type": "stream",
          "name": "stdout",
          "text": [
            "validation RMSLE on linear regression:  1.2332205970362076\n"
          ]
        }
      ]
    },
    {
      "cell_type": "code",
      "metadata": {
        "id": "2uAQK-cDCfOM"
      },
      "source": [
        "y_test = reg.predict(x_test)\n",
        "\n",
        "sub = pd.read_csv('sample_submission.csv')\n",
        "df_sub = pd.DataFrame()\n",
        "df_sub['id'] = sub['id']\n",
        "df_sub['revenue'] = np.expm1(y_test)\n",
        "#print(df_sub['revenue'])\n",
        "df_sub.to_csv(\"submission_lr_wo_text.csv\", index=False)"
      ],
      "execution_count": 31,
      "outputs": []
    },
    {
      "cell_type": "markdown",
      "metadata": {
        "id": "jZ-Llx2zFMdL"
      },
      "source": [
        "# ANN w/o Text data"
      ]
    },
    {
      "cell_type": "code",
      "metadata": {
        "colab": {
          "base_uri": "https://localhost:8080/"
        },
        "id": "unS0_EO4FTQp",
        "outputId": "2881cbdf-35a7-4da0-a236-f464143ddf4f"
      },
      "source": [
        "# Preprocessing training data\n",
        "x_train = np.array(train)\n",
        "y_train = np.array(y)\n",
        "\n",
        "indices = np.where(np.isinf(x_train))\n",
        "\n",
        "x_train[indices] = 0.0\n",
        "\n",
        "temp = x_train.T\n",
        "mean = []\n",
        "std = []\n",
        "for i in range(len(temp)):\n",
        "  mean.append(np.mean(temp[i]))\n",
        "  std.append(np.std(temp[i]))\n",
        "  temp[i] = (temp[i] - np.mean(temp[i]))/(np.std(temp[i]) + 1e-9)\n",
        "x_train = temp.T\n",
        "np.shape(x_train)"
      ],
      "execution_count": 32,
      "outputs": [
        {
          "output_type": "execute_result",
          "data": {
            "text/plain": [
              "(3000, 182)"
            ]
          },
          "metadata": {},
          "execution_count": 32
        }
      ]
    },
    {
      "cell_type": "code",
      "metadata": {
        "id": "x8o08uGsHEff"
      },
      "source": [
        "x_train = np.reshape(x_train,(3000,1,182))"
      ],
      "execution_count": 33,
      "outputs": []
    },
    {
      "cell_type": "code",
      "metadata": {
        "colab": {
          "base_uri": "https://localhost:8080/"
        },
        "id": "5dUWPfPDFTEb",
        "outputId": "f74312a6-cb67-4b43-8ee2-f7269a400e41"
      },
      "source": [
        "# Pre-processing Test data\n",
        "x_test = np.array(test)\n",
        "\n",
        "indices = np.where(np.isinf(x_test))\n",
        "x_test[indices] = 0.0\n",
        "\n",
        "temp = x_test.T\n",
        "for i in range(len(temp)):\n",
        "  temp[i] = (temp[i] - mean[i])/(std[i] + 1e-9)\n",
        "x_test= temp.T\n",
        "np.shape(x_test)"
      ],
      "execution_count": 34,
      "outputs": [
        {
          "output_type": "execute_result",
          "data": {
            "text/plain": [
              "(4398, 182)"
            ]
          },
          "metadata": {},
          "execution_count": 34
        }
      ]
    },
    {
      "cell_type": "code",
      "metadata": {
        "id": "w8IOuoLLHJ0H"
      },
      "source": [
        "x_test= np.reshape(x_test,(4398,1,182))"
      ],
      "execution_count": 35,
      "outputs": []
    },
    {
      "cell_type": "code",
      "metadata": {
        "id": "WaKdngI3Gtz5"
      },
      "source": [
        "import tensorflow as tf\n",
        "tf.keras.backend.clear_session()\n",
        "\n",
        "ann_model = tf.keras.models.Sequential()\n",
        "ann_model.add(tf.keras.layers.Dense(128, activation = 'relu', input_shape = (1,182)))\n",
        "ann_model.add(tf.keras.layers.Dense(128, activation = 'relu',))\n",
        "ann_model.add(tf.keras.layers.Dense(512, activation = 'relu',))\n",
        "ann_model.add(tf.keras.layers.Dense(1024, activation = 'relu',))\n",
        "ann_model.add(tf.keras.layers.Dense(128, activation = 'relu',))\n",
        "ann_model.add(tf.keras.layers.Dense(64, activation = 'relu',))\n",
        "ann_model.add(tf.keras.layers.Dense(1, activation='relu'))"
      ],
      "execution_count": 36,
      "outputs": []
    },
    {
      "cell_type": "code",
      "metadata": {
        "colab": {
          "base_uri": "https://localhost:8080/"
        },
        "id": "A8jNWRcEFTCN",
        "outputId": "e99061d4-806f-4889-a611-db1e7a451044"
      },
      "source": [
        "ann_model.summary()"
      ],
      "execution_count": 37,
      "outputs": [
        {
          "output_type": "stream",
          "name": "stdout",
          "text": [
            "Model: \"sequential\"\n",
            "_________________________________________________________________\n",
            " Layer (type)                Output Shape              Param #   \n",
            "=================================================================\n",
            " dense (Dense)               (None, 1, 128)            23424     \n",
            "                                                                 \n",
            " dense_1 (Dense)             (None, 1, 128)            16512     \n",
            "                                                                 \n",
            " dense_2 (Dense)             (None, 1, 512)            66048     \n",
            "                                                                 \n",
            " dense_3 (Dense)             (None, 1, 1024)           525312    \n",
            "                                                                 \n",
            " dense_4 (Dense)             (None, 1, 128)            131200    \n",
            "                                                                 \n",
            " dense_5 (Dense)             (None, 1, 64)             8256      \n",
            "                                                                 \n",
            " dense_6 (Dense)             (None, 1, 1)              65        \n",
            "                                                                 \n",
            "=================================================================\n",
            "Total params: 770,817\n",
            "Trainable params: 770,817\n",
            "Non-trainable params: 0\n",
            "_________________________________________________________________\n"
          ]
        }
      ]
    },
    {
      "cell_type": "code",
      "metadata": {
        "colab": {
          "base_uri": "https://localhost:8080/"
        },
        "id": "Sco_49BxFS_Q",
        "outputId": "68f6eef8-57de-423c-e6f1-f6fb0c2da073"
      },
      "source": [
        "callback = tf.keras.callbacks.EarlyStopping(monitor='val_loss', patience=5)\n",
        "ann_model.compile(loss='mse', optimizer= tf.keras.optimizers.Adam(learning_rate=0.005), metrics=['mse']) \n",
        "history = ann_model.fit(x_train, y_train, validation_split=0.15, batch_size=256, epochs=100, callbacks = [callback])"
      ],
      "execution_count": 38,
      "outputs": [
        {
          "output_type": "stream",
          "name": "stdout",
          "text": [
            "Epoch 1/100\n",
            "10/10 [==============================] - 3s 47ms/step - loss: 245.0366 - mse: 245.0366 - val_loss: 236.2661 - val_mse: 236.2661\n",
            "Epoch 2/100\n",
            "10/10 [==============================] - 0s 13ms/step - loss: 150.4377 - mse: 150.4377 - val_loss: 99.5600 - val_mse: 99.5600\n",
            "Epoch 3/100\n",
            "10/10 [==============================] - 0s 13ms/step - loss: 46.6481 - mse: 46.6481 - val_loss: 19.0296 - val_mse: 19.0296\n",
            "Epoch 4/100\n",
            "10/10 [==============================] - 0s 12ms/step - loss: 21.7351 - mse: 21.7351 - val_loss: 16.8761 - val_mse: 16.8761\n",
            "Epoch 5/100\n",
            "10/10 [==============================] - 0s 13ms/step - loss: 14.2591 - mse: 14.2591 - val_loss: 14.8194 - val_mse: 14.8194\n",
            "Epoch 6/100\n",
            "10/10 [==============================] - 0s 12ms/step - loss: 12.3755 - mse: 12.3755 - val_loss: 11.6326 - val_mse: 11.6326\n",
            "Epoch 7/100\n",
            "10/10 [==============================] - 0s 12ms/step - loss: 10.9808 - mse: 10.9808 - val_loss: 10.8653 - val_mse: 10.8653\n",
            "Epoch 8/100\n",
            "10/10 [==============================] - 0s 14ms/step - loss: 10.5432 - mse: 10.5432 - val_loss: 10.6339 - val_mse: 10.6339\n",
            "Epoch 9/100\n",
            "10/10 [==============================] - 0s 13ms/step - loss: 10.2766 - mse: 10.2766 - val_loss: 10.8473 - val_mse: 10.8473\n",
            "Epoch 10/100\n",
            "10/10 [==============================] - 0s 13ms/step - loss: 10.0603 - mse: 10.0603 - val_loss: 10.4455 - val_mse: 10.4455\n",
            "Epoch 11/100\n",
            "10/10 [==============================] - 0s 12ms/step - loss: 9.9290 - mse: 9.9290 - val_loss: 10.4487 - val_mse: 10.4487\n",
            "Epoch 12/100\n",
            "10/10 [==============================] - 0s 12ms/step - loss: 9.8244 - mse: 9.8244 - val_loss: 10.3632 - val_mse: 10.3632\n",
            "Epoch 13/100\n",
            "10/10 [==============================] - 0s 12ms/step - loss: 9.7285 - mse: 9.7285 - val_loss: 10.3943 - val_mse: 10.3943\n",
            "Epoch 14/100\n",
            "10/10 [==============================] - 0s 12ms/step - loss: 9.6710 - mse: 9.6710 - val_loss: 10.3048 - val_mse: 10.3048\n",
            "Epoch 15/100\n",
            "10/10 [==============================] - 0s 12ms/step - loss: 9.6886 - mse: 9.6886 - val_loss: 10.2867 - val_mse: 10.2867\n",
            "Epoch 16/100\n",
            "10/10 [==============================] - 0s 13ms/step - loss: 9.6407 - mse: 9.6407 - val_loss: 10.3105 - val_mse: 10.3105\n",
            "Epoch 17/100\n",
            "10/10 [==============================] - 0s 13ms/step - loss: 9.6151 - mse: 9.6151 - val_loss: 10.2563 - val_mse: 10.2563\n",
            "Epoch 18/100\n",
            "10/10 [==============================] - 0s 12ms/step - loss: 9.6624 - mse: 9.6624 - val_loss: 10.5431 - val_mse: 10.5431\n",
            "Epoch 19/100\n",
            "10/10 [==============================] - 0s 12ms/step - loss: 9.7017 - mse: 9.7017 - val_loss: 10.4515 - val_mse: 10.4515\n",
            "Epoch 20/100\n",
            "10/10 [==============================] - 0s 12ms/step - loss: 9.6445 - mse: 9.6445 - val_loss: 10.2583 - val_mse: 10.2583\n",
            "Epoch 21/100\n",
            "10/10 [==============================] - 0s 13ms/step - loss: 9.8039 - mse: 9.8039 - val_loss: 10.3853 - val_mse: 10.3853\n",
            "Epoch 22/100\n",
            "10/10 [==============================] - 0s 13ms/step - loss: 9.6671 - mse: 9.6671 - val_loss: 10.2876 - val_mse: 10.2876\n"
          ]
        }
      ]
    },
    {
      "cell_type": "code",
      "metadata": {
        "id": "ybrynW4mFS9F"
      },
      "source": [
        "y_test = ann_model.predict(x_test)\n",
        "y_test[np.where(np.isinf(np.expm1(y_test)))] = 0\n",
        "y_test = np.reshape(y_test, (4398))\n",
        "\n",
        "sub = pd.read_csv('sample_submission.csv')\n",
        "df_sub = pd.DataFrame()\n",
        "df_sub['id'] = sub['id']\n",
        "df_sub['revenue'] = np.expm1(y_test)\n",
        "#print(df_sub['revenue'])\n",
        "df_sub.to_csv(\"submission_ann_wo_text.csv\", index=False)"
      ],
      "execution_count": 39,
      "outputs": []
    },
    {
      "cell_type": "markdown",
      "metadata": {
        "id": "by3IbDPKH5ag"
      },
      "source": [
        "# Extracting text data features using intermediate feature maps from GRU based dense net"
      ]
    },
    {
      "cell_type": "code",
      "metadata": {
        "id": "Lth8AisNH-Ux"
      },
      "source": [
        "train1 = pd.read_csv(\"train.csv\")\n",
        "overview = train1['overview']  #pd.concat([train1['overview'], train1['revenue']])\n",
        "rev = train1['revenue']\n",
        "rev = np.log1p(rev)\n",
        "overview = np.asarray(overview).astype(str)\n",
        "VOCAB_SIZE = 5000\n",
        "encoder = tf.keras.layers.TextVectorization(\n",
        "    max_tokens=VOCAB_SIZE)\n",
        "encoder.adapt(overview)"
      ],
      "execution_count": 76,
      "outputs": []
    },
    {
      "cell_type": "code",
      "metadata": {
        "colab": {
          "base_uri": "https://localhost:8080/"
        },
        "id": "N3T0aiEIH-SW",
        "outputId": "d208bf3f-2b44-4513-b588-3ea78e7547f2"
      },
      "source": [
        "tf.keras.backend.clear_session()\n",
        "model1 = tf.keras.Sequential([\n",
        "    encoder,\n",
        "    tf.keras.layers.Embedding(\n",
        "        input_dim=len(encoder.get_vocabulary()),\n",
        "        output_dim=128,\n",
        "        mask_zero=True),\n",
        "\n",
        "    tf.keras.layers.Bidirectional(tf.keras.layers.GRU(128)),\n",
        "    tf.keras.layers.Dropout(0.5),\n",
        "    tf.keras.layers.Dense(256, activation='leaky_relu'),\n",
        "    tf.keras.layers.Dense(128, activation='leaky_relu'),\n",
        "    tf.keras.layers.Dense(64, activation='leaky_relu'),\n",
        "    tf.keras.layers.Dense(32, activation='leaky_relu'),\n",
        "    tf.keras.layers.Dense(1, activation='leaky_relu')\n",
        "])\n",
        "model1.summary()"
      ],
      "execution_count": 77,
      "outputs": [
        {
          "output_type": "stream",
          "name": "stdout",
          "text": [
            "Model: \"sequential\"\n",
            "_________________________________________________________________\n",
            " Layer (type)                Output Shape              Param #   \n",
            "=================================================================\n",
            " text_vectorization (TextVec  (None, None)             0         \n",
            " torization)                                                     \n",
            "                                                                 \n",
            " embedding (Embedding)       (None, None, 128)         640000    \n",
            "                                                                 \n",
            " bidirectional (Bidirectiona  (None, 256)              198144    \n",
            " l)                                                              \n",
            "                                                                 \n",
            " dropout (Dropout)           (None, 256)               0         \n",
            "                                                                 \n",
            " dense (Dense)               (None, 256)               65792     \n",
            "                                                                 \n",
            " dense_1 (Dense)             (None, 128)               32896     \n",
            "                                                                 \n",
            " dense_2 (Dense)             (None, 64)                8256      \n",
            "                                                                 \n",
            " dense_3 (Dense)             (None, 32)                2080      \n",
            "                                                                 \n",
            " dense_4 (Dense)             (None, 1)                 33        \n",
            "                                                                 \n",
            "=================================================================\n",
            "Total params: 947,201\n",
            "Trainable params: 947,201\n",
            "Non-trainable params: 0\n",
            "_________________________________________________________________\n"
          ]
        }
      ]
    },
    {
      "cell_type": "code",
      "metadata": {
        "colab": {
          "base_uri": "https://localhost:8080/"
        },
        "id": "XpfVaKm_H-In",
        "outputId": "836cca7f-a66b-407b-ab1c-f0ba23361e6a"
      },
      "source": [
        "model1.compile(loss=tf.losses.MSE,\n",
        "              optimizer=tf.keras.optimizers.Adam(5e-4),\n",
        "              metrics=['mse'])\n",
        "callback = tf.keras.callbacks.EarlyStopping(monitor = 'val_loss', patience = 1)\n",
        "# if(tf.test.gpu_device_name() == '/device:GPU:0'):\n",
        "#   history = model1.fit(overview, rev, validation_split=0.15, batch_size=128, epochs=15)\n",
        "history = model1.fit(overview, rev, validation_split=0.15, batch_size=128, epochs=15,callbacks = [callback])"
      ],
      "execution_count": 78,
      "outputs": [
        {
          "output_type": "stream",
          "name": "stdout",
          "text": [
            "Epoch 1/15\n",
            "20/20 [==============================] - 14s 260ms/step - loss: 239.2003 - mse: 239.2003 - val_loss: 138.3656 - val_mse: 138.3656\n",
            "Epoch 2/15\n",
            "20/20 [==============================] - 2s 109ms/step - loss: 44.3642 - mse: 44.3642 - val_loss: 14.9455 - val_mse: 14.9455\n",
            "Epoch 3/15\n",
            "20/20 [==============================] - 2s 110ms/step - loss: 14.2409 - mse: 14.2409 - val_loss: 10.9822 - val_mse: 10.9822\n",
            "Epoch 4/15\n",
            "20/20 [==============================] - 2s 105ms/step - loss: 10.6946 - mse: 10.6946 - val_loss: 10.0962 - val_mse: 10.0962\n",
            "Epoch 5/15\n",
            "20/20 [==============================] - 2s 106ms/step - loss: 9.3528 - mse: 9.3528 - val_loss: 9.2913 - val_mse: 9.2913\n",
            "Epoch 6/15\n",
            "20/20 [==============================] - 2s 105ms/step - loss: 8.0135 - mse: 8.0135 - val_loss: 9.0014 - val_mse: 9.0014\n",
            "Epoch 7/15\n",
            "20/20 [==============================] - 2s 104ms/step - loss: 7.0088 - mse: 7.0088 - val_loss: 8.9790 - val_mse: 8.9790\n",
            "Epoch 8/15\n",
            "20/20 [==============================] - 2s 103ms/step - loss: 5.9211 - mse: 5.9211 - val_loss: 9.1778 - val_mse: 9.1778\n"
          ]
        }
      ]
    },
    {
      "cell_type": "code",
      "metadata": {
        "id": "WY_cnIOHH-Gx"
      },
      "source": [
        "overview_op = tf.keras.Model(inputs=model1.input, outputs=model1.get_layer('dense_3').output)\n",
        "# overview_op = tf.keras.Model(inputs=model1.input, outputs=model1.get_layer('bidirectional').output)\n",
        "over_feats = overview_op(overview)\n",
        "over_feats = over_feats.numpy()\n",
        "over_output = model1.predict(overview)"
      ],
      "execution_count": 79,
      "outputs": []
    },
    {
      "cell_type": "code",
      "metadata": {
        "id": "vq6QcXY8H-EW"
      },
      "source": [
        "tag_line = train1['tagline']\n",
        "tag_line = np.asarray(tag_line).astype(str)\n",
        "VOCAB_SIZE = 5000\n",
        "encoder1 = tf.keras.layers.TextVectorization(\n",
        "    max_tokens=VOCAB_SIZE)\n",
        "encoder1.adapt(tag_line)"
      ],
      "execution_count": 80,
      "outputs": []
    },
    {
      "cell_type": "code",
      "metadata": {
        "colab": {
          "base_uri": "https://localhost:8080/"
        },
        "id": "FVj5UJ9IH-CT",
        "outputId": "e852742a-8f4e-460b-980b-eb45e7c4e9eb"
      },
      "source": [
        "tf.keras.backend.clear_session()\n",
        "model2 = tf.keras.Sequential([\n",
        "    encoder1,\n",
        "    tf.keras.layers.Embedding(\n",
        "        input_dim=len(encoder.get_vocabulary()),\n",
        "        output_dim=128,\n",
        "\n",
        "        mask_zero=True),\n",
        "    tf.keras.layers.Bidirectional(tf.keras.layers.GRU(128)),\n",
        "    tf.keras.layers.Dropout(0.5),\n",
        "    tf.keras.layers.Dense(256, activation='leaky_relu'), \n",
        "    tf.keras.layers.Dense(128, activation='leaky_relu'),\n",
        "    tf.keras.layers.Dense(64, activation='leaky_relu'),\n",
        "    tf.keras.layers.Dense(32, activation='leaky_relu'),\n",
        "    tf.keras.layers.Dense(1, activation='leaky_relu')\n",
        "])\n",
        "model2.summary()"
      ],
      "execution_count": 81,
      "outputs": [
        {
          "output_type": "stream",
          "name": "stdout",
          "text": [
            "Model: \"sequential\"\n",
            "_________________________________________________________________\n",
            " Layer (type)                Output Shape              Param #   \n",
            "=================================================================\n",
            " text_vectorization (TextVec  (None, None)             0         \n",
            " torization)                                                     \n",
            "                                                                 \n",
            " embedding (Embedding)       (None, None, 128)         640000    \n",
            "                                                                 \n",
            " bidirectional (Bidirectiona  (None, 256)              198144    \n",
            " l)                                                              \n",
            "                                                                 \n",
            " dropout (Dropout)           (None, 256)               0         \n",
            "                                                                 \n",
            " dense (Dense)               (None, 256)               65792     \n",
            "                                                                 \n",
            " dense_1 (Dense)             (None, 128)               32896     \n",
            "                                                                 \n",
            " dense_2 (Dense)             (None, 64)                8256      \n",
            "                                                                 \n",
            " dense_3 (Dense)             (None, 32)                2080      \n",
            "                                                                 \n",
            " dense_4 (Dense)             (None, 1)                 33        \n",
            "                                                                 \n",
            "=================================================================\n",
            "Total params: 947,201\n",
            "Trainable params: 947,201\n",
            "Non-trainable params: 0\n",
            "_________________________________________________________________\n"
          ]
        }
      ]
    },
    {
      "cell_type": "code",
      "metadata": {
        "colab": {
          "base_uri": "https://localhost:8080/"
        },
        "id": "0ALNAxm1JCWc",
        "outputId": "b26cfeb0-0b65-4e72-af35-802f11eefb66"
      },
      "source": [
        "model2.compile(loss=tf.losses.MSE,\n",
        "              optimizer=tf.keras.optimizers.Adam(5e-4),\n",
        "              metrics=['mse'])\n",
        "# if(tf.test.gpu_device_name() == '/device:GPU:0'):\n",
        "#   history = model2.fit(tag_line, rev, validation_split=0.15, batch_size=128, epochs=15)\n",
        "callback = tf.keras.callbacks.EarlyStopping(monitor = 'val_loss', patience = 1)\n",
        "history = model2.fit(tag_line, rev, validation_split=0.15, batch_size=128, epochs=15,callbacks = [callback])"
      ],
      "execution_count": 82,
      "outputs": [
        {
          "output_type": "stream",
          "name": "stdout",
          "text": [
            "Epoch 1/15\n",
            "20/20 [==============================] - 13s 204ms/step - loss: 246.3138 - mse: 246.3138 - val_loss: 186.6534 - val_mse: 186.6534\n",
            "Epoch 2/15\n",
            "20/20 [==============================] - 1s 33ms/step - loss: 69.1358 - mse: 69.1358 - val_loss: 23.4139 - val_mse: 23.4139\n",
            "Epoch 3/15\n",
            "20/20 [==============================] - 1s 33ms/step - loss: 15.3873 - mse: 15.3873 - val_loss: 13.3361 - val_mse: 13.3361\n",
            "Epoch 4/15\n",
            "20/20 [==============================] - 1s 32ms/step - loss: 10.8658 - mse: 10.8658 - val_loss: 10.9767 - val_mse: 10.9767\n",
            "Epoch 5/15\n",
            "20/20 [==============================] - 1s 32ms/step - loss: 8.7609 - mse: 8.7609 - val_loss: 10.2168 - val_mse: 10.2168\n",
            "Epoch 6/15\n",
            "20/20 [==============================] - 1s 33ms/step - loss: 7.9637 - mse: 7.9637 - val_loss: 10.0023 - val_mse: 10.0023\n",
            "Epoch 7/15\n",
            "20/20 [==============================] - 1s 32ms/step - loss: 6.9408 - mse: 6.9408 - val_loss: 10.0210 - val_mse: 10.0210\n"
          ]
        }
      ]
    },
    {
      "cell_type": "code",
      "metadata": {
        "id": "9OPeUJYjJCQw"
      },
      "source": [
        "tag1 = tf.keras.Model(inputs=model2.input, outputs=model2.get_layer('dense_3').output)\n",
        "# tag1 = tf.keras.Model(inputs=model2.input, outputs=model2.get_layer('bidirectional').output)\n",
        "tag_feats = tag1(tag_line)\n",
        "tag_feats = tag_feats.numpy()\n",
        "tag_output = model1.predict(tag_line)"
      ],
      "execution_count": 83,
      "outputs": []
    },
    {
      "cell_type": "markdown",
      "metadata": {
        "id": "BUCjeT6iLsLD"
      },
      "source": [
        "# LR only Text data"
      ]
    },
    {
      "cell_type": "code",
      "metadata": {
        "colab": {
          "base_uri": "https://localhost:8080/"
        },
        "id": "nlNRkNcrJCO3",
        "outputId": "c99e44fe-e39d-4232-fe23-60fe01d20309"
      },
      "source": [
        "# Preprocessing training data\n",
        "x_train = np.hstack((over_output,tag_output))\n",
        "y_train = np.array(y)\n",
        "\n",
        "indices = np.where(np.isinf(x_train))\n",
        "\n",
        "x_train[indices] = 0.0\n",
        "\n",
        "temp = x_train.T\n",
        "mean = []\n",
        "std = []\n",
        "for i in range(len(temp)):\n",
        "  mean.append(np.mean(temp[i]))\n",
        "  std.append(np.std(temp[i]))\n",
        "  temp[i] = (temp[i] - np.mean(temp[i]))/(np.std(temp[i]) + 1e-9)\n",
        "x_train = temp.T\n",
        "print(x_train.shape)\n",
        "x_train1,x_val1,y_train1,y_val1 = train_test_split(x_train,y_train, test_size=0.05)"
      ],
      "execution_count": 84,
      "outputs": [
        {
          "output_type": "stream",
          "name": "stdout",
          "text": [
            "(3000, 2)\n"
          ]
        }
      ]
    },
    {
      "cell_type": "code",
      "metadata": {
        "id": "VSjc5c94Ku5N"
      },
      "source": [
        "# Pre-processing Test data\n",
        "test2 = pd.read_csv('test.csv')\n",
        "overview_test = test2['overview']\n",
        "tagline_test = test2['tagline']\n",
        "\n",
        "overview_test = np.asarray(overview_test).astype(str)\n",
        "tagline_test = np.asarray(tagline_test).astype(str)\n",
        "\n",
        "over_test = model1.predict(overview_test)\n",
        "tag_test = model2.predict(tagline_test)\n",
        "\n",
        "x_test = np.hstack((over_test,tag_test))\n",
        "\n",
        "indices = np.where(np.isinf(x_test))\n",
        "x_test[indices] = 0.0\n",
        "\n",
        "temp = x_test.T\n",
        "for i in range(len(temp)):\n",
        "  temp[i] = (temp[i] - mean[i])/(std[i] + 1e-9)\n",
        "x_test= temp.T"
      ],
      "execution_count": 85,
      "outputs": []
    },
    {
      "cell_type": "code",
      "metadata": {
        "colab": {
          "base_uri": "https://localhost:8080/"
        },
        "id": "p1UnZwNOKO-X",
        "outputId": "56c96427-6154-4c62-d61c-f8e2b9bc3d02"
      },
      "source": [
        "reg = LinearRegression().fit(x_train1, y_train1)\n",
        "\n",
        "y_train_pred = reg.predict(x_train1)\n",
        "print('Training RMSLE on linear regression only text data: ',np.sum(np.mean(np.sqrt((y_train_pred - y_train1)**2))))"
      ],
      "execution_count": 86,
      "outputs": [
        {
          "output_type": "stream",
          "name": "stdout",
          "text": [
            "Training RMSLE on linear regression only text data:  1.4977941737009577\n"
          ]
        }
      ]
    },
    {
      "cell_type": "code",
      "metadata": {
        "colab": {
          "base_uri": "https://localhost:8080/"
        },
        "id": "90ESv2wgKO71",
        "outputId": "4a6d1bae-6a9a-44f3-e5c3-0b7054b1c5c7"
      },
      "source": [
        "y_val_pred = reg.predict(x_val1)\n",
        "print('validation RMSLE on linear regression: ',np.sum(np.mean(np.sqrt((y_val_pred - y_val1)**2))))"
      ],
      "execution_count": 87,
      "outputs": [
        {
          "output_type": "stream",
          "name": "stdout",
          "text": [
            "validation RMSLE on linear regression:  1.5594530631869705\n"
          ]
        }
      ]
    },
    {
      "cell_type": "code",
      "metadata": {
        "id": "Otpbf-lLKmwa"
      },
      "source": [
        "y_test = reg.predict(x_test)\n",
        "\n",
        "sub = pd.read_csv('sample_submission.csv')\n",
        "df_sub = pd.DataFrame()\n",
        "df_sub['id'] = sub['id']\n",
        "df_sub['revenue'] = np.expm1(y_test)\n",
        "#print(df_sub['revenue'])\n",
        "df_sub.to_csv(\"submission_lr_o_text.csv\", index=False)"
      ],
      "execution_count": 89,
      "outputs": []
    },
    {
      "cell_type": "markdown",
      "metadata": {
        "id": "vTBUNqg1LLVi"
      },
      "source": [
        "# ANN only Text data"
      ]
    },
    {
      "cell_type": "code",
      "metadata": {
        "colab": {
          "base_uri": "https://localhost:8080/"
        },
        "id": "fI3WarcEMKtB",
        "outputId": "f2a95ba3-eb52-4d6e-b7b5-5a99f655beb5"
      },
      "source": [
        "# Preprocessing training data\n",
        "x_train = np.hstack((over_output,tag_output))\n",
        "y_train = np.array(y)\n",
        "\n",
        "indices = np.where(np.isinf(x_train))\n",
        "\n",
        "x_train[indices] = 0.0\n",
        "\n",
        "temp = x_train.T\n",
        "mean = []\n",
        "std = []\n",
        "for i in range(len(temp)):\n",
        "  mean.append(np.mean(temp[i]))\n",
        "  std.append(np.std(temp[i]))\n",
        "  temp[i] = (temp[i] - np.mean(temp[i]))/(np.std(temp[i]) + 1e-9)\n",
        "x_train = temp.T\n",
        "print(x_train.shape)"
      ],
      "execution_count": 90,
      "outputs": [
        {
          "output_type": "stream",
          "name": "stdout",
          "text": [
            "(3000, 2)\n"
          ]
        }
      ]
    },
    {
      "cell_type": "code",
      "metadata": {
        "colab": {
          "base_uri": "https://localhost:8080/"
        },
        "id": "Mdx9iz3jMNch",
        "outputId": "d30051f6-7b48-4ead-dbff-73ba7d6a3408"
      },
      "source": [
        "# Pre-processing Test data\n",
        "test2 = pd.read_csv('test.csv')\n",
        "overview_test = test2['overview']\n",
        "tagline_test = test2['tagline']\n",
        "\n",
        "overview_test = np.asarray(overview_test).astype(str)\n",
        "tagline_test = np.asarray(tagline_test).astype(str)\n",
        "\n",
        "over_test = model1.predict(overview_test)\n",
        "tag_test = model2.predict(tagline_test)\n",
        "\n",
        "x_test = np.hstack((over_test,tag_test))\n",
        "\n",
        "indices = np.where(np.isinf(x_test))\n",
        "x_test[indices] = 0.0\n",
        "\n",
        "temp = x_test.T\n",
        "for i in range(len(temp)):\n",
        "  temp[i] = (temp[i] - mean[i])/(std[i] + 1e-9)\n",
        "x_test = temp.T\n",
        "print(x_test.shape)"
      ],
      "execution_count": 91,
      "outputs": [
        {
          "output_type": "stream",
          "name": "stdout",
          "text": [
            "(4398, 2)\n"
          ]
        }
      ]
    },
    {
      "cell_type": "code",
      "metadata": {
        "id": "FTQ1kJJUKO5m"
      },
      "source": [
        "x_train = np.reshape(x_train,(3000,1,2))\n",
        "x_test = np.reshape(x_test,(4398,1,2))"
      ],
      "execution_count": 92,
      "outputs": []
    },
    {
      "cell_type": "code",
      "metadata": {
        "colab": {
          "base_uri": "https://localhost:8080/"
        },
        "id": "scvipa6hMcrb",
        "outputId": "053c3757-616c-4aa4-9e54-be0d0cf511f2"
      },
      "source": [
        "tf.keras.backend.clear_session()\n",
        "\n",
        "corr_model = tf.keras.models.Sequential()\n",
        "corr_model.add(tf.keras.layers.Dense(128, activation = 'leaky_relu', input_shape = (1,2)))    \n",
        "corr_model.add(tf.keras.layers.Dense(64, activation = 'leaky_relu'))\n",
        "corr_model.add(tf.keras.layers.Dense(1, activation = 'leaky_relu'))\n",
        "corr_model.summary()"
      ],
      "execution_count": 93,
      "outputs": [
        {
          "output_type": "stream",
          "name": "stdout",
          "text": [
            "Model: \"sequential\"\n",
            "_________________________________________________________________\n",
            " Layer (type)                Output Shape              Param #   \n",
            "=================================================================\n",
            " dense (Dense)               (None, 1, 128)            384       \n",
            "                                                                 \n",
            " dense_1 (Dense)             (None, 1, 64)             8256      \n",
            "                                                                 \n",
            " dense_2 (Dense)             (None, 1, 1)              65        \n",
            "                                                                 \n",
            "=================================================================\n",
            "Total params: 8,705\n",
            "Trainable params: 8,705\n",
            "Non-trainable params: 0\n",
            "_________________________________________________________________\n"
          ]
        }
      ]
    },
    {
      "cell_type": "code",
      "metadata": {
        "colab": {
          "base_uri": "https://localhost:8080/"
        },
        "id": "ksxPT2HdL1VC",
        "outputId": "ec708cb0-3ed3-4a8d-916f-c5818e6f88fe"
      },
      "source": [
        "corr_model.compile(loss='mse', optimizer= tf.keras.optimizers.Adam(learning_rate=0.009), metrics=['mse']) \n",
        "# if(tf.test.gpu_device_name() == '/device:GPU:0'):\n",
        "#   history = corr_model.fit(x_train, y, validation_split=0.15, batch_size=256, epochs=75)\n",
        "\n",
        "callback = tf.keras.callbacks.EarlyStopping(monitor = 'val_loss', patience = 5)\n",
        "history = corr_model.fit(x_train, y, validation_split=0.15, batch_size=256, epochs=75, callbacks = [callback])"
      ],
      "execution_count": 94,
      "outputs": [
        {
          "output_type": "stream",
          "name": "stdout",
          "text": [
            "Epoch 1/75\n",
            "10/10 [==============================] - 1s 31ms/step - loss: 181.4693 - mse: 181.4693 - val_loss: 50.8067 - val_mse: 50.8067\n",
            "Epoch 2/75\n",
            "10/10 [==============================] - 0s 8ms/step - loss: 43.2675 - mse: 43.2675 - val_loss: 20.4516 - val_mse: 20.4516\n",
            "Epoch 3/75\n",
            "10/10 [==============================] - 0s 8ms/step - loss: 27.1576 - mse: 27.1576 - val_loss: 24.4958 - val_mse: 24.4958\n",
            "Epoch 4/75\n",
            "10/10 [==============================] - 0s 8ms/step - loss: 18.0193 - mse: 18.0193 - val_loss: 12.4641 - val_mse: 12.4641\n",
            "Epoch 5/75\n",
            "10/10 [==============================] - 0s 7ms/step - loss: 13.5935 - mse: 13.5935 - val_loss: 12.1142 - val_mse: 12.1142\n",
            "Epoch 6/75\n",
            "10/10 [==============================] - 0s 8ms/step - loss: 11.2878 - mse: 11.2878 - val_loss: 8.8613 - val_mse: 8.8613\n",
            "Epoch 7/75\n",
            "10/10 [==============================] - 0s 8ms/step - loss: 10.3593 - mse: 10.3593 - val_loss: 8.7611 - val_mse: 8.7611\n",
            "Epoch 8/75\n",
            "10/10 [==============================] - 0s 8ms/step - loss: 9.8007 - mse: 9.8007 - val_loss: 8.0946 - val_mse: 8.0946\n",
            "Epoch 9/75\n",
            "10/10 [==============================] - 0s 8ms/step - loss: 9.6352 - mse: 9.6352 - val_loss: 8.0519 - val_mse: 8.0519\n",
            "Epoch 10/75\n",
            "10/10 [==============================] - 0s 8ms/step - loss: 9.5507 - mse: 9.5507 - val_loss: 8.1424 - val_mse: 8.1424\n",
            "Epoch 11/75\n",
            "10/10 [==============================] - 0s 8ms/step - loss: 9.5661 - mse: 9.5661 - val_loss: 8.0800 - val_mse: 8.0800\n",
            "Epoch 12/75\n",
            "10/10 [==============================] - 0s 8ms/step - loss: 9.5942 - mse: 9.5942 - val_loss: 8.0027 - val_mse: 8.0027\n",
            "Epoch 13/75\n",
            "10/10 [==============================] - 0s 8ms/step - loss: 9.5259 - mse: 9.5259 - val_loss: 8.0518 - val_mse: 8.0518\n",
            "Epoch 14/75\n",
            "10/10 [==============================] - 0s 9ms/step - loss: 9.5197 - mse: 9.5197 - val_loss: 8.0577 - val_mse: 8.0577\n",
            "Epoch 15/75\n",
            "10/10 [==============================] - 0s 7ms/step - loss: 9.5134 - mse: 9.5134 - val_loss: 8.0524 - val_mse: 8.0524\n",
            "Epoch 16/75\n",
            "10/10 [==============================] - 0s 8ms/step - loss: 9.5155 - mse: 9.5155 - val_loss: 8.0042 - val_mse: 8.0042\n",
            "Epoch 17/75\n",
            "10/10 [==============================] - 0s 8ms/step - loss: 9.4820 - mse: 9.4820 - val_loss: 7.9769 - val_mse: 7.9769\n",
            "Epoch 18/75\n",
            "10/10 [==============================] - 0s 7ms/step - loss: 9.4898 - mse: 9.4898 - val_loss: 8.0365 - val_mse: 8.0365\n",
            "Epoch 19/75\n",
            "10/10 [==============================] - 0s 9ms/step - loss: 9.4789 - mse: 9.4789 - val_loss: 7.9908 - val_mse: 7.9908\n",
            "Epoch 20/75\n",
            "10/10 [==============================] - 0s 8ms/step - loss: 9.5276 - mse: 9.5276 - val_loss: 8.0205 - val_mse: 8.0205\n",
            "Epoch 21/75\n",
            "10/10 [==============================] - 0s 8ms/step - loss: 9.5063 - mse: 9.5063 - val_loss: 7.9718 - val_mse: 7.9718\n",
            "Epoch 22/75\n",
            "10/10 [==============================] - 0s 8ms/step - loss: 9.4840 - mse: 9.4840 - val_loss: 7.9691 - val_mse: 7.9691\n",
            "Epoch 23/75\n",
            "10/10 [==============================] - 0s 8ms/step - loss: 9.4710 - mse: 9.4710 - val_loss: 7.9661 - val_mse: 7.9661\n",
            "Epoch 24/75\n",
            "10/10 [==============================] - 0s 9ms/step - loss: 9.4752 - mse: 9.4752 - val_loss: 7.9665 - val_mse: 7.9665\n",
            "Epoch 25/75\n",
            "10/10 [==============================] - 0s 8ms/step - loss: 9.4691 - mse: 9.4691 - val_loss: 7.9941 - val_mse: 7.9941\n",
            "Epoch 26/75\n",
            "10/10 [==============================] - 0s 8ms/step - loss: 9.4744 - mse: 9.4744 - val_loss: 7.9924 - val_mse: 7.9924\n",
            "Epoch 27/75\n",
            "10/10 [==============================] - 0s 9ms/step - loss: 9.5120 - mse: 9.5120 - val_loss: 7.9844 - val_mse: 7.9844\n",
            "Epoch 28/75\n",
            "10/10 [==============================] - 0s 8ms/step - loss: 9.4980 - mse: 9.4980 - val_loss: 7.9637 - val_mse: 7.9637\n",
            "Epoch 29/75\n",
            "10/10 [==============================] - 0s 8ms/step - loss: 9.4960 - mse: 9.4960 - val_loss: 8.0339 - val_mse: 8.0339\n",
            "Epoch 30/75\n",
            "10/10 [==============================] - 0s 8ms/step - loss: 9.4677 - mse: 9.4677 - val_loss: 7.9640 - val_mse: 7.9640\n",
            "Epoch 31/75\n",
            "10/10 [==============================] - 0s 8ms/step - loss: 9.4651 - mse: 9.4651 - val_loss: 7.9597 - val_mse: 7.9597\n",
            "Epoch 32/75\n",
            "10/10 [==============================] - 0s 8ms/step - loss: 9.4709 - mse: 9.4709 - val_loss: 7.9647 - val_mse: 7.9647\n",
            "Epoch 33/75\n",
            "10/10 [==============================] - 0s 8ms/step - loss: 9.4910 - mse: 9.4910 - val_loss: 7.9663 - val_mse: 7.9663\n",
            "Epoch 34/75\n",
            "10/10 [==============================] - 0s 8ms/step - loss: 9.5120 - mse: 9.5120 - val_loss: 8.0399 - val_mse: 8.0399\n",
            "Epoch 35/75\n",
            "10/10 [==============================] - 0s 8ms/step - loss: 9.5744 - mse: 9.5744 - val_loss: 8.1577 - val_mse: 8.1577\n",
            "Epoch 36/75\n",
            "10/10 [==============================] - 0s 9ms/step - loss: 9.6182 - mse: 9.6182 - val_loss: 7.9730 - val_mse: 7.9730\n"
          ]
        }
      ]
    },
    {
      "cell_type": "code",
      "metadata": {
        "id": "0b-vX2qkL1Qr"
      },
      "source": [
        "y_test = corr_model.predict(x_test)\n",
        "\n",
        "y_test[np.where(np.isinf(np.expm1(y_test)))] = 0\n",
        "y_test = np.reshape(y_test, (4398))\n",
        "\n",
        "sub = pd.read_csv('sample_submission.csv')\n",
        "df_sub = pd.DataFrame()\n",
        "df_sub['id'] = sub['id']\n",
        "df_sub['revenue'] = np.expm1(y_test)\n",
        "#print(df_sub['revenue'])\n",
        "df_sub.to_csv(\"submission_ann_o_text.csv\", index=False)"
      ],
      "execution_count": 95,
      "outputs": []
    },
    {
      "cell_type": "markdown",
      "metadata": {
        "id": "nPGEsl18NJt2"
      },
      "source": [
        "# LR with text data"
      ]
    },
    {
      "cell_type": "code",
      "metadata": {
        "colab": {
          "base_uri": "https://localhost:8080/"
        },
        "id": "RJO_xcTnNJbz",
        "outputId": "38b74969-b430-45dc-fa00-8569542f4a29"
      },
      "source": [
        "# Pre-processing training data\n",
        "x_train = train\n",
        "x_train = np.hstack((x_train,over_feats,tag_feats))\n",
        "y_train = np.array(y)\n",
        "\n",
        "indices = np.where(np.isinf(x_train))\n",
        "\n",
        "x_train[indices] = 0.0\n",
        "\n",
        "temp = x_train.T\n",
        "mean = []\n",
        "std = []\n",
        "for i in range(len(temp)):\n",
        "  mean.append(np.mean(temp[i]))\n",
        "  std.append(np.std(temp[i]))\n",
        "  temp[i] = (temp[i] - np.mean(temp[i]))/(np.std(temp[i]) + 1e-9)\n",
        "x_train = temp.T\n",
        "print(x_train.shape)\n",
        "x_train1,x_val1,y_train1,y_val1 = train_test_split(x_train,y_train, test_size=0.05)"
      ],
      "execution_count": 96,
      "outputs": [
        {
          "output_type": "stream",
          "name": "stdout",
          "text": [
            "(3000, 246)\n"
          ]
        }
      ]
    },
    {
      "cell_type": "code",
      "metadata": {
        "id": "eI2gEE4yRJ6f"
      },
      "source": [
        "# Pre-processing test data\n",
        "x_test = test\n",
        "\n",
        "test2 = pd.read_csv('test.csv')\n",
        "overview_test = test2['overview']\n",
        "tagline_test = test2['tagline']\n",
        "\n",
        "overview_test = np.asarray(overview_test).astype(str)\n",
        "tagline_test = np.asarray(tagline_test).astype(str)\n",
        "\n",
        "test_overview = overview_op(overview_test)\n",
        "test_tagline = tag1(tagline_test)\n",
        "\n",
        "x_test =np.hstack((x_test,test_overview,test_tagline))\n",
        "\n",
        "indices = np.where(np.isinf(x_test))\n",
        "x_test[indices] = 0.0\n",
        "\n",
        "temp = x_test.T\n",
        "for i in range(len(temp)):\n",
        "  temp[i] = (temp[i] - mean[i])/(std[i] + 1e-9)\n",
        "x_test= temp.T"
      ],
      "execution_count": 97,
      "outputs": []
    },
    {
      "cell_type": "code",
      "metadata": {
        "colab": {
          "base_uri": "https://localhost:8080/"
        },
        "id": "U_sFJGtKNJZL",
        "outputId": "04d9b7f7-af2c-4ea5-be58-f7c6fb8a3306"
      },
      "source": [
        "reg = LinearRegression().fit(x_train1, y_train1)\n",
        "\n",
        "y_train_pred = reg.predict(x_train1)\n",
        "print('Training RMSLE on linear regression: ',np.sum(np.mean(np.sqrt((y_train_pred - y_train1)**2))))"
      ],
      "execution_count": 98,
      "outputs": [
        {
          "output_type": "stream",
          "name": "stdout",
          "text": [
            "Training RMSLE on linear regression:  1.1706152954085518\n"
          ]
        }
      ]
    },
    {
      "cell_type": "code",
      "metadata": {
        "colab": {
          "base_uri": "https://localhost:8080/"
        },
        "id": "FQL1yY3sNJW7",
        "outputId": "9bd6fe07-0b31-46d2-eaf9-007f6f08fad6"
      },
      "source": [
        "y_val_pred = reg.predict(x_val1)\n",
        "print('validation RMSLE on linear regression: ',np.sum(np.mean(np.sqrt((y_val_pred - y_val1)**2))))"
      ],
      "execution_count": 99,
      "outputs": [
        {
          "output_type": "stream",
          "name": "stdout",
          "text": [
            "validation RMSLE on linear regression:  1.1886565525081003\n"
          ]
        }
      ]
    },
    {
      "cell_type": "code",
      "metadata": {
        "id": "E8CeEapbNJUV"
      },
      "source": [
        "y_test = reg.predict(x_test)\n",
        "\n",
        "sub = pd.read_csv('sample_submission.csv')\n",
        "df_sub = pd.DataFrame()\n",
        "df_sub['id'] = sub['id']\n",
        "df_sub['revenue'] = np.expm1(y_test)\n",
        "#print(df_sub['revenue'])\n",
        "df_sub.to_csv(\"submission_lr_w_text.csv\", index=False)"
      ],
      "execution_count": 100,
      "outputs": []
    },
    {
      "cell_type": "markdown",
      "metadata": {
        "id": "FTCaNk1QSKYQ"
      },
      "source": [
        "# ANN with text data"
      ]
    },
    {
      "cell_type": "code",
      "metadata": {
        "colab": {
          "base_uri": "https://localhost:8080/"
        },
        "id": "KOnK9EFaNJRj",
        "outputId": "8fc781d3-42c7-4d81-a30a-1d9ba0f8e4d8"
      },
      "source": [
        "# Pre-processing training data\n",
        "x_train = train\n",
        "x_train = np.hstack((x_train,over_feats,tag_feats))\n",
        "y_train = np.array(y)\n",
        "\n",
        "indices = np.where(np.isinf(x_train))\n",
        "\n",
        "x_train[indices] = 0.0\n",
        "\n",
        "temp = x_train.T\n",
        "mean = []\n",
        "std = []\n",
        "for i in range(len(temp)):\n",
        "  mean.append(np.mean(temp[i]))\n",
        "  std.append(np.std(temp[i]))\n",
        "  temp[i] = (temp[i] - np.mean(temp[i]))/(np.std(temp[i]) + 1e-9)\n",
        "x_train = temp.T\n",
        "print(x_train.shape)\n"
      ],
      "execution_count": 101,
      "outputs": [
        {
          "output_type": "stream",
          "name": "stdout",
          "text": [
            "(3000, 246)\n"
          ]
        }
      ]
    },
    {
      "cell_type": "code",
      "metadata": {
        "colab": {
          "base_uri": "https://localhost:8080/"
        },
        "id": "vi-_is2uNJPN",
        "outputId": "7d1ea706-8240-486c-b70c-0734602b0647"
      },
      "source": [
        "# Pre-processing test data\n",
        "x_test = test\n",
        "\n",
        "test2 = pd.read_csv('test.csv')\n",
        "overview_test = test2['overview']\n",
        "tagline_test = test2['tagline']\n",
        "\n",
        "overview_test = np.asarray(overview_test).astype(str)\n",
        "tagline_test = np.asarray(tagline_test).astype(str)\n",
        "\n",
        "test_overview = overview_op(overview_test)\n",
        "test_tagline = tag1(tagline_test)\n",
        "\n",
        "x_test =np.hstack((x_test,test_overview,test_tagline))\n",
        "\n",
        "indices = np.where(np.isinf(x_test))\n",
        "x_test[indices] = 0.0\n",
        "\n",
        "temp = x_test.T\n",
        "for i in range(len(temp)):\n",
        "  temp[i] = (temp[i] - mean[i])/(std[i] + 1e-9)\n",
        "x_test = temp.T\n",
        "print(x_test.shape)"
      ],
      "execution_count": 102,
      "outputs": [
        {
          "output_type": "stream",
          "name": "stdout",
          "text": [
            "(4398, 246)\n"
          ]
        }
      ]
    },
    {
      "cell_type": "code",
      "metadata": {
        "id": "MBgPWipDS2JQ"
      },
      "source": [
        "x_train = np.reshape(x_train,(3000,1,246))\n",
        "x_test = np.reshape(x_test,(4398,1,246))\n"
      ],
      "execution_count": 103,
      "outputs": []
    },
    {
      "cell_type": "code",
      "metadata": {
        "colab": {
          "base_uri": "https://localhost:8080/"
        },
        "id": "mG9vstYUS8IO",
        "outputId": "81dd813d-6fde-4d4e-bc48-1e98b2a5cded"
      },
      "source": [
        "tf.keras.backend.clear_session()\n",
        "\n",
        "ann_model = tf.keras.models.Sequential()\n",
        "ann_model.add(tf.keras.layers.Dense(128, activation = 'leaky_relu', input_shape = (1,246)))     # leaky_relu\n",
        "ann_model.add(tf.keras.layers.Dense(128, activation = 'leaky_relu'))\n",
        "ann_model.add(tf.keras.layers.Dense(512, activation = 'relu'))\n",
        "ann_model.add(tf.keras.layers.Dense(1024, activation = 'leaky_relu'))\n",
        "ann_model.add(tf.keras.layers.Dense(512, activation = 'leaky_relu'))\n",
        "ann_model.add(tf.keras.layers.Dense(256, activation = 'relu'))\n",
        "ann_model.add(tf.keras.layers.Dense(128, activation = 'relu'))\n",
        "ann_model.add(tf.keras.layers.Dense(64, activation = 'leaky_relu'))\n",
        "ann_model.add(tf.keras.layers.Dense(32, activation = 'relu'))\n",
        "ann_model.add(tf.keras.layers.Dense(1, activation = 'leaky_relu'))\n",
        "ann_model.summary()"
      ],
      "execution_count": 104,
      "outputs": [
        {
          "output_type": "stream",
          "name": "stdout",
          "text": [
            "Model: \"sequential\"\n",
            "_________________________________________________________________\n",
            " Layer (type)                Output Shape              Param #   \n",
            "=================================================================\n",
            " dense (Dense)               (None, 1, 128)            31616     \n",
            "                                                                 \n",
            " dense_1 (Dense)             (None, 1, 128)            16512     \n",
            "                                                                 \n",
            " dense_2 (Dense)             (None, 1, 512)            66048     \n",
            "                                                                 \n",
            " dense_3 (Dense)             (None, 1, 1024)           525312    \n",
            "                                                                 \n",
            " dense_4 (Dense)             (None, 1, 512)            524800    \n",
            "                                                                 \n",
            " dense_5 (Dense)             (None, 1, 256)            131328    \n",
            "                                                                 \n",
            " dense_6 (Dense)             (None, 1, 128)            32896     \n",
            "                                                                 \n",
            " dense_7 (Dense)             (None, 1, 64)             8256      \n",
            "                                                                 \n",
            " dense_8 (Dense)             (None, 1, 32)             2080      \n",
            "                                                                 \n",
            " dense_9 (Dense)             (None, 1, 1)              33        \n",
            "                                                                 \n",
            "=================================================================\n",
            "Total params: 1,338,881\n",
            "Trainable params: 1,338,881\n",
            "Non-trainable params: 0\n",
            "_________________________________________________________________\n"
          ]
        }
      ]
    },
    {
      "cell_type": "code",
      "metadata": {
        "colab": {
          "base_uri": "https://localhost:8080/"
        },
        "id": "ALvaHvqGSZ-z",
        "outputId": "7f852a1a-0c16-4234-a5da-5f6357c57a92"
      },
      "source": [
        "ann_model.compile(loss='mse', optimizer= tf.keras.optimizers.Adam(learning_rate=0.00055), metrics=['mse']) \n",
        "# if(tf.test.gpu_device_name() == '/device:GPU:0'):\n",
        "#   history = ann_model.fit(x_train, y, validation_split=0.15, batch_size=256, epochs=350)\n",
        "\n",
        "callback = tf.keras.callbacks.EarlyStopping(monitor = 'val_loss', patience = 15)\n",
        "history = ann_model.fit(x_train, y, validation_split=0.15, batch_size=256, epochs=350, callbacks=[callback])"
      ],
      "execution_count": 105,
      "outputs": [
        {
          "output_type": "stream",
          "name": "stdout",
          "text": [
            "Epoch 1/350\n",
            "10/10 [==============================] - 2s 63ms/step - loss: 169.5421 - mse: 169.5421 - val_loss: 65.6271 - val_mse: 65.6271\n",
            "Epoch 2/350\n",
            "10/10 [==============================] - 0s 15ms/step - loss: 50.2646 - mse: 50.2646 - val_loss: 32.3823 - val_mse: 32.3823\n",
            "Epoch 3/350\n",
            "10/10 [==============================] - 0s 16ms/step - loss: 30.7078 - mse: 30.7078 - val_loss: 28.0527 - val_mse: 28.0527\n",
            "Epoch 4/350\n",
            "10/10 [==============================] - 0s 15ms/step - loss: 21.9218 - mse: 21.9218 - val_loss: 22.5975 - val_mse: 22.5975\n",
            "Epoch 5/350\n",
            "10/10 [==============================] - 0s 15ms/step - loss: 18.1322 - mse: 18.1322 - val_loss: 18.4069 - val_mse: 18.4069\n",
            "Epoch 6/350\n",
            "10/10 [==============================] - 0s 17ms/step - loss: 15.6586 - mse: 15.6586 - val_loss: 15.6419 - val_mse: 15.6419\n",
            "Epoch 7/350\n",
            "10/10 [==============================] - 0s 15ms/step - loss: 13.6360 - mse: 13.6360 - val_loss: 13.9171 - val_mse: 13.9171\n",
            "Epoch 8/350\n",
            "10/10 [==============================] - 0s 15ms/step - loss: 12.5379 - mse: 12.5379 - val_loss: 12.5491 - val_mse: 12.5491\n",
            "Epoch 9/350\n",
            "10/10 [==============================] - 0s 16ms/step - loss: 11.6166 - mse: 11.6166 - val_loss: 11.7972 - val_mse: 11.7972\n",
            "Epoch 10/350\n",
            "10/10 [==============================] - 0s 15ms/step - loss: 11.1148 - mse: 11.1148 - val_loss: 12.0319 - val_mse: 12.0319\n",
            "Epoch 11/350\n",
            "10/10 [==============================] - 0s 15ms/step - loss: 11.1598 - mse: 11.1598 - val_loss: 11.4044 - val_mse: 11.4044\n",
            "Epoch 12/350\n",
            "10/10 [==============================] - 0s 16ms/step - loss: 10.6646 - mse: 10.6646 - val_loss: 11.0077 - val_mse: 11.0077\n",
            "Epoch 13/350\n",
            "10/10 [==============================] - 0s 17ms/step - loss: 10.5009 - mse: 10.5009 - val_loss: 10.5504 - val_mse: 10.5504\n",
            "Epoch 14/350\n",
            "10/10 [==============================] - 0s 16ms/step - loss: 10.3437 - mse: 10.3437 - val_loss: 10.2995 - val_mse: 10.2995\n",
            "Epoch 15/350\n",
            "10/10 [==============================] - 0s 15ms/step - loss: 10.2826 - mse: 10.2826 - val_loss: 10.1838 - val_mse: 10.1838\n",
            "Epoch 16/350\n",
            "10/10 [==============================] - 0s 16ms/step - loss: 10.1297 - mse: 10.1297 - val_loss: 10.1649 - val_mse: 10.1649\n",
            "Epoch 17/350\n",
            "10/10 [==============================] - 0s 15ms/step - loss: 10.1121 - mse: 10.1121 - val_loss: 10.0979 - val_mse: 10.0979\n",
            "Epoch 18/350\n",
            "10/10 [==============================] - 0s 17ms/step - loss: 10.0061 - mse: 10.0061 - val_loss: 10.2035 - val_mse: 10.2035\n",
            "Epoch 19/350\n",
            "10/10 [==============================] - 0s 17ms/step - loss: 10.0833 - mse: 10.0833 - val_loss: 10.0022 - val_mse: 10.0022\n",
            "Epoch 20/350\n",
            "10/10 [==============================] - 0s 15ms/step - loss: 9.9870 - mse: 9.9870 - val_loss: 10.1368 - val_mse: 10.1368\n",
            "Epoch 21/350\n",
            "10/10 [==============================] - 0s 16ms/step - loss: 10.1339 - mse: 10.1339 - val_loss: 10.1411 - val_mse: 10.1411\n",
            "Epoch 22/350\n",
            "10/10 [==============================] - 0s 17ms/step - loss: 9.9589 - mse: 9.9589 - val_loss: 9.9474 - val_mse: 9.9474\n",
            "Epoch 23/350\n",
            "10/10 [==============================] - 0s 15ms/step - loss: 9.7990 - mse: 9.7990 - val_loss: 9.8636 - val_mse: 9.8636\n",
            "Epoch 24/350\n",
            "10/10 [==============================] - 0s 15ms/step - loss: 9.8355 - mse: 9.8355 - val_loss: 9.8243 - val_mse: 9.8243\n",
            "Epoch 25/350\n",
            "10/10 [==============================] - 0s 17ms/step - loss: 9.7882 - mse: 9.7882 - val_loss: 9.7996 - val_mse: 9.7996\n",
            "Epoch 26/350\n",
            "10/10 [==============================] - 0s 15ms/step - loss: 9.7448 - mse: 9.7448 - val_loss: 9.7396 - val_mse: 9.7396\n",
            "Epoch 27/350\n",
            "10/10 [==============================] - 0s 15ms/step - loss: 9.6985 - mse: 9.6985 - val_loss: 9.7839 - val_mse: 9.7839\n",
            "Epoch 28/350\n",
            "10/10 [==============================] - 0s 15ms/step - loss: 9.7720 - mse: 9.7720 - val_loss: 9.7101 - val_mse: 9.7101\n",
            "Epoch 29/350\n",
            "10/10 [==============================] - 0s 16ms/step - loss: 9.6943 - mse: 9.6943 - val_loss: 9.6840 - val_mse: 9.6840\n",
            "Epoch 30/350\n",
            "10/10 [==============================] - 0s 15ms/step - loss: 9.8011 - mse: 9.8011 - val_loss: 10.0456 - val_mse: 10.0456\n",
            "Epoch 31/350\n",
            "10/10 [==============================] - 0s 17ms/step - loss: 9.7627 - mse: 9.7627 - val_loss: 9.7442 - val_mse: 9.7442\n",
            "Epoch 32/350\n",
            "10/10 [==============================] - 0s 15ms/step - loss: 9.7579 - mse: 9.7579 - val_loss: 9.9636 - val_mse: 9.9636\n",
            "Epoch 33/350\n",
            "10/10 [==============================] - 0s 16ms/step - loss: 9.8739 - mse: 9.8739 - val_loss: 10.9665 - val_mse: 10.9665\n",
            "Epoch 34/350\n",
            "10/10 [==============================] - 0s 15ms/step - loss: 10.2619 - mse: 10.2619 - val_loss: 9.8220 - val_mse: 9.8220\n",
            "Epoch 35/350\n",
            "10/10 [==============================] - 0s 16ms/step - loss: 9.9384 - mse: 9.9384 - val_loss: 9.7989 - val_mse: 9.7989\n",
            "Epoch 36/350\n",
            "10/10 [==============================] - 0s 16ms/step - loss: 9.7463 - mse: 9.7463 - val_loss: 9.7264 - val_mse: 9.7264\n",
            "Epoch 37/350\n",
            "10/10 [==============================] - 0s 16ms/step - loss: 9.6454 - mse: 9.6454 - val_loss: 9.5555 - val_mse: 9.5555\n",
            "Epoch 38/350\n",
            "10/10 [==============================] - 0s 17ms/step - loss: 9.6166 - mse: 9.6166 - val_loss: 9.6415 - val_mse: 9.6415\n",
            "Epoch 39/350\n",
            "10/10 [==============================] - 0s 15ms/step - loss: 9.6073 - mse: 9.6073 - val_loss: 9.6278 - val_mse: 9.6278\n",
            "Epoch 40/350\n",
            "10/10 [==============================] - 0s 17ms/step - loss: 9.5970 - mse: 9.5970 - val_loss: 9.5524 - val_mse: 9.5524\n",
            "Epoch 41/350\n",
            "10/10 [==============================] - 0s 15ms/step - loss: 9.6632 - mse: 9.6632 - val_loss: 9.7725 - val_mse: 9.7725\n",
            "Epoch 42/350\n",
            "10/10 [==============================] - 0s 16ms/step - loss: 9.7300 - mse: 9.7300 - val_loss: 9.8011 - val_mse: 9.8011\n",
            "Epoch 43/350\n",
            "10/10 [==============================] - 0s 18ms/step - loss: 9.5813 - mse: 9.5813 - val_loss: 9.5047 - val_mse: 9.5047\n",
            "Epoch 44/350\n",
            "10/10 [==============================] - 0s 16ms/step - loss: 9.5765 - mse: 9.5765 - val_loss: 9.4936 - val_mse: 9.4936\n",
            "Epoch 45/350\n",
            "10/10 [==============================] - 0s 15ms/step - loss: 9.7315 - mse: 9.7315 - val_loss: 9.6264 - val_mse: 9.6264\n",
            "Epoch 46/350\n",
            "10/10 [==============================] - 0s 15ms/step - loss: 9.6153 - mse: 9.6153 - val_loss: 9.6597 - val_mse: 9.6597\n",
            "Epoch 47/350\n",
            "10/10 [==============================] - 0s 15ms/step - loss: 9.9686 - mse: 9.9686 - val_loss: 9.8106 - val_mse: 9.8106\n",
            "Epoch 48/350\n",
            "10/10 [==============================] - 0s 15ms/step - loss: 10.0414 - mse: 10.0414 - val_loss: 9.6871 - val_mse: 9.6871\n",
            "Epoch 49/350\n",
            "10/10 [==============================] - 0s 15ms/step - loss: 10.0915 - mse: 10.0915 - val_loss: 9.6638 - val_mse: 9.6638\n",
            "Epoch 50/350\n",
            "10/10 [==============================] - 0s 17ms/step - loss: 10.0753 - mse: 10.0753 - val_loss: 9.4803 - val_mse: 9.4803\n",
            "Epoch 51/350\n",
            "10/10 [==============================] - 0s 16ms/step - loss: 9.7077 - mse: 9.7077 - val_loss: 9.4821 - val_mse: 9.4821\n",
            "Epoch 52/350\n",
            "10/10 [==============================] - 0s 17ms/step - loss: 9.6151 - mse: 9.6151 - val_loss: 9.5922 - val_mse: 9.5922\n",
            "Epoch 53/350\n",
            "10/10 [==============================] - 0s 16ms/step - loss: 9.6730 - mse: 9.6730 - val_loss: 9.7035 - val_mse: 9.7035\n",
            "Epoch 54/350\n",
            "10/10 [==============================] - 0s 15ms/step - loss: 9.8411 - mse: 9.8411 - val_loss: 9.8536 - val_mse: 9.8536\n",
            "Epoch 55/350\n",
            "10/10 [==============================] - 0s 16ms/step - loss: 9.6880 - mse: 9.6880 - val_loss: 9.8165 - val_mse: 9.8165\n",
            "Epoch 56/350\n",
            "10/10 [==============================] - 0s 18ms/step - loss: 9.7087 - mse: 9.7087 - val_loss: 9.9970 - val_mse: 9.9970\n",
            "Epoch 57/350\n",
            "10/10 [==============================] - 0s 17ms/step - loss: 9.6142 - mse: 9.6142 - val_loss: 9.4299 - val_mse: 9.4299\n",
            "Epoch 58/350\n",
            "10/10 [==============================] - 0s 17ms/step - loss: 9.6082 - mse: 9.6082 - val_loss: 9.7732 - val_mse: 9.7732\n",
            "Epoch 59/350\n",
            "10/10 [==============================] - 0s 15ms/step - loss: 9.6919 - mse: 9.6919 - val_loss: 9.4365 - val_mse: 9.4365\n",
            "Epoch 60/350\n",
            "10/10 [==============================] - 0s 17ms/step - loss: 9.7273 - mse: 9.7273 - val_loss: 9.4191 - val_mse: 9.4191\n",
            "Epoch 61/350\n",
            "10/10 [==============================] - 0s 16ms/step - loss: 9.9560 - mse: 9.9560 - val_loss: 9.4331 - val_mse: 9.4331\n",
            "Epoch 62/350\n",
            "10/10 [==============================] - 0s 17ms/step - loss: 9.6878 - mse: 9.6878 - val_loss: 9.4156 - val_mse: 9.4156\n",
            "Epoch 63/350\n",
            "10/10 [==============================] - 0s 15ms/step - loss: 9.5651 - mse: 9.5651 - val_loss: 9.3994 - val_mse: 9.3994\n",
            "Epoch 64/350\n",
            "10/10 [==============================] - 0s 16ms/step - loss: 9.5317 - mse: 9.5317 - val_loss: 9.4716 - val_mse: 9.4716\n",
            "Epoch 65/350\n",
            "10/10 [==============================] - 0s 15ms/step - loss: 9.5054 - mse: 9.5054 - val_loss: 10.0942 - val_mse: 10.0942\n",
            "Epoch 66/350\n",
            "10/10 [==============================] - 0s 15ms/step - loss: 9.7515 - mse: 9.7515 - val_loss: 9.5004 - val_mse: 9.5004\n",
            "Epoch 67/350\n",
            "10/10 [==============================] - 0s 18ms/step - loss: 9.6909 - mse: 9.6909 - val_loss: 9.4198 - val_mse: 9.4198\n",
            "Epoch 68/350\n",
            "10/10 [==============================] - 0s 17ms/step - loss: 9.7547 - mse: 9.7547 - val_loss: 9.4296 - val_mse: 9.4296\n",
            "Epoch 69/350\n",
            "10/10 [==============================] - 0s 15ms/step - loss: 9.5161 - mse: 9.5161 - val_loss: 9.4093 - val_mse: 9.4093\n",
            "Epoch 70/350\n",
            "10/10 [==============================] - 0s 15ms/step - loss: 9.6483 - mse: 9.6483 - val_loss: 9.4172 - val_mse: 9.4172\n",
            "Epoch 71/350\n",
            "10/10 [==============================] - 0s 17ms/step - loss: 9.6158 - mse: 9.6158 - val_loss: 9.7860 - val_mse: 9.7860\n",
            "Epoch 72/350\n",
            "10/10 [==============================] - 0s 15ms/step - loss: 9.5387 - mse: 9.5387 - val_loss: 9.4420 - val_mse: 9.4420\n",
            "Epoch 73/350\n",
            "10/10 [==============================] - 0s 15ms/step - loss: 9.7049 - mse: 9.7049 - val_loss: 9.4901 - val_mse: 9.4901\n",
            "Epoch 74/350\n",
            "10/10 [==============================] - 0s 17ms/step - loss: 9.5430 - mse: 9.5430 - val_loss: 9.3408 - val_mse: 9.3408\n",
            "Epoch 75/350\n",
            "10/10 [==============================] - 0s 16ms/step - loss: 9.7086 - mse: 9.7086 - val_loss: 9.3847 - val_mse: 9.3847\n",
            "Epoch 76/350\n",
            "10/10 [==============================] - 0s 15ms/step - loss: 9.8221 - mse: 9.8221 - val_loss: 9.6113 - val_mse: 9.6113\n",
            "Epoch 77/350\n",
            "10/10 [==============================] - 0s 15ms/step - loss: 9.7559 - mse: 9.7559 - val_loss: 10.0587 - val_mse: 10.0587\n",
            "Epoch 78/350\n",
            "10/10 [==============================] - 0s 16ms/step - loss: 9.9371 - mse: 9.9371 - val_loss: 10.1755 - val_mse: 10.1755\n",
            "Epoch 79/350\n",
            "10/10 [==============================] - 0s 16ms/step - loss: 9.9899 - mse: 9.9899 - val_loss: 9.6563 - val_mse: 9.6563\n",
            "Epoch 80/350\n",
            "10/10 [==============================] - 0s 17ms/step - loss: 10.0128 - mse: 10.0128 - val_loss: 9.4076 - val_mse: 9.4076\n",
            "Epoch 81/350\n",
            "10/10 [==============================] - 0s 16ms/step - loss: 9.5840 - mse: 9.5840 - val_loss: 9.4021 - val_mse: 9.4021\n",
            "Epoch 82/350\n",
            "10/10 [==============================] - 0s 15ms/step - loss: 9.5206 - mse: 9.5206 - val_loss: 9.3433 - val_mse: 9.3433\n",
            "Epoch 83/350\n",
            "10/10 [==============================] - 0s 15ms/step - loss: 9.6882 - mse: 9.6882 - val_loss: 10.3887 - val_mse: 10.3887\n",
            "Epoch 84/350\n",
            "10/10 [==============================] - 0s 17ms/step - loss: 9.7643 - mse: 9.7643 - val_loss: 9.8921 - val_mse: 9.8921\n",
            "Epoch 85/350\n",
            "10/10 [==============================] - 0s 16ms/step - loss: 9.7766 - mse: 9.7766 - val_loss: 9.5930 - val_mse: 9.5930\n",
            "Epoch 86/350\n",
            "10/10 [==============================] - 0s 16ms/step - loss: 9.7422 - mse: 9.7422 - val_loss: 10.1284 - val_mse: 10.1284\n",
            "Epoch 87/350\n",
            "10/10 [==============================] - 0s 17ms/step - loss: 9.9688 - mse: 9.9688 - val_loss: 9.4267 - val_mse: 9.4267\n",
            "Epoch 88/350\n",
            "10/10 [==============================] - 0s 17ms/step - loss: 9.6655 - mse: 9.6655 - val_loss: 9.3917 - val_mse: 9.3917\n",
            "Epoch 89/350\n",
            "10/10 [==============================] - 0s 15ms/step - loss: 9.7235 - mse: 9.7235 - val_loss: 9.3544 - val_mse: 9.3544\n"
          ]
        }
      ]
    },
    {
      "cell_type": "code",
      "metadata": {
        "colab": {
          "base_uri": "https://localhost:8080/",
          "height": 532
        },
        "id": "xbYHA61tSZ5C",
        "outputId": "cd3decd6-e0e6-4e20-e47e-952415c6a6b6"
      },
      "source": [
        "plt.figure(figsize=(15,8))\n",
        "plt.plot(history.history['loss'],label = 'Training loss')\n",
        "plt.plot(history.history['val_loss'], '-r',label = 'Validation loss')\n",
        "plt.title('Loss Curve for ANN')\n",
        "plt.xlabel('Epochs')\n",
        "plt.ylabel('Loss')\n",
        "plt.legend()"
      ],
      "execution_count": 106,
      "outputs": [
        {
          "output_type": "execute_result",
          "data": {
            "text/plain": [
              "<matplotlib.legend.Legend at 0x7f12dc2edf50>"
            ]
          },
          "metadata": {},
          "execution_count": 106
        },
        {
          "output_type": "display_data",
          "data": {
            "image/png": "[encoded data removed]",
            "text/plain": [
              "<Figure size 1080x576 with 1 Axes>"
            ]
          },
          "metadata": {
            "needs_background": "light"
          }
        }
      ]
    },
    {
      "cell_type": "code",
      "metadata": {
        "id": "N4hfOEFzSZuX"
      },
      "source": [
        "y_test = ann_model.predict(x_test)\n",
        "\n",
        "y_test[np.where(np.isinf(np.expm1(y_test)))] = 0\n",
        "y_test = np.reshape(y_test, (4398))\n",
        "\n",
        "sub = pd.read_csv('sample_submission.csv')\n",
        "df_sub = pd.DataFrame()\n",
        "df_sub['id'] = sub['id']\n",
        "df_sub['revenue'] = np.expm1(y_test)\n",
        "#print(df_sub['revenue'])\n",
        "df_sub.to_csv(\"submission_ann_w_text.csv\", index=False)"
      ],
      "execution_count": null,
      "outputs": []
    },
    {
      "cell_type": "markdown",
      "metadata": {
        "id": "EMM1gOdpT9-X"
      },
      "source": [
        "# Latest Movie predictions\n",
        "The below code blocks in this section are experimentation for trying our code on latest movie data from TMDB<br>\n",
        "Please do not run the code as there are still some bugs which are not fixed."
      ]
    },
    {
      "cell_type": "code",
      "metadata": {
        "colab": {
          "base_uri": "https://localhost:8080/"
        },
        "id": "vAzZW-f93JxE",
        "outputId": "a465149f-b9f9-4ecd-88bc-67df574de4ea"
      },
      "source": [
        "# !pip install tmdbv3api"
      ],
      "execution_count": null,
      "outputs": [
        {
          "output_type": "stream",
          "name": "stdout",
          "text": [
            "Collecting tmdbv3api\n",
            "  Downloading tmdbv3api-1.7.6-py2.py3-none-any.whl (17 kB)\n",
            "Requirement already satisfied: requests in /usr/local/lib/python3.7/dist-packages (from tmdbv3api) (2.23.0)\n",
            "Requirement already satisfied: certifi>=2017.4.17 in /usr/local/lib/python3.7/dist-packages (from requests->tmdbv3api) (2021.10.8)\n",
            "Requirement already satisfied: chardet<4,>=3.0.2 in /usr/local/lib/python3.7/dist-packages (from requests->tmdbv3api) (3.0.4)\n",
            "Requirement already satisfied: idna<3,>=2.5 in /usr/local/lib/python3.7/dist-packages (from requests->tmdbv3api) (2.10)\n",
            "Requirement already satisfied: urllib3!=1.25.0,!=1.25.1,<1.26,>=1.21.1 in /usr/local/lib/python3.7/dist-packages (from requests->tmdbv3api) (1.24.3)\n",
            "Installing collected packages: tmdbv3api\n",
            "Successfully installed tmdbv3api-1.7.6\n"
          ]
        }
      ]
    },
    {
      "cell_type": "code",
      "metadata": {
        "colab": {
          "base_uri": "https://localhost:8080/"
        },
        "id": "grEWJuQKpt5D",
        "outputId": "c8675cb6-8cbe-4a84-fb07-456ccca43d46"
      },
      "source": [
        "# from tmdbv3api import TMDb\n",
        "# from tmdbv3api import Movie\n",
        "# tmdb = TMDb()\n",
        "# tmdb.api_key = '2a6c931e91b9ea3e5e82757d4b2138ce'\n",
        "# tmdb.language = 'en'\n",
        "# tmdb.debug = True\n",
        "\n",
        "# movie = Movie()\n",
        "# # for example the movie with id=862\n",
        "# m = movie.details(566525)\n",
        "# dataFrame = pd.DataFrame([m.keys(),m.values()])\n",
        "# print(\"Gyaan for \", m['title'])\n",
        "# for i in range(len(m.keys())):\n",
        "#   print(list(m.keys())[i], \" : \",m[list(m.keys())[i]])\n",
        "\n",
        "# tenet = movie.details(577922)\n",
        "# df2 = pd.DataFrame([tenet.values()])\n",
        "# dataFrame3 = pd.concat([dataFrame, df2])"
      ],
      "execution_count": null,
      "outputs": [
        {
          "output_type": "stream",
          "name": "stdout",
          "text": [
            "Gyaan for  Shang-Chi and the Legend of the Ten Rings\n",
            "adult  :  False\n",
            "backdrop_path  :  /cinER0ESG0eJ49kXlExM0MEWGxW.jpg\n",
            "belongs_to_collection  :  None\n",
            "budget  :  150000000\n",
            "genres  :  [{'id': 28, 'name': 'Action'}, {'id': 12, 'name': 'Adventure'}, {'id': 14, 'name': 'Fantasy'}]\n",
            "homepage  :  https://www.marvel.com/movies/shang-chi-and-the-legend-of-the-ten-rings\n",
            "id  :  566525\n",
            "imdb_id  :  tt9376612\n",
            "original_language  :  en\n",
            "original_title  :  Shang-Chi and the Legend of the Ten Rings\n",
            "overview  :  Shang-Chi must confront the past he thought he left behind when he is drawn into the web of the mysterious Ten Rings organization.\n",
            "popularity  :  8300.401\n",
            "poster_path  :  /1BIoJGKbXjdFDAqUEiA2VHqkK1Z.jpg\n",
            "production_companies  :  [{'id': 420, 'logo_path': '/hUzeosd33nzE5MCNsZxCGEKTXaQ.png', 'name': 'Marvel Studios', 'origin_country': 'US'}]\n",
            "production_countries  :  [{'iso_3166_1': 'US', 'name': 'United States of America'}]\n",
            "release_date  :  2021-09-01\n",
            "revenue  :  430238384\n",
            "runtime  :  132\n",
            "spoken_languages  :  [{'english_name': 'English', 'iso_639_1': 'en', 'name': 'English'}, {'english_name': 'Mandarin', 'iso_639_1': 'zh', 'name': '普通话'}]\n",
            "status  :  Released\n",
            "tagline  :  You can't outrun your destiny.\n",
            "title  :  Shang-Chi and the Legend of the Ten Rings\n",
            "video  :  False\n",
            "vote_average  :  7.9\n",
            "vote_count  :  3312\n",
            "videos  :  {'results': [{'iso_639_1': 'en', 'iso_3166_1': 'US', 'name': 'Making History Featurette', 'key': 'kpsIu6goKGg', 'site': 'YouTube', 'size': 1080, 'type': 'Featurette', 'official': True, 'published_at': '2021-11-12 21:30:04 UTC', 'id': '61931c4f53866e0044561b78'}, {'iso_639_1': 'en', 'iso_3166_1': 'US', 'name': \"Morris' Origins - BTS\", 'key': 'a0wjKp4qSzI', 'site': 'YouTube', 'size': 1080, 'type': 'Behind the Scenes', 'official': True, 'published_at': '2021-09-22 16:00:00 UTC', 'id': '6161282cc8a2d4002acd10c5'}, {'iso_639_1': 'en', 'iso_3166_1': 'US', 'name': 'All', 'key': 'az2sQoPocUQ', 'site': 'YouTube', 'size': 1080, 'type': 'Teaser', 'official': True, 'published_at': '2021-09-19 15:00:02 UTC', 'id': '61475148048638008c4eed37'}, {'iso_639_1': 'en', 'iso_3166_1': 'US', 'name': 'Finding the Ten Rings - BTS', 'key': 'X9HyU_4mzYg', 'site': 'YouTube', 'size': 1080, 'type': 'Behind the Scenes', 'official': True, 'published_at': '2021-09-18 16:00:14 UTC', 'id': '61612896fe5c9100441f41aa'}, {'iso_639_1': 'en', 'iso_3166_1': 'US', 'name': 'One Name', 'key': '2FLImUzLS80', 'site': 'YouTube', 'size': 1080, 'type': 'Teaser', 'official': True, 'published_at': '2021-09-17 14:00:00 UTC', 'id': '6144a05c5e12000020b1e2b6'}, {'iso_639_1': 'en', 'iso_3166_1': 'US', 'name': '“Jester” Official Clip', 'key': 'MjVmL5x2Uvc', 'site': 'YouTube', 'size': 1080, 'type': 'Clip', 'official': True, 'published_at': '2021-09-09 16:00:10 UTC', 'id': '613a312de272600063445a62'}, {'iso_639_1': 'en', 'iso_3166_1': 'US', 'name': 'Let’s Go', 'key': 'EhJ__cEzMd0', 'site': 'YouTube', 'size': 1080, 'type': 'Teaser', 'official': True, 'published_at': '2021-09-08 15:01:05 UTC', 'id': '6138d6271b7294002abeb271'}, {'iso_639_1': 'en', 'iso_3166_1': 'US', 'name': '“He Has The Pendant” Clip', 'key': 'IakshlFHetY', 'site': 'YouTube', 'size': 1080, 'type': 'Clip', 'official': True, 'published_at': '2021-09-03 17:00:25 UTC', 'id': '6133600db84f940062c34072'}, {'iso_639_1': 'en', 'iso_3166_1': 'US', 'name': 'Tribute', 'key': 'ir-mWUYH_uo', 'site': 'YouTube', 'size': 1080, 'type': 'Teaser', 'official': True, 'published_at': '2021-09-03 13:00:21 UTC', 'id': '61321e052cde980089d46680'}, {'iso_639_1': 'en', 'iso_3166_1': 'US', 'name': 'Fire in the Sky', 'key': 'ge5EcUefyTM', 'site': 'YouTube', 'size': 1080, 'type': 'Teaser', 'official': True, 'published_at': '2021-09-02 23:03:43 UTC', 'id': '6131ab182cde980044c7f32b'}, {'iso_639_1': 'en', 'iso_3166_1': 'US', 'name': '“These Are Low Level Fights” Clip', 'key': 'I0haAPw1gvo', 'site': 'YouTube', 'size': 1080, 'type': 'Clip', 'official': True, 'published_at': '2021-09-02 18:00:03 UTC', 'id': '6131dae8a6a4c10043da8d9b'}, {'iso_639_1': 'en', 'iso_3166_1': 'US', 'name': 'Era', 'key': 'jDcaajh7_aY', 'site': 'YouTube', 'size': 1080, 'type': 'Teaser', 'official': True, 'published_at': '2021-09-02 13:13:50 UTC', 'id': '6130e2047f6c8d002a9d4135'}, {'iso_639_1': 'en', 'iso_3166_1': 'US', 'name': 'Vibe', 'key': 'oGmK4sNFyxw', 'site': 'YouTube', 'size': 1080, 'type': 'Teaser', 'official': True, 'published_at': '2021-09-01 16:30:09 UTC', 'id': '612fcc37c1ffbd002b993fb2'}, {'iso_639_1': 'en', 'iso_3166_1': 'US', 'name': 'Who We Are', 'key': '8pgdfDDdYpo', 'site': 'YouTube', 'size': 1080, 'type': 'Teaser', 'official': True, 'published_at': '2021-09-01 13:16:27 UTC', 'id': '612f92742cefc2002c12e04b'}, {'iso_639_1': 'en', 'iso_3166_1': 'US', 'name': 'New Level', 'key': 'JoiHvULKrYY', 'site': 'YouTube', 'size': 1080, 'type': 'Teaser', 'official': True, 'published_at': '2021-08-30 19:55:49 UTC', 'id': '612dc3cefac5020026facb67'}, {'iso_639_1': 'en', 'iso_3166_1': 'US', 'name': 'Ready to Rise Featurette', 'key': 'yn6MA1VGNx4', 'site': 'YouTube', 'size': 1080, 'type': 'Featurette', 'official': True, 'published_at': '2021-08-30 13:00:21 UTC', 'id': '612cd947a1d3320067fa5fdd'}, {'iso_639_1': 'en', 'iso_3166_1': 'US', 'name': 'Icon', 'key': 'iECT9M3ifVg', 'site': 'YouTube', 'size': 1080, 'type': 'Teaser', 'official': True, 'published_at': '2021-08-29 15:00:33 UTC', 'id': '612bb9b550733c00620653e1'}, {'iso_639_1': 'en', 'iso_3166_1': 'US', 'name': 'New World', 'key': 'AFAhVqmI-L4', 'site': 'YouTube', 'size': 1080, 'type': 'Teaser', 'official': True, 'published_at': '2021-08-27 16:00:04 UTC', 'id': '61290cc3e04aca0043df16db'}, {'iso_639_1': 'en', 'iso_3166_1': 'US', 'name': 'Ruckus', 'key': 'awC8IZIXWts', 'site': 'YouTube', 'size': 1080, 'type': 'Teaser', 'official': True, 'published_at': '2021-08-26 13:11:05 UTC', 'id': '612797af5ed9620065308d1d'}, {'iso_639_1': 'en', 'iso_3166_1': 'US', 'name': 'Product Testing', 'key': 'Du8DaObtYuw', 'site': 'YouTube', 'size': 1080, 'type': 'Teaser', 'official': True, 'published_at': '2021-08-25 20:30:00 UTC', 'id': '6127366c5ed9620092e5eb70'}, {'iso_639_1': 'en', 'iso_3166_1': 'US', 'name': 'Inside', 'key': 'V28PXZ60MGY', 'site': 'YouTube', 'size': 1080, 'type': 'Teaser', 'official': True, 'published_at': '2021-08-24 13:00:11 UTC', 'id': '6124f4443a9650005c37b298'}, {'iso_639_1': 'en', 'iso_3166_1': 'US', 'name': 'Next Level Action Featurette', 'key': 'CT5wjp3Byb8', 'site': 'YouTube', 'size': 1080, 'type': 'Featurette', 'official': True, 'published_at': '2021-08-23 15:00:33 UTC', 'id': '6123c78007291c007fdb7926'}, {'iso_639_1': 'en', 'iso_3166_1': 'US', 'name': 'Run It', 'key': 'hqDDUoF3Gh8', 'site': 'YouTube', 'size': 1080, 'type': 'Teaser', 'official': True, 'published_at': '2021-08-23 14:00:14 UTC', 'id': '6123b52ee194b00060beb17a'}, {'iso_639_1': 'en', 'iso_3166_1': 'US', 'name': 'Next Level', 'key': 'EU9q6lb4eKI', 'site': 'YouTube', 'size': 1080, 'type': 'Teaser', 'official': True, 'published_at': '2021-08-22 14:00:04 UTC', 'id': '6122856288634800456ce1dd'}, {'iso_639_1': 'en', 'iso_3166_1': 'US', 'name': 'Burn', 'key': 'oOUpNxJkki0', 'site': 'YouTube', 'size': 1080, 'type': 'Teaser', 'official': True, 'published_at': '2021-08-21 14:00:37 UTC', 'id': '612108b7b7abb5005e278702'}, {'iso_639_1': 'en', 'iso_3166_1': 'US', 'name': 'Breath', 'key': 'OPna5YrE-nw', 'site': 'YouTube', 'size': 1080, 'type': 'Teaser', 'official': True, 'published_at': '2021-08-20 18:00:11 UTC', 'id': '6120957cd70594002ee225f7'}, {'iso_639_1': 'en', 'iso_3166_1': 'US', 'name': '\"Does He Look Like He Can Fight?” Clip', 'key': '22Hy7jNoya4', 'site': 'YouTube', 'size': 1080, 'type': 'Clip', 'official': True, 'published_at': '2021-08-20 14:30:51 UTC', 'id': '611fc0e2d96c3c0045bf35e4'}, {'iso_639_1': 'en', 'iso_3166_1': 'US', 'name': 'Run', 'key': 'v6HD_gP8bXU', 'site': 'YouTube', 'size': 1080, 'type': 'Teaser', 'official': True, 'published_at': '2021-08-18 16:00:28 UTC', 'id': '611d30242e0697005da16fc4'}, {'iso_639_1': 'en', 'iso_3166_1': 'US', 'name': '“Scaffolding Escape” Clip', 'key': '4b28WqJ5z-U', 'site': 'YouTube', 'size': 1080, 'type': 'Clip', 'official': True, 'published_at': '2021-08-16 16:00:03 UTC', 'id': '611b1b736c19ea00464cf297'}, {'iso_639_1': 'en', 'iso_3166_1': 'US', 'name': 'Tickets on Sale', 'key': 'myZ9J7GNkBI', 'site': 'YouTube', 'size': 1080, 'type': 'Teaser', 'official': True, 'published_at': '2021-08-16 15:00:18 UTC', 'id': '611a8a921bf876007f3196f5'}, {'iso_639_1': 'en', 'iso_3166_1': 'US', 'name': 'Marvel Team Up', 'key': 'Ox-8KnYw6jw', 'site': 'YouTube', 'size': 1080, 'type': 'Teaser', 'official': True, 'published_at': '2021-08-16 14:00:19 UTC', 'id': '611a7400387651005c1e5a07'}, {'iso_639_1': 'en', 'iso_3166_1': 'US', 'name': 'Icon', 'key': 'cG2Nv4gwOrw', 'site': 'YouTube', 'size': 1080, 'type': 'Teaser', 'official': True, 'published_at': '2021-08-16 13:00:04 UTC', 'id': '611a6632006b010046aa417b'}, {'iso_639_1': 'en', 'iso_3166_1': 'US', 'name': 'Run It - DJ Snake, Rick Ross, Rich Brian', 'key': 'AVqJou2ngpM', 'site': 'YouTube', 'size': 1080, 'type': 'Featurette', 'official': True, 'published_at': '2021-08-13 04:10:23 UTC', 'id': '611a78f5514c4a007f564448'}, {'iso_639_1': 'en', 'iso_3166_1': 'US', 'name': 'Rise Up', 'key': 'etWsdA0_Wb0', 'site': 'YouTube', 'size': 1080, 'type': 'Teaser', 'official': True, 'published_at': '2021-08-12 18:10:06 UTC', 'id': '611578f39b6e47007d797e18'}, {'iso_639_1': 'en', 'iso_3166_1': 'US', 'name': 'Power', 'key': '0C7K56MFhQs', 'site': 'YouTube', 'size': 1080, 'type': 'Teaser', 'official': True, 'published_at': '2021-08-11 18:00:01 UTC', 'id': '6114bfcca76ac5002b8db648'}, {'iso_639_1': 'en', 'iso_3166_1': 'US', 'name': 'Call', 'key': 'KO4xEQ3--OI', 'site': 'YouTube', 'size': 1080, 'type': 'Teaser', 'official': True, 'published_at': '2021-08-07 16:14:31 UTC', 'id': '610eb1f0ee43e8005e492ad0'}, {'iso_639_1': 'en', 'iso_3166_1': 'US', 'name': 'Rise', 'key': 'Ymu9IoV1eAY', 'site': 'YouTube', 'size': 1080, 'type': 'Teaser', 'official': True, 'published_at': '2021-08-06 00:58:32 UTC', 'id': '610ca56cdcf8750060720c05'}, {'iso_639_1': 'en', 'iso_3166_1': 'US', 'name': 'Most Likely To Featurette', 'key': 'SnkcD68ox4I', 'site': 'YouTube', 'size': 1080, 'type': 'Featurette', 'official': True, 'published_at': '2021-08-05 15:00:01 UTC', 'id': '610bfd6638469a00724a7de5'}, {'iso_639_1': 'en', 'iso_3166_1': 'US', 'name': 'Destiny Featurette', 'key': 'IlYYWLOTqIM', 'site': 'YouTube', 'size': 1080, 'type': 'Featurette', 'official': True, 'published_at': '2021-07-30 13:00:02 UTC', 'id': '6103fc3a4f33ad007ecf0b9c'}, {'iso_639_1': 'en', 'iso_3166_1': 'US', 'name': 'Need', 'key': 'COGg-Vjauwo', 'site': 'YouTube', 'size': 1080, 'type': 'Teaser', 'official': True, 'published_at': '2021-07-28 15:00:12 UTC', 'id': '61017f847d5f4b0046abc0a6'}, {'iso_639_1': 'en', 'iso_3166_1': 'US', 'name': 'Official Trailer', 'key': '8YjFbMbfXaQ', 'site': 'YouTube', 'size': 1080, 'type': 'Trailer', 'official': True, 'published_at': '2021-06-25 00:54:38 UTC', 'id': '60d52b3cc1606a007e706b2b'}, {'iso_639_1': 'en', 'iso_3166_1': 'US', 'name': 'Official Teaser', 'key': 'giWIr7U1deA', 'site': 'YouTube', 'size': 1080, 'type': 'Teaser', 'official': True, 'published_at': '2021-04-19 13:30:07 UTC', 'id': '607d8752aa659e002aeb73e9'}]}\n",
            "trailers  :  {'quicktime': [], 'youtube': [{'name': 'Official Teaser', 'size': 'HD', 'source': 'giWIr7U1deA', 'type': 'Teaser'}, {'name': 'Official Trailer', 'size': 'HD', 'source': '8YjFbMbfXaQ', 'type': 'Trailer'}, {'name': 'Need', 'size': 'HD', 'source': 'COGg-Vjauwo', 'type': 'Teaser'}, {'name': 'Destiny Featurette', 'size': 'HD', 'source': 'IlYYWLOTqIM', 'type': 'Featurette'}, {'name': 'Most Likely To Featurette', 'size': 'HD', 'source': 'SnkcD68ox4I', 'type': 'Featurette'}, {'name': 'Rise', 'size': 'HD', 'source': 'Ymu9IoV1eAY', 'type': 'Teaser'}, {'name': 'Call', 'size': 'HD', 'source': 'KO4xEQ3--OI', 'type': 'Teaser'}, {'name': 'Power', 'size': 'HD', 'source': '0C7K56MFhQs', 'type': 'Teaser'}, {'name': 'Rise Up', 'size': 'HD', 'source': 'etWsdA0_Wb0', 'type': 'Teaser'}, {'name': 'Icon', 'size': 'HD', 'source': 'cG2Nv4gwOrw', 'type': 'Teaser'}, {'name': 'Marvel Team Up', 'size': 'HD', 'source': 'Ox-8KnYw6jw', 'type': 'Teaser'}, {'name': 'Run It - DJ Snake, Rick Ross, Rich Brian', 'size': 'HD', 'source': 'AVqJou2ngpM', 'type': 'Featurette'}, {'name': 'Tickets on Sale', 'size': 'HD', 'source': 'myZ9J7GNkBI', 'type': 'Teaser'}, {'name': '“Scaffolding Escape” Clip', 'size': 'HD', 'source': '4b28WqJ5z-U', 'type': 'Clip'}, {'name': 'Run', 'size': 'HD', 'source': 'v6HD_gP8bXU', 'type': 'Teaser'}, {'name': '\"Does He Look Like He Can Fight?” Clip', 'size': 'HD', 'source': '22Hy7jNoya4', 'type': 'Clip'}, {'name': 'Breath', 'size': 'HD', 'source': 'OPna5YrE-nw', 'type': 'Teaser'}, {'name': 'Burn', 'size': 'HD', 'source': 'oOUpNxJkki0', 'type': 'Teaser'}, {'name': 'Next Level', 'size': 'HD', 'source': 'EU9q6lb4eKI', 'type': 'Teaser'}, {'name': 'Run It', 'size': 'HD', 'source': 'hqDDUoF3Gh8', 'type': 'Teaser'}, {'name': 'Next Level Action Featurette', 'size': 'HD', 'source': 'CT5wjp3Byb8', 'type': 'Featurette'}, {'name': 'Inside', 'size': 'HD', 'source': 'V28PXZ60MGY', 'type': 'Teaser'}, {'name': 'Product Testing', 'size': 'HD', 'source': 'Du8DaObtYuw', 'type': 'Teaser'}, {'name': 'Ruckus', 'size': 'HD', 'source': 'awC8IZIXWts', 'type': 'Teaser'}, {'name': 'New World', 'size': 'HD', 'source': 'AFAhVqmI-L4', 'type': 'Teaser'}, {'name': 'Icon', 'size': 'HD', 'source': 'iECT9M3ifVg', 'type': 'Teaser'}, {'name': 'Ready to Rise Featurette', 'size': 'HD', 'source': 'yn6MA1VGNx4', 'type': 'Featurette'}, {'name': 'New Level', 'size': 'HD', 'source': 'JoiHvULKrYY', 'type': 'Teaser'}, {'name': 'Who We Are', 'size': 'HD', 'source': '8pgdfDDdYpo', 'type': 'Teaser'}, {'name': 'Vibe', 'size': 'HD', 'source': 'oGmK4sNFyxw', 'type': 'Teaser'}, {'name': 'Era', 'size': 'HD', 'source': 'jDcaajh7_aY', 'type': 'Teaser'}, {'name': 'Fire in the Sky', 'size': 'HD', 'source': 'ge5EcUefyTM', 'type': 'Teaser'}, {'name': '“These Are Low Level Fights” Clip', 'size': 'HD', 'source': 'I0haAPw1gvo', 'type': 'Clip'}, {'name': 'Tribute', 'size': 'HD', 'source': 'ir-mWUYH_uo', 'type': 'Teaser'}, {'name': '“He Has The Pendant” Clip', 'size': 'HD', 'source': 'IakshlFHetY', 'type': 'Clip'}, {'name': 'Let’s Go', 'size': 'HD', 'source': 'EhJ__cEzMd0', 'type': 'Teaser'}, {'name': '“Jester” Official Clip', 'size': 'HD', 'source': 'MjVmL5x2Uvc', 'type': 'Clip'}, {'name': 'One Name', 'size': 'HD', 'source': '2FLImUzLS80', 'type': 'Teaser'}, {'name': 'All', 'size': 'HD', 'source': 'az2sQoPocUQ', 'type': 'Teaser'}, {'name': \"Morris' Origins - BTS\", 'size': 'HD', 'source': 'a0wjKp4qSzI', 'type': 'Behind the Scenes'}, {'name': 'Finding the Ten Rings - BTS', 'size': 'HD', 'source': 'X9HyU_4mzYg', 'type': 'Behind the Scenes'}, {'name': 'Making History Featurette', 'size': 'HD', 'source': 'kpsIu6goKGg', 'type': 'Featurette'}]}\n",
            "images  :  {'backdrops': [{'aspect_ratio': 1.778, 'height': 2160, 'iso_639_1': 'en', 'file_path': '/ltKIV7zuHGp9zkJuKfEQTWzrktW.jpg', 'vote_average': 5.312, 'vote_count': 1, 'width': 3840}, {'aspect_ratio': 1.778, 'height': 2160, 'iso_639_1': 'en', 'file_path': '/6S2fCbyS7YltAAX2E3c2CzWe5lh.jpg', 'vote_average': 5.312, 'vote_count': 1, 'width': 3840}, {'aspect_ratio': 1.778, 'height': 1152, 'iso_639_1': 'en', 'file_path': '/2NzFnvLxUlTQi338w1MP8szo1gC.jpg', 'vote_average': 5.18, 'vote_count': 3, 'width': 2048}, {'aspect_ratio': 1.778, 'height': 1080, 'iso_639_1': 'en', 'file_path': '/aJdieHjU6J6EEZyF58gXeXh4lKe.jpg', 'vote_average': 0.0, 'vote_count': 0, 'width': 1920}, {'aspect_ratio': 1.778, 'height': 2160, 'iso_639_1': 'en', 'file_path': '/fw6KTUtXxBpMpoJvu7akxEsjhlX.jpg', 'vote_average': 0.0, 'vote_count': 0, 'width': 3840}, {'aspect_ratio': 1.779, 'height': 787, 'iso_639_1': 'en', 'file_path': '/jzOAZhG63ZkAg8guMhTiYvykxq5.jpg', 'vote_average': 0.0, 'vote_count': 0, 'width': 1400}, {'aspect_ratio': 1.778, 'height': 1080, 'iso_639_1': 'en', 'file_path': '/syDjsf7bb4vG7GnFun40RZeIEx.jpg', 'vote_average': 0.0, 'vote_count': 0, 'width': 1920}], 'logos': [{'aspect_ratio': 2.744, 'height': 1252, 'iso_639_1': 'en', 'file_path': '/aAHDeFRAW2kWGMD9rVR6bq60TIz.png', 'vote_average': 5.312, 'vote_count': 1, 'width': 3435}, {'aspect_ratio': 1.683, 'height': 939, 'iso_639_1': 'en', 'file_path': '/496im8WafUI151viTQm12Sj1I5W.png', 'vote_average': 5.246, 'vote_count': 2, 'width': 1580}, {'aspect_ratio': 2.659, 'height': 173, 'iso_639_1': 'en', 'file_path': '/pEOTUIXuSdXeKACFzUq0BpXQucW.png', 'vote_average': 5.246, 'vote_count': 2, 'width': 460}, {'aspect_ratio': 1.778, 'height': 1080, 'iso_639_1': 'en', 'file_path': '/6g8YLwCxKvFHb6sPOLfTtd93ajr.svg', 'vote_average': 5.246, 'vote_count': 2, 'width': 1920}, {'aspect_ratio': 1.854, 'height': 554, 'iso_639_1': 'en', 'file_path': '/xUpqspDwEewAAY9qiaGH8qr4Jjk.png', 'vote_average': 0.0, 'vote_count': 0, 'width': 1027}, {'aspect_ratio': 3.744, 'height': 211, 'iso_639_1': 'en', 'file_path': '/fzeo6tseRbmjlhjrZbtuwr8Ygyn.png', 'vote_average': 0.0, 'vote_count': 0, 'width': 790}, {'aspect_ratio': 3.9, 'height': 200, 'iso_639_1': 'en', 'file_path': '/jCC9gVdD5XccXVxmtMLyZjqIjiz.png', 'vote_average': 0.0, 'vote_count': 0, 'width': 780}, {'aspect_ratio': 2.705, 'height': 808, 'iso_639_1': 'en', 'file_path': '/bQmoYWeoC12GFG0YI9x7kkaJKRT.png', 'vote_average': 0.0, 'vote_count': 0, 'width': 2186}], 'posters': [{'aspect_ratio': 0.667, 'height': 3000, 'iso_639_1': 'en', 'file_path': '/1BIoJGKbXjdFDAqUEiA2VHqkK1Z.jpg', 'vote_average': 5.566, 'vote_count': 21, 'width': 2000}, {'aspect_ratio': 0.667, 'height': 2250, 'iso_639_1': 'en', 'file_path': '/9f2Q0U3IOsLgrI2HkvldwSABZy5.jpg', 'vote_average': 5.51, 'vote_count': 26, 'width': 1500}, {'aspect_ratio': 0.675, 'height': 2500, 'iso_639_1': 'en', 'file_path': '/xeItgLK9qcafxbd8kYgv7XnMEog.jpg', 'vote_average': 5.416, 'vote_count': 36, 'width': 1688}, {'aspect_ratio': 0.667, 'height': 3000, 'iso_639_1': 'en', 'file_path': '/pS1XUGjC6ASC1kvDCP3OJnwjk1t.jpg', 'vote_average': 5.402, 'vote_count': 18, 'width': 2000}, {'aspect_ratio': 0.667, 'height': 1200, 'iso_639_1': 'en', 'file_path': '/fNNZUUYZ3tPUUPlmQMLrxAv5QoV.jpg', 'vote_average': 5.348, 'vote_count': 19, 'width': 800}, {'aspect_ratio': 0.666, 'height': 1280, 'iso_639_1': 'en', 'file_path': '/ju3UDJ0qhcoX2tjtaCqChexlonD.jpg', 'vote_average': 5.326, 'vote_count': 7, 'width': 853}, {'aspect_ratio': 0.667, 'height': 3000, 'iso_639_1': 'en', 'file_path': '/rFg80NoNpmUWvgC29c1fg1E2TGn.jpg', 'vote_average': 5.326, 'vote_count': 7, 'width': 2000}, {'aspect_ratio': 0.667, 'height': 1500, 'iso_639_1': 'en', 'file_path': '/pNmwXNvsukUYOTtbY9x6qLZ4qZC.jpg', 'vote_average': 5.312, 'vote_count': 1, 'width': 1000}, {'aspect_ratio': 0.667, 'height': 750, 'iso_639_1': 'en', 'file_path': '/owc0us8BNkxwppD6tZCXnOf9bf4.jpg', 'vote_average': 5.312, 'vote_count': 1, 'width': 500}, {'aspect_ratio': 0.666, 'height': 1940, 'iso_639_1': 'en', 'file_path': '/j5ZeKzMxZus53z3aEtWcPdSltU7.jpg', 'vote_average': 5.282, 'vote_count': 14, 'width': 1293}, {'aspect_ratio': 0.667, 'height': 3000, 'iso_639_1': 'en', 'file_path': '/5rqFQtHkOHaY09dsEN9TyijOueA.jpg', 'vote_average': 5.276, 'vote_count': 12, 'width': 2000}, {'aspect_ratio': 0.667, 'height': 2500, 'iso_639_1': 'en', 'file_path': '/h3AxHI8Z64Nx8PXsV6rctWspXUb.jpg', 'vote_average': 5.252, 'vote_count': 4, 'width': 1667}, {'aspect_ratio': 0.667, 'height': 2880, 'iso_639_1': 'en', 'file_path': '/sd3jJi799yha49BDSq1wgzBWuIK.jpg', 'vote_average': 5.252, 'vote_count': 4, 'width': 1920}, {'aspect_ratio': 0.675, 'height': 2500, 'iso_639_1': 'en', 'file_path': '/65MHN2VZ9kwQ0X9pi3QvbJjZGR1.jpg', 'vote_average': 5.246, 'vote_count': 2, 'width': 1688}, {'aspect_ratio': 0.667, 'height': 3000, 'iso_639_1': 'en', 'file_path': '/w8dMqjX0Sr2qwveg9UnVm2BW6wV.jpg', 'vote_average': 5.246, 'vote_count': 2, 'width': 2000}, {'aspect_ratio': 0.675, 'height': 1280, 'iso_639_1': 'en', 'file_path': '/12ijlLGQ5QQGZhhzsevfcIFCahT.jpg', 'vote_average': 5.226, 'vote_count': 15, 'width': 864}, {'aspect_ratio': 0.675, 'height': 1280, 'iso_639_1': 'en', 'file_path': '/thDT0HBmAycAHP6IGz1OIsxTVHp.jpg', 'vote_average': 5.19, 'vote_count': 5, 'width': 864}, {'aspect_ratio': 0.675, 'height': 2500, 'iso_639_1': 'en', 'file_path': '/ygO4Jn6ZjsdNijipHITqbZs0Ith.jpg', 'vote_average': 5.18, 'vote_count': 3, 'width': 1688}, {'aspect_ratio': 0.666, 'height': 1280, 'iso_639_1': 'en', 'file_path': '/1L7OUx1mmZYqEa8GlJc5SHPSc5F.jpg', 'vote_average': 5.172, 'vote_count': 1, 'width': 853}, {'aspect_ratio': 0.666, 'height': 1280, 'iso_639_1': 'en', 'file_path': '/tBkouPuXKwgggFQ1XIB6USAAHc.jpg', 'vote_average': 5.172, 'vote_count': 1, 'width': 853}, {'aspect_ratio': 0.666, 'height': 1280, 'iso_639_1': 'en', 'file_path': '/ayBJX9Z4qaFWtwU7h1i0ieQVn8S.jpg', 'vote_average': 5.172, 'vote_count': 1, 'width': 853}, {'aspect_ratio': 0.667, 'height': 3000, 'iso_639_1': 'en', 'file_path': '/liGUHvp5wuveF0KRjLIkG1pOKgT.jpg', 'vote_average': 5.156, 'vote_count': 12, 'width': 2000}, {'aspect_ratio': 0.675, 'height': 2048, 'iso_639_1': 'en', 'file_path': '/fSJhkC7ZiceYLoahW2V9CHkD7gM.jpg', 'vote_average': 5.128, 'vote_count': 6, 'width': 1383}, {'aspect_ratio': 0.667, 'height': 2532, 'iso_639_1': 'en', 'file_path': '/rBwiTT5NgskQDEr6fjdhfXQNgbd.jpg', 'vote_average': 5.128, 'vote_count': 6, 'width': 1688}, {'aspect_ratio': 0.666, 'height': 1280, 'iso_639_1': 'en', 'file_path': '/akVWFDMpRh5WtBa7w4q22HQt2l.jpg', 'vote_average': 5.118, 'vote_count': 4, 'width': 853}, {'aspect_ratio': 0.666, 'height': 1280, 'iso_639_1': 'en', 'file_path': '/vr1XI1lgSWVqNWR0ZibxEcZhfXH.jpg', 'vote_average': 5.118, 'vote_count': 4, 'width': 853}, {'aspect_ratio': 0.666, 'height': 1280, 'iso_639_1': 'en', 'file_path': '/9tKva2S59r44YcGYT6aECpBB77N.jpg', 'vote_average': 5.118, 'vote_count': 4, 'width': 853}, {'aspect_ratio': 0.675, 'height': 1896, 'iso_639_1': 'en', 'file_path': '/m1XJC4ofGhnnkidYD3iLI4d5gWl.jpg', 'vote_average': 5.118, 'vote_count': 4, 'width': 1280}, {'aspect_ratio': 0.667, 'height': 2700, 'iso_639_1': 'en', 'file_path': '/ftsBQHsGJ6O7ELZ29Pd0RIK64vq.jpg', 'vote_average': 5.056, 'vote_count': 5, 'width': 1800}, {'aspect_ratio': 0.667, 'height': 3000, 'iso_639_1': 'en', 'file_path': '/x6iNsa1TZhizaOS2Q0bnQJjDMtD.jpg', 'vote_average': 0.0, 'vote_count': 0, 'width': 2000}, {'aspect_ratio': 0.667, 'height': 3000, 'iso_639_1': 'en', 'file_path': '/xo9k52IIWGCvqU9DfNGxIRA39Zp.jpg', 'vote_average': 0.0, 'vote_count': 0, 'width': 2000}, {'aspect_ratio': 0.67, 'height': 1280, 'iso_639_1': 'en', 'file_path': '/kBPQnHvyYbDcSXihDt9PmxuLnN2.jpg', 'vote_average': 0.0, 'vote_count': 0, 'width': 858}, {'aspect_ratio': 0.667, 'height': 750, 'iso_639_1': 'en', 'file_path': '/oykvfiG8lUyTg6UHVyLFggnqKWb.jpg', 'vote_average': 0.0, 'vote_count': 0, 'width': 500}, {'aspect_ratio': 0.667, 'height': 3000, 'iso_639_1': 'en', 'file_path': '/pomavqPb5OxJz4uMDfuKWmIVGCK.jpg', 'vote_average': 0.0, 'vote_count': 0, 'width': 2000}, {'aspect_ratio': 0.667, 'height': 2700, 'iso_639_1': 'en', 'file_path': '/gRtxhaV4VjPbAAuWgWqpPZ27iFY.jpg', 'vote_average': 0.0, 'vote_count': 0, 'width': 1800}, {'aspect_ratio': 0.667, 'height': 2880, 'iso_639_1': 'en', 'file_path': '/1qs9QoLInp43eaGm8ItvudWPuAV.jpg', 'vote_average': 0.0, 'vote_count': 0, 'width': 1920}, {'aspect_ratio': 0.666, 'height': 1673, 'iso_639_1': 'en', 'file_path': '/krk1HqZ2VcDg81C0PacVYg4FADs.jpg', 'vote_average': 0.0, 'vote_count': 0, 'width': 1115}, {'aspect_ratio': 0.667, 'height': 1500, 'iso_639_1': 'en', 'file_path': '/z16HjpqKlBBzAbQQe0O6uBix9QC.jpg', 'vote_average': 0.0, 'vote_count': 0, 'width': 1000}, {'aspect_ratio': 0.667, 'height': 2818, 'iso_639_1': 'en', 'file_path': '/eayglw9AINnwtDZPIEV3js6hhMV.jpg', 'vote_average': 0.0, 'vote_count': 0, 'width': 1879}, {'aspect_ratio': 0.667, 'height': 3000, 'iso_639_1': 'en', 'file_path': '/4pIXtpTQM07fB8JMtVby4KRUQhF.jpg', 'vote_average': 0.0, 'vote_count': 0, 'width': 2000}, {'aspect_ratio': 0.667, 'height': 3000, 'iso_639_1': 'en', 'file_path': '/swY5rVQEYXRectAwYmXI6u04Hz.jpg', 'vote_average': 0.0, 'vote_count': 0, 'width': 2000}, {'aspect_ratio': 0.667, 'height': 3000, 'iso_639_1': 'en', 'file_path': '/7X7RQtuxSulqCJZRe2yjfMM6Nkd.jpg', 'vote_average': 0.0, 'vote_count': 0, 'width': 2000}, {'aspect_ratio': 0.667, 'height': 1500, 'iso_639_1': 'en', 'file_path': '/l0caMfhUKPPS7Fqfmm106Z0gf2X.jpg', 'vote_average': 0.0, 'vote_count': 0, 'width': 1000}]}\n",
            "casts  :  {'cast': [{'adult': False, 'gender': 2, 'id': 1489211, 'known_for_department': 'Acting', 'name': 'Simu Liu', 'original_name': 'Simu Liu', 'popularity': 26.172, 'profile_path': '/zrJjYjOYzDj7eY9oiHAoz8Yh0yk.jpg', 'cast_id': 11, 'character': 'Shaun / Shang-Chi', 'credit_id': '5d33b7e66a300b2f7ea6bc88', 'order': 0}, {'adult': False, 'gender': 2, 'id': 1337, 'known_for_department': 'Acting', 'name': 'Tony Leung Chiu-wai', 'original_name': 'Tony Leung Chiu-wai', 'popularity': 47.277, 'profile_path': '/nQbSQAws5BdakPEB5MtiqWVeaMV.jpg', 'cast_id': 12, 'character': 'Xu Wenwu', 'credit_id': '5d33c5fc2f8d094522dbaf68', 'order': 1}, {'adult': False, 'gender': 1, 'id': 1625558, 'known_for_department': 'Acting', 'name': 'Awkwafina', 'original_name': 'Awkwafina', 'popularity': 41.546, 'profile_path': '/l5AKkg3H1QhMuXmTTmq1EyjyiRb.jpg', 'cast_id': 10, 'character': 'Katy Chen', 'credit_id': '5d33b71fcaab6d0b29a8a566', 'order': 2}, {'adult': False, 'gender': 1, 'id': 2979464, 'known_for_department': 'Acting', 'name': \"Meng'er Zhang\", 'original_name': \"Meng'er Zhang\", 'popularity': 25.809, 'profile_path': '/yMiYThzzkeVSsUI2sxh3iIWmMTy.jpg', 'cast_id': 61, 'character': 'Xu Xialing', 'credit_id': '602b041de72fe8003c101fca', 'order': 3}, {'adult': False, 'gender': 1, 'id': 123701, 'known_for_department': 'Acting', 'name': 'Fala Chen', 'original_name': 'Fala Chen', 'popularity': 9.896, 'profile_path': '/1eoEj3umXbxUkTXb5c7bmC3EUTh.jpg', 'cast_id': 54, 'character': 'Ying Li', 'credit_id': '5f5a4014ec0c580035a40140', 'order': 4}, {'adult': False, 'gender': 1, 'id': 1620, 'known_for_department': 'Acting', 'name': 'Michelle Yeoh', 'original_name': 'Michelle Yeoh', 'popularity': 17.174, 'profile_path': '/wPI2wn6WJEtJr1oAMTLBLh92Ryc.jpg', 'cast_id': 50, 'character': 'Ying Nan', 'credit_id': '5e2672bf4ca676001a3e2021', 'order': 5}, {'adult': False, 'gender': 2, 'id': 57609, 'known_for_department': 'Acting', 'name': 'Yuen Wah', 'original_name': 'Yuen Wah', 'popularity': 10.769, 'profile_path': '/yMkMgs0tWlJXdTjYkiMcjvhYnRw.jpg', 'cast_id': 98, 'character': 'Master Guang Bo', 'credit_id': '612f81456a344800621363d6', 'order': 6}, {'adult': False, 'gender': 2, 'id': 2282, 'known_for_department': 'Acting', 'name': 'Ben Kingsley', 'original_name': 'Ben Kingsley', 'popularity': 10.517, 'profile_path': '/vQtBqpF2HDdzbfXHDzR4u37i1Ac.jpg', 'cast_id': 86, 'character': 'Trevor Slattery', 'credit_id': '611177fc01e4d1002eca6c8d', 'order': 7}, {'adult': False, 'gender': 2, 'id': 1998541, 'known_for_department': 'Acting', 'name': 'Florian Munteanu', 'original_name': 'Florian Munteanu', 'popularity': 6.746, 'profile_path': '/lE26A169mjuwW5x0zx2wW9Q9o2w.jpg', 'cast_id': 52, 'character': 'Razor Fist', 'credit_id': '5e659068d35dea0013012320', 'order': 8}, {'adult': False, 'gender': 0, 'id': 1068877, 'known_for_department': 'Acting', 'name': 'Andy Le', 'original_name': 'Andy Le', 'popularity': 0.6, 'profile_path': '/rwcJKFHN419CuNgEk57OEp16XLE.jpg', 'cast_id': 90, 'character': 'Li Ching-Lin / Death Dealer', 'credit_id': '611ba3311bf876002f924510', 'order': 9}, {'adult': False, 'gender': 0, 'id': 3074780, 'known_for_department': 'Acting', 'name': 'Paul He', 'original_name': 'Paul He', 'popularity': 0.6, 'profile_path': '/uTFu9bgW3Q8XcgII2iXoAgRXovY.jpg', 'cast_id': 99, 'character': 'Chancellor Hui', 'credit_id': '612f8173fbe36f0065c1d146', 'order': 10}, {'adult': False, 'gender': 0, 'id': 3201062, 'known_for_department': 'Acting', 'name': 'Jayden Tianyi Zhang', 'original_name': 'Jayden Tianyi Zhang', 'popularity': 0.6, 'profile_path': '/8jjggQTAMO7AyHyfcf8qJ8LgwjI.jpg', 'cast_id': 89, 'character': 'Young Shang-Chi', 'credit_id': '611ba2dd151c5c004617c06b', 'order': 11}, {'adult': False, 'gender': 0, 'id': 3218942, 'known_for_department': 'Acting', 'name': 'Elodie Fong', 'original_name': 'Elodie Fong', 'popularity': 0.6, 'profile_path': None, 'cast_id': 104, 'character': 'Young Xialing', 'credit_id': '612f81d3fac5020026fe009a', 'order': 12}, {'adult': False, 'gender': 0, 'id': 3216792, 'known_for_department': 'Acting', 'name': 'Arnold Sun', 'original_name': 'Arnold Sun', 'popularity': 0.608, 'profile_path': None, 'cast_id': 95, 'character': 'Teen Shang-Chi', 'credit_id': '612cacf4a1d3320067fa3867', 'order': 13}, {'adult': False, 'gender': 1, 'id': 1381186, 'known_for_department': 'Acting', 'name': 'Stephanie Hsu', 'original_name': 'Stephanie Hsu', 'popularity': 0.6, 'profile_path': '/d0nLvH8XZW7d7ZJ5mGFM3k0NvRh.jpg', 'cast_id': 100, 'character': 'Soo', 'credit_id': '612f8195d207f300649a38e9', 'order': 14}, {'adult': False, 'gender': 2, 'id': 2422160, 'known_for_department': 'Acting', 'name': 'Kunal Dudheker', 'original_name': 'Kunal Dudheker', 'popularity': 0.6, 'profile_path': '/uwRGVuRsAUYfb0dMKnQC6GrlxtP.jpg', 'cast_id': 101, 'character': 'John', 'credit_id': '612f81a239b6c3002a846c50', 'order': 15}, {'adult': False, 'gender': 1, 'id': 10075, 'known_for_department': 'Acting', 'name': 'Tsai Chin', 'original_name': 'Tsai Chin', 'popularity': 4.732, 'profile_path': '/5gfJqD1QeuVNUztE5kPFFQ4TadI.jpg', 'cast_id': 102, 'character': 'Waipo', 'credit_id': '612f81ab39549a00433e8ca8', 'order': 16}, {'adult': False, 'gender': 1, 'id': 44059, 'known_for_department': 'Acting', 'name': 'Jodi Long', 'original_name': 'Jodi Long', 'popularity': 4.611, 'profile_path': '/rLsdDkJMQRGiLfYgfwqQcNW4ZGc.jpg', 'cast_id': 88, 'character': 'Mrs. Chen', 'credit_id': '611ba2b14a0b1900738aa02e', 'order': 17}, {'adult': False, 'gender': 2, 'id': 1792920, 'known_for_department': 'Acting', 'name': 'Dallas Liu', 'original_name': 'Dallas Liu', 'popularity': 0.98, 'profile_path': '/aismdzGeONTJHiPfofNaKGZSKZu.jpg', 'cast_id': 62, 'character': 'Ruihua', 'credit_id': '6064ac2dd2f5b50056a3e79e', 'order': 18}, {'adult': False, 'gender': 2, 'id': 1319469, 'known_for_department': 'Acting', 'name': 'Ronny Chieng', 'original_name': 'Ronny Chieng', 'popularity': 3.107, 'profile_path': '/nn1y0te102CvakOJ0rSJ7rYPLDF.jpg', 'cast_id': 53, 'character': 'Jon Jon', 'credit_id': '5e8f1a2f4a4bf60013523bab', 'order': 19}, {'adult': False, 'gender': 0, 'id': 20479, 'known_for_department': 'Acting', 'name': 'Daniel Liu', 'original_name': 'Daniel Liu', 'popularity': 0.6, 'profile_path': None, 'cast_id': 103, 'character': 'BMW Driver', 'credit_id': '612f81c750733c002a75a399', 'order': 20}, {'adult': False, 'gender': 1, 'id': 2344691, 'known_for_department': 'Acting', 'name': 'Stella Ye', 'original_name': 'Stella Ye', 'popularity': 0.6, 'profile_path': '/jFm0vj9SXCxQM3wCF5NrmicNkgT.jpg', 'cast_id': 105, 'character': 'Yuchen', 'credit_id': '612f81e4c1ffbd00630dff8f', 'order': 21}, {'adult': False, 'gender': 2, 'id': 216782, 'known_for_department': 'Acting', 'name': 'Fernando Chien', 'original_name': 'Fernando Chien', 'popularity': 5.831, 'profile_path': '/b7cPXueKRnJGBH057pE24rkEv5N.jpg', 'cast_id': 106, 'character': 'Gao Lei', 'credit_id': '612f81f339549a00433e8d35', 'order': 22}, {'adult': False, 'gender': 2, 'id': 1535058, 'known_for_department': 'Acting', 'name': 'Michael-Anthony Taylor', 'original_name': 'Michael-Anthony Taylor', 'popularity': 1.889, 'profile_path': '/7GyGFHEqViuB2QiueXhpHjIm13s.jpg', 'cast_id': 107, 'character': 'Bus Driver', 'credit_id': '612f82046a344800621364a3', 'order': 23}, {'adult': False, 'gender': 2, 'id': 1838225, 'known_for_department': 'Acting', 'name': 'Zach Cherry', 'original_name': 'Zach Cherry', 'popularity': 8.015, 'profile_path': '/fT3Wv8ef0Vn0daHWAObCp2Bd4Y.jpg', 'cast_id': 69, 'character': 'Clev', 'credit_id': '607e16a9aa659e002aec1a7d', 'order': 24}, {'adult': False, 'gender': 2, 'id': 165214, 'known_for_department': 'Acting', 'name': 'Raymond Ma', 'original_name': 'Raymond Ma', 'popularity': 0.76, 'profile_path': '/9IvSLpcBKb6AHYnba0HIn7Dx2Ok.jpg', 'cast_id': 108, 'character': 'Gang Leader', 'credit_id': '612f820ffbe36f002abd7b7f', 'order': 25}, {'adult': False, 'gender': 2, 'id': 62421, 'known_for_department': 'Acting', 'name': 'Lau Ga-Yung', 'original_name': 'Lau Ga-Yung', 'popularity': 0.98, 'profile_path': None, 'cast_id': 109, 'character': \"Wenwu's Captain\", 'credit_id': '612f8230fbe36f0065c1d2db', 'order': 26}, {'adult': False, 'gender': 2, 'id': 1691275, 'known_for_department': 'Acting', 'name': 'Johnny Carr', 'original_name': 'Johnny Carr', 'popularity': 0.6, 'profile_path': '/yyq4oSw4K439c5QQyUDQpnjlX2L.jpg', 'cast_id': 110, 'character': \"Wenwu's Driver\", 'credit_id': '612f823b6a34480043d6479c', 'order': 27}, {'adult': False, 'gender': 0, 'id': 2651594, 'known_for_department': 'Acting', 'name': 'Harmonie He', 'original_name': 'Harmonie He', 'popularity': 0.6, 'profile_path': None, 'cast_id': 91, 'character': 'Teen Xialing', 'credit_id': '611ba37f87f3f2005cc8c113', 'order': 28}, {'adult': False, 'gender': 1, 'id': 1920116, 'known_for_department': 'Acting', 'name': 'Lydia Sarks', 'original_name': 'Lydia Sarks', 'popularity': 0.718, 'profile_path': '/79TKkzZcA5OBi4zCZ9u8yiALM2X.jpg', 'cast_id': 111, 'character': 'Flight Attendant', 'credit_id': '612f82506a34480043d647bd', 'order': 29}, {'adult': False, 'gender': 2, 'id': 23680, 'known_for_department': 'Acting', 'name': 'Dee Bradley Baker', 'original_name': 'Dee Bradley Baker', 'popularity': 5.155, 'profile_path': '/9oFnToDZWp0I484s7Ua1EzNQQ2m.jpg', 'cast_id': 114, 'character': 'Morris (voice)', 'credit_id': '6132ca54b84f94002a45b68d', 'order': 30}, {'adult': False, 'gender': 2, 'id': 30082, 'known_for_department': 'Acting', 'name': 'Benedict Wong', 'original_name': 'Benedict Wong', 'popularity': 19.026, 'profile_path': '/ukmfsl59Isvn9odgzMWBidA3cmt.jpg', 'cast_id': 75, 'character': 'Wong', 'credit_id': '60d54b6d7aecc6005e820c5f', 'order': 31}, {'adult': False, 'gender': 2, 'id': 3129, 'known_for_department': 'Acting', 'name': 'Tim Roth', 'original_name': 'Tim Roth', 'popularity': 16.824, 'profile_path': '/qSizF2i9gz6c6DbAC5RoIq8sVqX.jpg', 'cast_id': 123, 'character': 'Emil Blonsky / Abomination (voice) (uncredited)', 'credit_id': '613f5d246af9dd00917d6a85', 'order': 32}, {'adult': False, 'gender': 2, 'id': 103, 'known_for_department': 'Acting', 'name': 'Mark Ruffalo', 'original_name': 'Mark Ruffalo', 'popularity': 6.811, 'profile_path': '/z3dvKqMNDQWk3QLxzumloQVR0pv.jpg', 'cast_id': 96, 'character': 'Bruce Banner / Hulk (uncredited)', 'credit_id': '612f8125c1ffbd008b5b66f8', 'order': 33}, {'adult': False, 'gender': 1, 'id': 60073, 'known_for_department': 'Acting', 'name': 'Brie Larson', 'original_name': 'Brie Larson', 'popularity': 13.352, 'profile_path': '/80DH2zWgZiXHehH7TLe6HKDldyl.jpg', 'cast_id': 97, 'character': 'Carol Danvers / Captain Marvel (uncredited)', 'credit_id': '612f813112197e002ac0b65f', 'order': 34}, {'adult': False, 'gender': 0, 'id': 3114744, 'known_for_department': 'Acting', 'name': 'David Chea', 'original_name': 'David Chea', 'popularity': 0.6, 'profile_path': '/1qcKYNSCh5xnUeyH76CE1iMvukK.jpg', 'cast_id': 112, 'character': 'Bus Goon (uncredited)', 'credit_id': '6130d76dfac502008daf7749', 'order': 35}, {'adult': False, 'gender': 2, 'id': 2535732, 'known_for_department': 'Acting', 'name': 'Bingchen Ye', 'original_name': 'Bingchen Ye', 'popularity': 0.6, 'profile_path': '/1Zlx9rblQcQOMhUEVTSUlSpmtTb.jpg', 'cast_id': 113, 'character': 'Archer Warrior / Assassin (uncredited)', 'credit_id': '6130d7ebfac502002601333d', 'order': 36}, {'adult': False, 'gender': 1, 'id': 1102421, 'known_for_department': 'Acting', 'name': 'Jade Xu', 'original_name': 'Jade Xu', 'popularity': 1.4, 'profile_path': '/lJBBfW1egrlpHvm9cBv008zqMDv.jpg', 'cast_id': 125, 'character': 'Widow/Helen (uncredited)', 'credit_id': '6192ba96ccde0400610ec377', 'order': 37}], 'crew': [{'adult': False, 'gender': 1, 'id': 7232, 'known_for_department': 'Production', 'name': 'Sarah Halley Finn', 'original_name': 'Sarah Halley Finn', 'popularity': 1.801, 'profile_path': '/pI3OhmnHhXLEwuv0Vq6qJHivCJA.jpg', 'credit_id': '610422e76517d6007ea601f4', 'department': 'Production', 'job': 'Casting'}, {'adult': False, 'gender': 1, 'id': 6209, 'known_for_department': 'Costume & Make-Up', 'name': 'Kym Barrett', 'original_name': 'Kym Barrett', 'popularity': 3.001, 'profile_path': '/wphQYPxu1Jr82JrEQWtTApX7Kys.jpg', 'credit_id': '5d193f5e8a84d2001eccf144', 'department': 'Costume & Make-Up', 'job': 'Costume Design'}, {'adult': False, 'gender': 2, 'id': 10850, 'known_for_department': 'Production', 'name': 'Kevin Feige', 'original_name': 'Kevin Feige', 'popularity': 6.604, 'profile_path': '/kCBqXZ5PT5udYGEj2wfTSFbLMvT.jpg', 'credit_id': '5c05f2c00e0a26486a09bc82', 'department': 'Production', 'job': 'Producer'}, {'adult': False, 'gender': 2, 'id': 9341, 'known_for_department': 'Camera', 'name': 'Bill Pope', 'original_name': 'Bill Pope', 'popularity': 1.03, 'profile_path': '/kpakvuSrk1D9D8WMt5SOi4Rs2EV.jpg', 'credit_id': '5ff8e1bd383df2003c339402', 'department': 'Camera', 'job': 'Director of Photography'}, {'adult': False, 'gender': 0, 'id': 15004, 'known_for_department': 'Production', 'name': 'Charles Newirth', 'original_name': 'Charles Newirth', 'popularity': 0.996, 'profile_path': None, 'credit_id': '5d936f8aa88587001cef29a4', 'department': 'Production', 'job': 'Executive Producer'}, {'adult': False, 'gender': 1, 'id': 33455, 'known_for_department': 'Art', 'name': 'Sue Chan', 'original_name': 'Sue Chan', 'popularity': 0.6, 'profile_path': None, 'credit_id': '5cffb9a40e0a26333acb89ab', 'department': 'Art', 'job': 'Production Design'}, {'adult': False, 'gender': 2, 'id': 24192, 'known_for_department': 'Sound', 'name': 'Dave Jordan', 'original_name': 'Dave Jordan', 'popularity': 1.788, 'profile_path': None, 'credit_id': '610414f017c443005d4d19e2', 'department': 'Sound', 'job': 'Music Supervisor'}, {'adult': False, 'gender': 2, 'id': 57264, 'known_for_department': 'Writing', 'name': 'Dave Callaham', 'original_name': 'Dave Callaham', 'popularity': 6.845, 'profile_path': '/mbppbv25p2o2W6FAtPbFNSUeGLj.jpg', 'credit_id': '607dfaeeb046050059403a2b', 'department': 'Writing', 'job': 'Screenplay'}, {'adult': False, 'gender': 2, 'id': 57264, 'known_for_department': 'Writing', 'name': 'Dave Callaham', 'original_name': 'Dave Callaham', 'popularity': 6.845, 'profile_path': '/mbppbv25p2o2W6FAtPbFNSUeGLj.jpg', 'credit_id': '6136b61ab84f940062ca003c', 'department': 'Writing', 'job': 'Screenstory'}, {'adult': False, 'gender': 2, 'id': 57027, 'known_for_department': 'Production', 'name': \"Louis D'Esposito\", 'original_name': \"Louis D'Esposito\", 'popularity': 2.433, 'profile_path': '/k9k3WWYdD3uDnrtwM60QirzG9cH.jpg', 'credit_id': '607dfaa5aa659e0078dfbd81', 'department': 'Production', 'job': 'Executive Producer'}, {'adult': False, 'gender': 2, 'id': 58797, 'known_for_department': 'Crew', 'name': 'Andy Cheng', 'original_name': 'Andy Cheng', 'popularity': 0.986, 'profile_path': '/aO32rP2VY87vFBEComXmxWapmsK.jpg', 'credit_id': '6125ce7f8d22fc0065c02520', 'department': 'Crew', 'job': 'Fight Choreographer'}, {'adult': False, 'gender': 2, 'id': 62484, 'known_for_department': 'Art', 'name': 'Richard Hobbs', 'original_name': 'Richard Hobbs', 'popularity': 1.55, 'profile_path': None, 'credit_id': '5d936fbb960331001aa751a2', 'department': 'Art', 'job': 'Supervising Art Director'}, {'adult': False, 'gender': 1, 'id': 113674, 'known_for_department': 'Production', 'name': 'Victoria Alonso', 'original_name': 'Victoria Alonso', 'popularity': 2.204, 'profile_path': '/xF7Qe1tqgk9KtY8kThKHBWhMqxc.jpg', 'credit_id': '607dfab0f6787a0058fc4a0a', 'department': 'Production', 'job': 'Executive Producer'}, {'adult': False, 'gender': 2, 'id': 134686, 'known_for_department': 'Acting', 'name': 'Bradley James Allan', 'original_name': 'Bradley James Allan', 'popularity': 4.443, 'profile_path': '/cVtORViOXd5dnHaAacYmomgLlv0.jpg', 'credit_id': '5d93718297fdec002da22d81', 'department': 'Crew', 'job': 'Stunt Coordinator'}, {'adult': False, 'gender': 2, 'id': 134686, 'known_for_department': 'Acting', 'name': 'Bradley James Allan', 'original_name': 'Bradley James Allan', 'popularity': 4.443, 'profile_path': '/cVtORViOXd5dnHaAacYmomgLlv0.jpg', 'credit_id': '6136b94cef9d72002bee8727', 'department': 'Crew', 'job': 'In Memory Of'}, {'adult': False, 'gender': 2, 'id': 134686, 'known_for_department': 'Acting', 'name': 'Bradley James Allan', 'original_name': 'Bradley James Allan', 'popularity': 4.443, 'profile_path': '/cVtORViOXd5dnHaAacYmomgLlv0.jpg', 'credit_id': '60bd3520e004a6002978e803', 'department': 'Directing', 'job': 'Second Unit Director'}, {'adult': False, 'gender': 2, 'id': 148737, 'known_for_department': 'Editing', 'name': 'Nat Sanders', 'original_name': 'Nat Sanders', 'popularity': 1.38, 'profile_path': None, 'credit_id': '6104153af706de005efe9c4d', 'department': 'Editing', 'job': 'Editor'}, {'adult': False, 'gender': 2, 'id': 220311, 'known_for_department': 'Acting', 'name': 'Matt Fraction', 'original_name': 'Matt Fraction', 'popularity': 0.6, 'profile_path': None, 'credit_id': '6136b7f69f0e1900430b061f', 'department': 'Crew', 'job': 'Thanks'}, {'adult': False, 'gender': 1, 'id': 990036, 'known_for_department': 'Costume & Make-Up', 'name': 'Chelsea Staebell', 'original_name': 'Chelsea Staebell', 'popularity': 0.98, 'profile_path': None, 'credit_id': '5d937282960331002ba74c44', 'department': 'Costume & Make-Up', 'job': 'Assistant Costume Designer'}, {'adult': False, 'gender': 1, 'id': 990036, 'known_for_department': 'Costume & Make-Up', 'name': 'Chelsea Staebell', 'original_name': 'Chelsea Staebell', 'popularity': 0.98, 'profile_path': None, 'credit_id': '5d32260f2f8d094522d6de3c', 'department': 'Costume & Make-Up', 'job': 'Costume Assistant'}, {'adult': False, 'gender': 1, 'id': 1017235, 'known_for_department': 'Editing', 'name': 'Elísabet Ronaldsdóttir', 'original_name': 'Elísabet Ronaldsdóttir', 'popularity': 0.618, 'profile_path': None, 'credit_id': '610415658ee49c004656dcee', 'department': 'Editing', 'job': 'Editor'}, {'adult': False, 'gender': 1, 'id': 1102421, 'known_for_department': 'Acting', 'name': 'Jade Xu', 'original_name': 'Jade Xu', 'popularity': 1.4, 'profile_path': '/lJBBfW1egrlpHvm9cBv008zqMDv.jpg', 'credit_id': '5f943c6a3e01ea004002748b', 'department': 'Crew', 'job': 'Stunts'}, {'adult': False, 'gender': 2, 'id': 1144604, 'known_for_department': 'Directing', 'name': 'Destin Daniel Cretton', 'original_name': 'Destin Daniel Cretton', 'popularity': 4.874, 'profile_path': '/6pOwxAXGsaqjlJmAdz9k3UArBdS.jpg', 'credit_id': '607dfad89f37b00078d64b09', 'department': 'Writing', 'job': 'Screenplay'}, {'adult': False, 'gender': 2, 'id': 1144604, 'known_for_department': 'Directing', 'name': 'Destin Daniel Cretton', 'original_name': 'Destin Daniel Cretton', 'popularity': 4.874, 'profile_path': '/6pOwxAXGsaqjlJmAdz9k3UArBdS.jpg', 'credit_id': '5c8965e39251410cf7c195f6', 'department': 'Directing', 'job': 'Director'}, {'adult': False, 'gender': 2, 'id': 1144604, 'known_for_department': 'Directing', 'name': 'Destin Daniel Cretton', 'original_name': 'Destin Daniel Cretton', 'popularity': 4.874, 'profile_path': '/6pOwxAXGsaqjlJmAdz9k3UArBdS.jpg', 'credit_id': '6136b6451ad93b00299ec651', 'department': 'Writing', 'job': 'Screenstory'}, {'adult': False, 'gender': 2, 'id': 1154553, 'known_for_department': 'Production', 'name': 'Jonathan Schwartz', 'original_name': 'Jonathan Schwartz', 'popularity': 0.98, 'profile_path': '/bY1g5Sme8IaoZTEwv9Mc45N10Ys.jpg', 'credit_id': '607dfa97a1d332006e1869b9', 'department': 'Production', 'job': 'Producer'}, {'adult': False, 'gender': 0, 'id': 1302430, 'known_for_department': 'Sound', 'name': 'Joel P. West', 'original_name': 'Joel P. West', 'popularity': 0.6, 'profile_path': None, 'credit_id': '60dcf737b686b90075f27738', 'department': 'Sound', 'job': 'Original Music Composer'}, {'adult': False, 'gender': 0, 'id': 1321700, 'known_for_department': 'Art', 'name': 'Sean Hargreaves', 'original_name': 'Sean Hargreaves', 'popularity': 0.98, 'profile_path': None, 'credit_id': '5d93709cfa78cd0022edc584', 'department': 'Art', 'job': 'Conceptual Design'}, {'adult': False, 'gender': 1, 'id': 1347759, 'known_for_department': 'Art', 'name': 'Lori A. Balton', 'original_name': 'Lori A. Balton', 'popularity': 0.6, 'profile_path': None, 'credit_id': '5d93729ea885870012ef2687', 'department': 'Art', 'job': 'Location Scout'}, {'adult': False, 'gender': 2, 'id': 1372782, 'known_for_department': 'Writing', 'name': 'Steve Englehart', 'original_name': 'Steve Englehart', 'popularity': 2.87, 'profile_path': '/3X90CaExstlx0a3I25oWcZT25Gd.jpg', 'credit_id': '5c4e3b5fc3a3684789926648', 'department': 'Writing', 'job': 'Characters'}, {'adult': False, 'gender': 2, 'id': 1383143, 'known_for_department': 'Editing', 'name': 'Harry Yoon', 'original_name': 'Harry Yoon', 'popularity': 0.694, 'profile_path': '/jtJEPNDcKHfNGti58ox6IYlWI0I.jpg', 'credit_id': '6104157017c443002daa15aa', 'department': 'Editing', 'job': 'Editor'}, {'adult': False, 'gender': 0, 'id': 1394418, 'known_for_department': 'Sound', 'name': 'Jeremy Bowker', 'original_name': 'Jeremy Bowker', 'popularity': 0.6, 'profile_path': None, 'credit_id': '61340dc9b7abb50062301b0e', 'department': 'Sound', 'job': 'Sound Designer'}, {'adult': False, 'gender': 0, 'id': 1408337, 'known_for_department': 'Visual Effects', 'name': 'Christopher Townsend', 'original_name': 'Christopher Townsend', 'popularity': 0.6, 'profile_path': None, 'credit_id': '5d9371557a3c5200243ac9fa', 'department': 'Visual Effects', 'job': 'Visual Effects Supervisor'}, {'adult': False, 'gender': 0, 'id': 1412734, 'known_for_department': 'Production', 'name': 'Jennifer Cornwell', 'original_name': 'Jennifer Cornwell', 'popularity': 0.6, 'profile_path': None, 'credit_id': '5d936fd39603310012a74deb', 'department': 'Production', 'job': 'Unit Production Manager'}, {'adult': False, 'gender': 1, 'id': 1458578, 'known_for_department': 'Sound', 'name': 'Katy Wood', 'original_name': 'Katy Wood', 'popularity': 1.401, 'profile_path': None, 'credit_id': '61340db94a2226008df6c90d', 'department': 'Sound', 'job': 'Supervising Sound Editor'}, {'adult': False, 'gender': 0, 'id': 1463324, 'known_for_department': 'Art', 'name': 'Fabian Lacey', 'original_name': 'Fabian Lacey', 'popularity': 1.4, 'profile_path': None, 'credit_id': '5d9370c3fa78cd0022edc5b4', 'department': 'Art', 'job': 'Concept Artist'}, {'adult': False, 'gender': 0, 'id': 1533708, 'known_for_department': 'Production', 'name': 'David J. Grant', 'original_name': 'David J. Grant', 'popularity': 2.226, 'profile_path': None, 'credit_id': '610415e16517d6007ea5e910', 'department': 'Production', 'job': 'Co-Producer'}, {'adult': False, 'gender': 0, 'id': 1551518, 'known_for_department': 'Camera', 'name': 'Brianna Hoskins', 'original_name': 'Brianna Hoskins', 'popularity': 1.029, 'profile_path': None, 'credit_id': '5d9372e9fa78cd0011edd3c9', 'department': 'Production', 'job': 'Production Coordinator'}, {'adult': False, 'gender': 0, 'id': 1578989, 'known_for_department': 'Costume & Make-Up', 'name': 'Joy Cretton', 'original_name': 'Joy Cretton', 'popularity': 0.6, 'profile_path': None, 'credit_id': '5f94a2703ff2df0033af2b2a', 'department': 'Costume & Make-Up', 'job': 'Costume Designer'}, {'adult': False, 'gender': 0, 'id': 1613277, 'known_for_department': 'Crew', 'name': 'Dave Heazlewood', 'original_name': 'Dave Heazlewood', 'popularity': 0.6, 'profile_path': None, 'credit_id': '5d9372b197fdec001ba22527', 'department': 'Crew', 'job': 'Transportation Captain'}, {'adult': False, 'gender': 0, 'id': 1628057, 'known_for_department': 'Visual Effects', 'name': 'Damien Carr', 'original_name': 'Damien Carr', 'popularity': 0.997, 'profile_path': None, 'credit_id': '5d93713efa78cd0011edcc0f', 'department': 'Visual Effects', 'job': 'Visual Effects Producer'}, {'adult': False, 'gender': 2, 'id': 1629671, 'known_for_department': 'Writing', 'name': 'Andrew Lanham', 'original_name': 'Andrew Lanham', 'popularity': 2.671, 'profile_path': '/j3migZl3RPwlwh4RfI8PwxOWafp.jpg', 'credit_id': '6115646c9b6e47005de61e9c', 'department': 'Writing', 'job': 'Screenplay'}, {'adult': False, 'gender': 0, 'id': 1638547, 'known_for_department': 'Production', 'name': 'Whitney Donald', 'original_name': 'Whitney Donald', 'popularity': 0.62, 'profile_path': None, 'credit_id': '5d93705b97fdec002da22a0d', 'department': 'Art', 'job': 'Art Department Assistant'}, {'adult': False, 'gender': 0, 'id': 1653682, 'known_for_department': 'Production', 'name': 'Molly Doyle', 'original_name': 'Molly Doyle', 'popularity': 0.714, 'profile_path': None, 'credit_id': '5d93719ffa78cd0011edcdf9', 'department': 'Production', 'job': 'Casting Associate'}, {'adult': False, 'gender': 0, 'id': 1671144, 'known_for_department': 'Writing', 'name': 'Christopher Kelley', 'original_name': 'Christopher Kelley', 'popularity': 0.6, 'profile_path': None, 'credit_id': '5d9370b5960331002ba74a92', 'department': 'Art', 'job': 'Set Decoration Buyer'}, {'adult': False, 'gender': 2, 'id': 1713975, 'known_for_department': 'Writing', 'name': 'Jim Starlin', 'original_name': 'Jim Starlin', 'popularity': 3.427, 'profile_path': '/r92EWrlL4EI1aMpEjWN9xjfrJ40.jpg', 'credit_id': '5c4e3b69c3a368576a927dfe', 'department': 'Writing', 'job': 'Characters'}, {'adult': False, 'gender': 0, 'id': 1740449, 'known_for_department': 'Directing', 'name': 'Jeff Okabayashi', 'original_name': 'Jeff Okabayashi', 'popularity': 3.727, 'profile_path': None, 'credit_id': '5d936fee7a3c5200133acc53', 'department': 'Directing', 'job': 'First Assistant Director'}, {'adult': False, 'gender': 0, 'id': 1746433, 'known_for_department': 'Visual Effects', 'name': 'Alexandre Cancado', 'original_name': 'Alexandre Cancado', 'popularity': 0.6, 'profile_path': None, 'credit_id': '619854ea9512e1002a027fc5', 'department': 'Visual Effects', 'job': 'Visual Effects Supervisor'}, {'adult': False, 'gender': 2, 'id': 1753397, 'known_for_department': 'Art', 'name': 'Andy Park', 'original_name': 'Andy Park', 'popularity': 0.998, 'profile_path': None, 'credit_id': '5d9370dda885870012ef1e18', 'department': 'Visual Effects', 'job': 'Visual Development'}, {'adult': False, 'gender': 0, 'id': 1842156, 'known_for_department': 'Costume & Make-Up', 'name': 'Susan Lee', 'original_name': 'Susan Lee', 'popularity': 0.98, 'profile_path': None, 'credit_id': '5d9372217a3c52001b3ad196', 'department': 'Art', 'job': 'Textile Artist'}, {'adult': False, 'gender': 0, 'id': 1842157, 'known_for_department': 'Costume & Make-Up', 'name': 'Liz Oliver', 'original_name': 'Liz Oliver', 'popularity': 1.027, 'profile_path': None, 'credit_id': '5d93723b960331002ba74c1c', 'department': 'Art', 'job': 'Textile Artist'}, {'adult': False, 'gender': 1, 'id': 1896750, 'known_for_department': 'Costume & Make-Up', 'name': 'Marianne Parker', 'original_name': 'Marianne Parker', 'popularity': 0.6, 'profile_path': None, 'credit_id': '5d9372559603310023a7444c', 'department': 'Costume & Make-Up', 'job': 'Costumer'}, {'adult': False, 'gender': 0, 'id': 1915827, 'known_for_department': 'Costume & Make-Up', 'name': 'Quinton Wallace', 'original_name': 'Quinton Wallace', 'popularity': 0.6, 'profile_path': None, 'credit_id': '61340da81b72940065f94405', 'department': 'Costume & Make-Up', 'job': 'Makeup Artist'}, {'adult': False, 'gender': 0, 'id': 2025128, 'known_for_department': 'Costume & Make-Up', 'name': 'Esther Marquis', 'original_name': 'Esther Marquis', 'popularity': 0.716, 'profile_path': None, 'credit_id': '5d9372309603310012a754bf', 'department': 'Art', 'job': 'Textile Artist'}, {'adult': False, 'gender': 0, 'id': 2030404, 'known_for_department': 'Art', 'name': 'Keith Lau', 'original_name': 'Keith Lau', 'popularity': 0.6, 'profile_path': None, 'credit_id': '5d9372157a3c5200133ad1a5', 'department': 'Art', 'job': 'Concept Artist'}, {'adult': False, 'gender': 2, 'id': 2089435, 'known_for_department': 'Art', 'name': 'Andrew Campbell', 'original_name': 'Andrew Campbell', 'popularity': 1.294, 'profile_path': None, 'credit_id': '5d9371e9a885870025ef3821', 'department': 'Art', 'job': 'Graphic Designer'}, {'adult': False, 'gender': 2, 'id': 2116276, 'known_for_department': 'Art', 'name': 'Ulrich Zeidler', 'original_name': 'Ulrich Zeidler', 'popularity': 0.6, 'profile_path': None, 'credit_id': '5d93711b9603310012a7508e', 'department': 'Art', 'job': 'Conceptual Design'}, {'adult': False, 'gender': 0, 'id': 2422821, 'known_for_department': 'Directing', 'name': 'Chung Chi Li', 'original_name': 'Chung Chi Li', 'popularity': 0.982, 'profile_path': None, 'credit_id': '5d93718f7a3c52001b3ad067', 'department': 'Crew', 'job': 'Stunt Coordinator'}, {'adult': False, 'gender': 0, 'id': 2422821, 'known_for_department': 'Directing', 'name': 'Chung Chi Li', 'original_name': 'Chung Chi Li', 'popularity': 0.982, 'profile_path': None, 'credit_id': '5d93700197fdec002da2294e', 'department': 'Directing', 'job': 'Second Assistant Director'}, {'adult': False, 'gender': 0, 'id': 2422824, 'known_for_department': 'Art', 'name': 'Kirby Feagan', 'original_name': 'Kirby Feagan', 'popularity': 0.6, 'profile_path': None, 'credit_id': '5d93706ba88587002def2229', 'department': 'Art', 'job': 'Assistant Art Director'}, {'adult': False, 'gender': 0, 'id': 2422828, 'known_for_department': 'Art', 'name': 'Grace Waing', 'original_name': 'Grace Waing', 'popularity': 0.6, 'profile_path': None, 'credit_id': '5d9371037a3c5200133ace52', 'department': 'Art', 'job': 'Art Department Assistant'}, {'adult': False, 'gender': 0, 'id': 2422831, 'known_for_department': 'Production', 'name': 'Anissa Garcia', 'original_name': 'Anissa Garcia', 'popularity': 0.6, 'profile_path': None, 'credit_id': '5d9371afa885870025ef3727', 'department': 'Production', 'job': 'Casting Assistant'}, {'adult': False, 'gender': 0, 'id': 2422832, 'known_for_department': 'Editing', 'name': 'Edwin Van Huizen', 'original_name': 'Edwin Van Huizen', 'popularity': 0.98, 'profile_path': None, 'credit_id': '5d9371d0a885870012ef2214', 'department': 'Editing', 'job': 'Colorist'}, {'adult': False, 'gender': 0, 'id': 2422833, 'known_for_department': 'Costume & Make-Up', 'name': 'Jocelyn Kuan', 'original_name': 'Jocelyn Kuan', 'popularity': 0.6, 'profile_path': None, 'credit_id': '5d937204a885870012ef23b9', 'department': 'Costume & Make-Up', 'job': 'Costume Assistant'}, {'adult': False, 'gender': 0, 'id': 2422834, 'known_for_department': 'Costume & Make-Up', 'name': 'Salvatore Salamone', 'original_name': 'Salvatore Salamone', 'popularity': 0.6, 'profile_path': None, 'credit_id': '5d93726da885870012ef2571', 'department': 'Costume & Make-Up', 'job': 'Key Costumer'}, {'adult': False, 'gender': 0, 'id': 2422835, 'known_for_department': 'Production', 'name': 'Iona Harris', 'original_name': 'Iona Harris', 'popularity': 0.6, 'profile_path': None, 'credit_id': '5d9372d997fdec001ba2254a', 'department': 'Production', 'job': \"Producer's Assistant\"}, {'adult': False, 'gender': 0, 'id': 2422839, 'known_for_department': 'Production', 'name': 'Romana Samaritani', 'original_name': 'Romana Samaritani', 'popularity': 0.6, 'profile_path': None, 'credit_id': '5d9373297a3c5200243adc36', 'department': 'Production', 'job': 'Executive Assistant'}, {'adult': False, 'gender': 2, 'id': 2789454, 'known_for_department': 'Crew', 'name': 'Mike Snow', 'original_name': 'Mike Snow', 'popularity': 0.6, 'profile_path': '/cvInpzuBhQ33X6lvZbEQgG43LYu.jpg', 'credit_id': '60e447506ee3d7005e4e2858', 'department': 'Crew', 'job': 'Stunts'}, {'adult': False, 'gender': 0, 'id': 3173957, 'known_for_department': 'Visual Effects', 'name': 'Dan Finnegan', 'original_name': 'Dan Finnegan', 'popularity': 0.6, 'profile_path': None, 'credit_id': '61904730a313b80062560ed9', 'department': 'Visual Effects', 'job': 'VFX Artist'}, {'adult': False, 'gender': 0, 'id': 3222780, 'known_for_department': 'Costume & Make-Up', 'name': 'Eliza Campagna', 'original_name': 'Eliza Campagna', 'popularity': 0.6, 'profile_path': None, 'credit_id': '61340d9bea394900445fb0da', 'department': 'Costume & Make-Up', 'job': 'Makeup Artist'}]}\n",
            "translations  :  {'translations': [{'iso_3166_1': 'AE', 'iso_639_1': 'ar', 'name': 'العربية', 'english_name': 'Arabic', 'data': {'homepage': '', 'overview': 'يتعين على شانغ - چي مواجهة الماضي الذي اعتقد أنه تركه وراءه عندما يتم جذبه إلى شبكة منظمة ( الحلقات العشر )  الغامضة.', 'runtime': 0, 'tagline': 'لا يمكنك تجاوز مصيرك.', 'title': 'شانغ - چي و أسطورة الحلقات العشر'}}, {'iso_3166_1': 'SA', 'iso_639_1': 'ar', 'name': 'العربية', 'english_name': 'Arabic', 'data': {'homepage': '', 'overview': 'ي إطار من المغامرات والحركة، يتناول العمل قصة شانجشي، ومجموعة من مغامرات واحد من أمهر لاعبي الكونغ فو في العالم، حينما يقع في مواجهة مع ماضيه خلال سقوطه في عالم منظمة الخواتم العشرة.', 'runtime': 0, 'tagline': 'شانج-شي وأسطورة الخواتم العشرة', 'title': ''}}, {'iso_3166_1': 'BG', 'iso_639_1': 'bg', 'name': 'български език', 'english_name': 'Bulgarian', 'data': {'homepage': '', 'overview': 'Филмът, базиран на Marvel Comics, ще се фокусира върху Shang-Chi; „Господарят на Кунг-Фу“.', 'runtime': 0, 'tagline': '', 'title': 'Шан-Чи и легендата за десетте пръстена'}}, {'iso_3166_1': 'CZ', 'iso_639_1': 'cs', 'name': 'Český', 'english_name': 'Czech', 'data': {'homepage': '', 'overview': 'Hlavním hrdinou je superhrdina čínského původu Schang-Chi, který je konfrontován se svojí minulostí, když je zapleten do sítě tajemné organizace Deset prstenů. Jedná se o druhý film ze čtvrté fáze MCU. Ve filmu uvidíme skutečného záporáka Mandarina.', 'runtime': 0, 'tagline': '', 'title': 'Shang-Chi a legenda o deseti prstenech'}}, {'iso_3166_1': 'DK', 'iso_639_1': 'da', 'name': 'Dansk', 'english_name': 'Danish', 'data': {'homepage': '', 'overview': 'Shang-Chi blev trænet som snigmorder af sin barske far i en meget ung alder, men har siden lagt sin fortid bag sig og forsøgt at opbygge et normalt liv i USA, blot for ufrivilligt at blive trukket tilbage i sin fars grusomme verden.', 'runtime': 0, 'tagline': '', 'title': ''}}, {'iso_3166_1': 'DE', 'iso_639_1': 'de', 'name': 'Deutsch', 'english_name': 'German', 'data': {'homepage': 'https://disney.de/filme/shang-chi-and-the-legend-of-the-ten-rings', 'overview': 'Shang-Chi wurde von der terroristischen Geheimorganisation der Ten Rings seit frühster Kindheit zum Killer ausgebildet. Trotz dieses intensiven Martial-Arts-Trainings hat der junge Mann aber versucht, sich ein normales Leben in San Francisco aufzubauen.  Doch als er gerade glaubt, sein früheres Leben vielleicht wirklich hinter sich gelassen zu haben, holt die Vergangenheit ihn wieder ein. Zusammen mit seiner alten Kindheitsfreundin Katy wird er von seinem kriminellen Vater Wenwu in eine Welt gezogen, in der niemand irgendjemanden mit Samthandschuhen anfasst.\\xa0Nur die zehn Ringe des Mandarin können das Blatt im Kampf gegen das Böse vielleicht noch wenden.', 'runtime': 0, 'tagline': 'Du kannst deinem Schicksal nicht davonlaufen', 'title': ''}}, {'iso_3166_1': 'GR', 'iso_639_1': 'el', 'name': 'ελληνικά', 'english_name': 'Greek', 'data': {'homepage': '', 'overview': 'O νεαρός Shang-Chi ζει στο Σαν Φρανσίσκο και δουλεύει σαν παρκαδόρος, µέχρι που µια οµάδα εκτελεστών τού κλέβει το µενταγιόν που του είχε δώσει η µητέρα του όταν ήταν µικρός. Παρέα µε την κολλητή του Katy, ξεκινάει ένα ταξίδι µέχρι το Μακάου για να προειδοποιήσει τη αδελφή του Xialing για τον κίνδυνο που πρόκειται να βρει και την ίδια. Ο Shang-Chi, που έχει πια µπλέξει στα δίχτυα της µυστηριώδους και επικίνδυνης κλίκας των ∆έκα ∆αχτυλιδιών µε επικεφαλής τον αποξενωµένο πατέρα του, καλείται να αντιµετωπίσει το παρελθόν του.', 'runtime': 132, 'tagline': '', 'title': 'Ο Shang-Chi και ο Θρύλος των Δέκα Δαχτυλιδιών'}}, {'iso_3166_1': 'US', 'iso_639_1': 'en', 'name': 'English', 'english_name': 'English', 'data': {'homepage': 'https://www.marvel.com/movies/shang-chi-and-the-legend-of-the-ten-rings', 'overview': 'Shang-Chi must confront the past he thought he left behind when he is drawn into the web of the mysterious Ten Rings organization.', 'runtime': 132, 'tagline': \"You can't outrun your destiny.\", 'title': ''}}, {'iso_3166_1': 'ES', 'iso_639_1': 'es', 'name': 'Español', 'english_name': 'Spanish', 'data': {'homepage': 'https://disney.es/peliculas/shang-chi-y-la-leyenda-de-los-diez-anillos', 'overview': 'Adaptación cinematográfica del héroe creado por Steve Englehart y Jim Starlin en 1973, un personaje mitad chino, mitad americano, cuyo característico estilo de combate mezclaba kung-fu, nunchacos y armas de fuego.', 'runtime': 132, 'tagline': 'No puedes huir de tu destino.', 'title': 'Shang-Chi y la leyenda de los Diez Anillos'}}, {'iso_3166_1': 'MX', 'iso_639_1': 'es', 'name': 'Español', 'english_name': 'Spanish', 'data': {'homepage': '', 'overview': 'Shang-Chi debe enfrentarse al pasado que pensó que había dejado atrás cuando se ve atraído por la red de la misteriosa organización de los Diez Anillos.', 'runtime': 0, 'tagline': '', 'title': 'Shang-Chi y la Leyenda de los Diez Anillos'}}, {'iso_3166_1': 'FI', 'iso_639_1': 'fi', 'name': 'suomi', 'english_name': 'Finnish', 'data': {'homepage': '', 'overview': 'Ystävykset Shaun ja Katy elävät kivaa, tosin kunnianhimotonta parikymppisten elämää San Franciscossa. He ovat töissä pysäköintipalvelussa ja viettävät hauskoja karaokeiltoja. Kunnes tuntemattomat miehet hyökkäävät Shaunin kimppuun kaupungin bussissa ja vievät hänen aina kaulassa pitämänsä jaderiipuksen. Paljastuu, että Shaun on oikeasti Shang-chi, että hänen isänsä on ikuisesti elänyt valtias Kiinassa, joka pitää hallussaan kymmenen käsirenkaan valtaa. Shang-chin on lähdettävä Macaoon ja Katy tietysti päättää lähteä mukaan. Macaosta löytyy Shang-chin sisko Xianmei, joka pyörittää puolivalmiissa kerrostalossa laitonta taistelurinkiä. Kiinan puolelta löytyy perinteiset kiinalaiset taistelutaidot taitava täti ja suvun matriarkka Jiang Nan. Ja kun kohtaaminen isän kanssa koittaa, on aika selvittää, mihin Shang-chi suuntaa.', 'runtime': 0, 'tagline': '', 'title': 'Shang-Chi and the Legend of the Ten Rings'}}, {'iso_3166_1': 'CA', 'iso_639_1': 'fr', 'name': 'Français', 'english_name': 'French', 'data': {'homepage': 'https://www.shangchietlalegendedesdixanneauxbillets.ca', 'overview': \"Shang-Chi doit affronter le passé qu'il pensait avoir laissé derrière lui lorsqu'il est entraîné dans la mystérieuse organisation des Dix Anneaux.\", 'runtime': 0, 'tagline': '', 'title': 'Shang-Chi et la légende des Dix Anneaux'}}, {'iso_3166_1': 'FR', 'iso_639_1': 'fr', 'name': 'Français', 'english_name': 'French', 'data': {'homepage': '', 'overview': 'Shang-Chi va devoir affronter un passé qu’il pensait avoir laissé derrière lui lorsqu’il est pris dans la toile de la mystérieuse organisation des dix anneaux.', 'runtime': 131, 'tagline': 'Vous ne pouvez pas dépasser votre destin.', 'title': 'Shang-Chi et la Légende des Dix Anneaux'}}, {'iso_3166_1': 'IL', 'iso_639_1': 'he', 'name': 'עִבְרִית', 'english_name': 'Hebrew', 'data': {'homepage': '', 'overview': \"שאנג-צ'י חייב להתמודד עם העבר שחשב שהשאיר מאחוריו כשהוא נשאב לתוך ארגון עשר הטבעות המסתורי.\", 'runtime': 0, 'tagline': 'אי אפשר לברוח מעברך', 'title': \"שאנג-צ'י ואגדת עשר הטבעות\"}}, {'iso_3166_1': 'IN', 'iso_639_1': 'hi', 'name': 'हिन्दी', 'english_name': 'Hindi', 'data': {'homepage': '', 'overview': 'या मूवी बोहोटी अच्छा मूवी है क्योंकि ये मेरी फिल्म है, मूवी का स्टोरी लाइन से लेकर एनिमेशन, वीएफएक्स, या एक्शन सब कुछ अकदम परफेक्ट था जो मुझे 10/7.1 फिल्म है।', 'runtime': 0, 'tagline': '', 'title': 'SHANG-CHI DAS RING BALA'}}, {'iso_3166_1': 'HR', 'iso_639_1': 'hr', 'name': 'Hrvatski', 'english_name': 'Croatian', 'data': {'homepage': '', 'overview': 'Shang-Chija (Liu) je odgojio njegov otac Wenwu (Tony Leung) da mu bude pomoćnik u kriminalnoj organizaciji Ten Rings koju predvodi sam Wenwu. U Marvelovom svijetu on je poznat i pod imenom Mandarin.  Kada upoznamo Shang-Chija, on je već deset godina odvojen od oca nakon što odluči odbiti život ubojstava i kriminala. No prošlost će ga sustići htio on to ili ne.', 'runtime': 0, 'tagline': 'Ne možete pobjeći od svoje sudbine.', 'title': 'Shang-Chi i legenda o deset prstenova'}}, {'iso_3166_1': 'HU', 'iso_639_1': 'hu', 'name': 'Magyar', 'english_name': 'Hungarian', 'data': {'homepage': 'https://disney.hu/filmek/shang-chi-es-a-tiz-gyuru-legendaja', 'overview': 'Shang-Chi kénytelen szembenézni a múlt árnyékaival, miután azt gondolta, végleg maga mögött hagyta a Tíz Gyűrűt. Úgy tűnik azonban, hogy a szervezet nem ereszti őt.', 'runtime': 0, 'tagline': '', 'title': 'Shang-Chi és a tíz gyűrű legendája'}}, {'iso_3166_1': 'ID', 'iso_639_1': 'id', 'name': 'Bahasa indonesia', 'english_name': 'Indonesian', 'data': {'homepage': 'https://www.marvel.com/movies/shang-chi-and-the-legend-of-the-ten-rings', 'overview': 'Shang-Chi harus menghadapi masa lalu yang dia pikir telah di lupakan dan menghadapi ayahnya, pimpinan organisasi Sepuluh Cincin yang berbahaya.', 'runtime': 132, 'tagline': 'Kamu tidak bisa mengelak dari takdirmu.', 'title': 'Shang-Chi dan Legenda Sepuluh Cincin'}}, {'iso_3166_1': 'IT', 'iso_639_1': 'it', 'name': 'Italiano', 'english_name': 'Italian', 'data': {'homepage': 'https://disney.it/film/shang-chi-e-la-leggenda-dei-dieci-anelli', 'overview': \"Xu Shang-Chi è il figlio di un potente criminale cinese. Cresciuto in un complesso isolato dal resto del mondo, è stato addestrato nelle arti marziali e ha sviluppato abilità senza precedenti. Si è però lasciato il passato alle spalle trasferendosi a San Francisco. Ben presto, il padre e la sua associazione lo costringeranno a fare i conti con chi è e con l'eredità che si porta appresso.\", 'runtime': 132, 'tagline': 'Una nuova legenda Marvel è sorta.', 'title': 'Shang-Chi e la leggenda dei dieci anelli'}}, {'iso_3166_1': 'JP', 'iso_639_1': 'ja', 'name': '日本語', 'english_name': 'Japanese', 'data': {'homepage': '', 'overview': 'マーベル・スタジオの新時代の幕開けを担う、新たなヒーローが誕生。悪に染まった父から授かった最強の力を封印し、二度と戦わないと誓った優しすぎる男、シャン・チー。父が伝説の腕輪《テン・リングス》を操り世界を脅かす時、シャン・チーは自らの力を解放し、宿命の敵となった父に立ち向かえるのか?自らの運命に葛藤しながらも過去と向き合い、運命を受け入れ、“本当の強さ”に目覚めていくシャン・チーを描いたドラマチック・アクション・エンターテイメント。', 'runtime': 132, 'tagline': '', 'title': 'シャン・チー／テン・リングスの伝説'}}, {'iso_3166_1': 'IN', 'iso_639_1': 'kn', 'name': '?????', 'english_name': 'Kannada', 'data': {'homepage': '', 'overview': '', 'runtime': 0, 'tagline': '', 'title': ''}}, {'iso_3166_1': 'KR', 'iso_639_1': 'ko', 'name': '한국어/조선말', 'english_name': 'Korean', 'data': {'homepage': '', 'overview': '초인적인 능력을 가진 텐 링즈의 힘으로 수세기 동안 어둠의 세상을 지배해 온 웬우. 샹치는 아버지 웬우 밑에서 암살자로 훈련을 받았지만 이를 거부하고 평범함 삶을 선택한다. 샌프란시스코로 떠나와 자신의 진짜 이름을 숨긴 채 션이란 가명으로 살아가는 샹치. 웬우가 수장으로 있는 조직 텐 링즈의 일원인 레이저 피스트가 찾아와 샹치의 펜던트를 훔쳐가자 샹치는 친구 케이티(아콰피나)와 함께 연이 끊겼던 동생 샤링(장멍)을 염려하며 그녀가 숨어 지내는 마카오로 찾아간다. 텐 링즈의 마법 같은 힘을 통해 수천년 동안 지구의 역사를 혼란에 빠뜨렸던 웬우는 자신의 아들딸을 다시 불러들여 새로운 계략을 꾸민다.', 'runtime': 0, 'tagline': '열 개의 힘, 단 하나의 운명', 'title': '샹치와 텐 링즈의 전설'}}, {'iso_3166_1': 'LT', 'iso_639_1': 'lt', 'name': 'Lietuvių', 'english_name': 'Lithuanian', 'data': {'homepage': '', 'overview': 'Šang-Či, ginkluotės grįstos kung fu meistras, priverstas stoti akistaton su savo praeitimi po to, kai yra įtraukiamas į Dešimties žiedų organizaciją.', 'runtime': 0, 'tagline': '', 'title': 'Šang-Či ir dešimties žiedų legenda'}}, {'iso_3166_1': 'LV', 'iso_639_1': 'lv', 'name': 'Latviešu', 'english_name': 'Latvian', 'data': {'homepage': '', 'overview': '', 'runtime': 0, 'tagline': '', 'title': 'Šanči un leģenda par desmit gredzeniem'}}, {'iso_3166_1': 'NL', 'iso_639_1': 'nl', 'name': 'Nederlands', 'english_name': 'Dutch', 'data': {'homepage': '', 'overview': 'Shang-Chi is een meester in martial-arts, en is daarin vrijwel ongeëvenaard. Shang-Chi kent een verleden die hij achter zich heeft gelaten, maar wordt hiermee opnieuw geconfronteerd wanneer hij in het web van de mysterieuze Ten Rings-organisatie verstrikt raakt. Tevens krijgt Shang-Chi te maken met een dreiging die zich achter de naam \"Mandarin\" schuilt.', 'runtime': 132, 'tagline': 'Je kunt je lot niet ontlopen.', 'title': ''}}, {'iso_3166_1': 'NO', 'iso_639_1': 'no', 'name': 'Norsk', 'english_name': 'Norwegian', 'data': {'homepage': '', 'overview': 'Se Marvel Studios \"Shang-Chi and The Legend of The Ten Rings\" med Simu Liu som Shang-Chi, som må konfrontere fortiden han trodde han etterlot seg, da han blir trukket inn i nettet til den mystiske Ten Rings- organisasjonen. Vi får også se Tony Leung as Wenwu, Awkwafina som Shang-Chis venn Katy og Michelle Yeoh som Jiang Nan. I tillegg får vi se Fala Chen, Meng\\'er Zhang, Florian Munteanu og Ronny Chieng i dette episke eventyret.', 'runtime': 0, 'tagline': '', 'title': ''}}, {'iso_3166_1': 'PL', 'iso_639_1': 'pl', 'name': 'Polski', 'english_name': 'Polish', 'data': {'homepage': '', 'overview': 'Sierota obdarzony specjalnymi mocami,  wychowany w szkole dla wyjątkowych dzieci prowadzonej przez Mandaryna , całe życie przygotowywał się do turnieju, w którym wezmą udział najwięksi mistrzowie sztuk walki. Zwycięzca otrzyma dziesięć pierścieni, które umożliwiają władzę nad żywiołami.', 'runtime': 124, 'tagline': '', 'title': 'Shang-Chi i legenda dziesięciu pierścieni'}}, {'iso_3166_1': 'BR', 'iso_639_1': 'pt', 'name': 'Português', 'english_name': 'Portuguese', 'data': {'homepage': '', 'overview': 'Shang-Chi precisa confrontar o passado que pensou ter deixado para trás. Ao mesmo tempo, ele é envolvido em uma teia de mistérios da organização conhecida como Dez Anéis.', 'runtime': 0, 'tagline': 'Você não pode fugir do seu destino.', 'title': 'Shang-Chi e a Lenda dos Dez Anéis'}}, {'iso_3166_1': 'PT', 'iso_639_1': 'pt', 'name': 'Português', 'english_name': 'Portuguese', 'data': {'homepage': 'https://www.marvel.com/movies/shang-chi-and-the-legend-of-the-ten-rings', 'overview': 'Mestre de artes marciais, Shang-Chi é praticamente inigualável. Shang-Chi tem um passado que deixou para trás, mas é novamente confrontado com ele quando se enredar na teia da misteriosa organização dos Dez Anéis. Ao mesmo tempo, Shang-Chi tem de lidar com uma ameaça que se esconde por detrás do nome \"Mandarim\".', 'runtime': 132, 'tagline': 'Não se pode fugir ao seu destino.', 'title': 'Shang-Chi e a Lenda dos Dez Anéis'}}, {'iso_3166_1': 'RU', 'iso_639_1': 'ru', 'name': 'Pусский', 'english_name': 'Russian', 'data': {'homepage': '', 'overview': 'Мастеру боевых искусств Шан-Чи предстоит противостоять призракам из собственного прошлого, по мере того как его втягивают в паутину интриг таинственной организации «Десять колец».', 'runtime': 132, 'tagline': '«Легенда Marvel воскреснет»', 'title': 'Шан-Чи и легенда десяти колец'}}, {'iso_3166_1': 'SK', 'iso_639_1': 'sk', 'name': 'Slovenčina', 'english_name': 'Slovak', 'data': {'homepage': '', 'overview': 'Nová akčná marvelovka Shang Chi: Legenda o desiatich prsteňoch prináša svojím fanúšikom príbeh postavy Shang Chi, ktorý musí čeliť svojej minulosti, keď je vtiahnutý do víru udalostí, ktoré roztočí tajomná organizácia Desať prsteňov.Shang Chi Legenda o desiatich prsteňoch je druhým filmom zo štvrtej fáze Marvel Cinematic Universe. Vo filme sa predstaví aj totálny záporák postava Mandarína.V hlavnej úlohe Shang Chi sa predstaví skvelý akčný hrdina a hviezda ázijských bojových filmov Simu Liu, sekundujú mu Awkwafina, Meng’er Zhang a Fala Chen.', 'runtime': 0, 'tagline': '', 'title': 'Shang-Chi: Legenda o desiatich prsteňoch'}}, {'iso_3166_1': 'RS', 'iso_639_1': 'sr', 'name': 'Srpski', 'english_name': 'Serbian', 'data': {'homepage': '', 'overview': 'Шенг-Чи се мора суочити с прошлошћу за коју је мислио да је оставио за собом када се увуче у мрежу мистериозне организације десет прстенова.', 'runtime': 0, 'tagline': 'Не можеш надмашити своју судбину.', 'title': 'Шенг-Чи и легенда о десет прстенова'}}, {'iso_3166_1': 'SE', 'iso_639_1': 'sv', 'name': 'svenska', 'english_name': 'Swedish', 'data': {'homepage': '', 'overview': 'Redan som mycket ung tränades Shang-Chi av sin hårde far till att bli lönnmördare. Han har sedan dess lämnat sitt förflutna bakom sig och försökt bygga upp ett normalt liv i USA, men han blir mot sin vilja åter indragen i faderns grymma värld.', 'runtime': 0, 'tagline': '', 'title': ''}}, {'iso_3166_1': 'IN', 'iso_639_1': 'ta', 'name': 'தமிழ்', 'english_name': 'Tamil', 'data': {'homepage': '', 'overview': '', 'runtime': 0, 'tagline': '', 'title': ''}}, {'iso_3166_1': 'IN', 'iso_639_1': 'te', 'name': 'తెలుగు', 'english_name': 'Telugu', 'data': {'homepage': '', 'overview': '', 'runtime': 0, 'tagline': '', 'title': ''}}, {'iso_3166_1': 'TH', 'iso_639_1': 'th', 'name': 'ภาษาไทย', 'english_name': 'Thai', 'data': {'homepage': '', 'overview': '', 'runtime': 0, 'tagline': '', 'title': 'ชาง-ชี กับตำนานลับเท็นริงส์'}}, {'iso_3166_1': 'TR', 'iso_639_1': 'tr', 'name': 'Türkçe', 'english_name': 'Turkish', 'data': {'homepage': '', 'overview': \"Film, babası tarafından suikastçı olmak üzere yetiştirilen Shang-Chi’nin hikayesini konu ediyor. Shang-Chi'nin babası ölümsüz bir büyücüdür. Babası tarafından suikatçı olmak üzere eğitilen Shang-Chi aynı zamanda simya ve insanüstü güçlerle dövüş tekniklerini geliştirir. Babasının yıkıcı güçlere sahip biri olduğunu öğrenen Shang-Chi, güçlerini onun imparatorluğunu yıkmak için kullanacaktır. Babasının düşmanıyla dost olan kahraman, dünyayı gezecek ve birçok süper kahramanla yolları kesişecektir...\", 'runtime': 132, 'tagline': 'Kaderinden kaçamazsın.', 'title': 'Shang-Chi ve On Halka Efsanesi'}}, {'iso_3166_1': 'UA', 'iso_639_1': 'uk', 'name': 'Український', 'english_name': 'Ukrainian', 'data': {'homepage': '', 'overview': 'Минуле, яке, здавалось, залишилось позаду, знову постає перед Шан-Чі, коли його втягують у мережу містичної організації під назвою «Десять Кілець».', 'runtime': 132, 'tagline': '', 'title': 'Шан-Чі та легенда десяти кілець'}}, {'iso_3166_1': 'VN', 'iso_639_1': 'vi', 'name': 'Tiếng Việt', 'english_name': 'Vietnamese', 'data': {'homepage': '', 'overview': 'Phim \"Shang-Chi và Huyền Thoại Thập Luân\" của Marvel Studios có sự tham gia của Simu Liu  (Lưu Tư Mộ) trong vai Shang-Chi (Thượng Khí), người phải đối mặt với quá khứ ngỡ đã quên khi bị lôi kéo vào mạng lưới của tổ chức bí ẩn Thập Hoàn. Phim còn có sự tham gia của Lương Triều Vỹ trong vai Wenwu (Văn Vũ), Awkwafina trong vai Katy, bạn của Shang-Chi và Dương Tử Quỳnh trong vai Jiang Nan, cùng với Fala Chen (Trần Pháp Lạp), Meng\\'er Zhang (Trương Mộng Nhi), Florian Munteanu và Ronny Chieng (Tiền Tính Y).', 'runtime': 0, 'tagline': 'Thượng Khí và Hội Thập Hoàn Truyền Kì', 'title': 'Shang-Chi và Huyền Thoại Thập Luân'}}, {'iso_3166_1': 'CN', 'iso_639_1': 'zh', 'name': '普通话', 'english_name': 'Mandarin', 'data': {'homepage': '', 'overview': '尚气必须面对自己以为摆脱了的过去，并与身为邪恶十环帮帮主的父亲对抗。', 'runtime': 132, 'tagline': '命运无可逃脱', 'title': '尚气与十环传奇'}}, {'iso_3166_1': 'HK', 'iso_639_1': 'zh', 'name': '普通话', 'english_name': 'Mandarin', 'data': {'homepage': '', 'overview': '主角尚氣為了要阻止邪惡勢力蔓延，決定重返舊地，揭開「十環幫」秘密及面對千絲萬縷錯綜複雜的父子關係。', 'runtime': 133, 'tagline': '', 'title': '尚氣與十環幫傳奇'}}, {'iso_3166_1': 'TW', 'iso_639_1': 'zh', 'name': '普通话', 'english_name': 'Mandarin', 'data': {'homepage': '', 'overview': '故事敘述尚氣（劉思慕飾演）自幼接受父親文武（梁朝偉飾演）的鐵血戰鬥培訓，精通各種武術招式。長大後為了逃離家鄉，他改名換姓展開新生活，認識了新摯友凱蒂（奧卡菲娜飾演），平靜日子就這樣過了十年，直到過去再度找上門… 尚氣能否會發掘十環的無敵力量，無懼擺脫父親的勢力？', 'runtime': 0, 'tagline': '', 'title': '尚氣與十環傳奇'}}]}\n",
            "keywords  :  {'keywords': [{'id': 779, 'name': 'martial arts'}, {'id': 9715, 'name': 'superhero'}, {'id': 9717, 'name': 'based on comic'}, {'id': 9917, 'name': 'mixed martial arts'}, {'id': 180547, 'name': 'marvel cinematic universe (mcu)'}, {'id': 265894, 'name': 'marvel comics'}]}\n",
            "release_dates  :  {'results': [{'iso_3166_1': 'BG', 'release_dates': [{'certification': '', 'iso_639_1': '', 'note': '', 'release_date': '2021-09-03T00:00:00.000Z', 'type': 3}]}, {'iso_3166_1': 'DK', 'release_dates': [{'certification': '', 'iso_639_1': '', 'note': '', 'release_date': '2021-09-02T00:00:00.000Z', 'type': 3}]}, {'iso_3166_1': 'US', 'release_dates': [{'certification': 'PG-13', 'iso_639_1': '', 'note': 'Los Angeles', 'release_date': '2021-08-16T00:00:00.000Z', 'type': 1}, {'certification': 'PG-13', 'iso_639_1': '', 'note': '', 'release_date': '2021-09-03T00:00:00.000Z', 'type': 3}, {'certification': 'PG-13', 'iso_639_1': '', 'note': '', 'release_date': '2021-11-12T00:00:00.000Z', 'type': 4}, {'certification': 'PG-13', 'iso_639_1': '', 'note': '', 'release_date': '2021-11-30T00:00:00.000Z', 'type': 5}]}, {'iso_3166_1': 'NL', 'release_dates': [{'certification': '12', 'iso_639_1': '', 'note': '', 'release_date': '2021-09-01T00:00:00.000Z', 'type': 3}]}, {'iso_3166_1': 'UA', 'release_dates': [{'certification': '', 'iso_639_1': '', 'note': '', 'release_date': '2021-09-02T00:00:00.000Z', 'type': 3}]}, {'iso_3166_1': 'DE', 'release_dates': [{'certification': '12', 'iso_639_1': '', 'note': '', 'release_date': '2021-09-02T00:00:00.000Z', 'type': 3}, {'certification': '12', 'iso_639_1': '', 'note': 'Disney+', 'release_date': '2021-11-12T00:00:00.000Z', 'type': 4}, {'certification': '12', 'iso_639_1': '', 'note': '', 'release_date': '2021-11-18T00:00:00.000Z', 'type': 5}]}, {'iso_3166_1': 'SG', 'release_dates': [{'certification': 'PG', 'iso_639_1': '', 'note': '', 'release_date': '2021-09-01T00:00:00.000Z', 'type': 3}, {'certification': 'PG', 'iso_639_1': '', 'note': 'Disney+', 'release_date': '2021-11-12T00:00:00.000Z', 'type': 4}]}, {'iso_3166_1': 'RS', 'release_dates': [{'certification': '', 'iso_639_1': '', 'note': '', 'release_date': '2021-09-02T00:00:00.000Z', 'type': 3}]}, {'iso_3166_1': 'CH', 'release_dates': [{'certification': '', 'iso_639_1': '', 'note': '', 'release_date': '2021-09-01T00:00:00.000Z', 'type': 3}]}, {'iso_3166_1': 'BR', 'release_dates': [{'certification': '12', 'iso_639_1': 'pt', 'note': '', 'release_date': '2021-09-02T00:00:00.000Z', 'type': 3}, {'certification': '12', 'iso_639_1': '', 'note': 'Disney+', 'release_date': '2021-11-12T00:00:00.000Z', 'type': 4}]}, {'iso_3166_1': 'ID', 'release_dates': [{'certification': '', 'iso_639_1': '', 'note': '', 'release_date': '2021-09-01T00:00:00.000Z', 'type': 2}, {'certification': '', 'iso_639_1': '', 'note': '', 'release_date': '2021-09-03T00:00:00.000Z', 'type': 3}]}, {'iso_3166_1': 'TW', 'release_dates': [{'certification': '保護級', 'iso_639_1': 'en', 'note': '', 'release_date': '2021-09-02T00:00:00.000Z', 'type': 3}, {'certification': '', 'iso_639_1': '', 'note': 'Disney+', 'release_date': '2021-11-12T00:00:00.000Z', 'type': 4}]}, {'iso_3166_1': 'EE', 'release_dates': [{'certification': '', 'iso_639_1': '', 'note': '', 'release_date': '2021-09-03T00:00:00.000Z', 'type': 3}]}, {'iso_3166_1': 'IS', 'release_dates': [{'certification': '', 'iso_639_1': '', 'note': '', 'release_date': '2021-09-03T00:00:00.000Z', 'type': 3}]}, {'iso_3166_1': 'IE', 'release_dates': [{'certification': '12A', 'iso_639_1': '', 'note': '', 'release_date': '2021-09-03T00:00:00.000Z', 'type': 3}]}, {'iso_3166_1': 'FR', 'release_dates': [{'certification': 'U', 'iso_639_1': '', 'note': '', 'release_date': '2021-09-01T00:00:00.000Z', 'type': 3}, {'certification': '', 'iso_639_1': '', 'note': '', 'release_date': '2022-01-14T00:00:00.000Z', 'type': 5}]}, {'iso_3166_1': 'PT', 'release_dates': [{'certification': '', 'iso_639_1': '', 'note': '', 'release_date': '2021-09-02T00:00:00.000Z', 'type': 3}]}, {'iso_3166_1': 'LT', 'release_dates': [{'certification': '', 'iso_639_1': '', 'note': '', 'release_date': '2021-09-03T00:00:00.000Z', 'type': 3}]}, {'iso_3166_1': 'GR', 'release_dates': [{'certification': '', 'iso_639_1': '', 'note': '', 'release_date': '2021-09-09T00:00:00.000Z', 'type': 3}]}, {'iso_3166_1': 'AT', 'release_dates': [{'certification': '', 'iso_639_1': '', 'note': '', 'release_date': '2021-09-02T00:00:00.000Z', 'type': 3}]}, {'iso_3166_1': 'ES', 'release_dates': [{'certification': '12', 'iso_639_1': 'es', 'note': '', 'release_date': '2021-09-03T00:00:00.000Z', 'type': 3}, {'certification': '12', 'iso_639_1': 'es', 'note': 'Disney +', 'release_date': '2021-11-12T00:00:00.000Z', 'type': 4}]}, {'iso_3166_1': 'HK', 'release_dates': [{'certification': 'IIA', 'iso_639_1': '', 'note': '', 'release_date': '2021-09-02T00:00:00.000Z', 'type': 3}]}, {'iso_3166_1': 'AE', 'release_dates': [{'certification': '', 'iso_639_1': '', 'note': '', 'release_date': '2021-09-02T00:00:00.000Z', 'type': 3}]}, {'iso_3166_1': 'RU', 'release_dates': [{'certification': '16+', 'iso_639_1': '', 'note': '', 'release_date': '2021-09-02T00:00:00.000Z', 'type': 3}]}, {'iso_3166_1': 'PL', 'release_dates': [{'certification': '', 'iso_639_1': '', 'note': '', 'release_date': '2021-09-03T00:00:00.000Z', 'type': 3}]}, {'iso_3166_1': 'SE', 'release_dates': [{'certification': '11', 'iso_639_1': '', 'note': '', 'release_date': '2021-09-01T00:00:00.000Z', 'type': 3}]}, {'iso_3166_1': 'CZ', 'release_dates': [{'certification': '12+', 'iso_639_1': '', 'note': '', 'release_date': '2021-09-02T00:00:00.000Z', 'type': 3}]}, {'iso_3166_1': 'KR', 'release_dates': [{'certification': '12', 'iso_639_1': '', 'note': '', 'release_date': '2021-09-01T00:00:00.000Z', 'type': 3}]}, {'iso_3166_1': 'FI', 'release_dates': [{'certification': '', 'iso_639_1': '', 'note': '', 'release_date': '2021-09-03T00:00:00.000Z', 'type': 3}]}, {'iso_3166_1': 'IT', 'release_dates': [{'certification': 'T', 'iso_639_1': '', 'note': '', 'release_date': '2021-09-01T00:00:00.000Z', 'type': 3}]}, {'iso_3166_1': 'KZ', 'release_dates': [{'certification': '', 'iso_639_1': '', 'note': '', 'release_date': '2021-09-02T00:00:00.000Z', 'type': 3}]}, {'iso_3166_1': 'GB', 'release_dates': [{'certification': '12A', 'iso_639_1': '', 'note': '', 'release_date': '2021-09-03T00:00:00.000Z', 'type': 3}]}, {'iso_3166_1': 'PE', 'release_dates': [{'certification': '', 'iso_639_1': '', 'note': '', 'release_date': '2021-09-02T00:00:00.000Z', 'type': 3}]}, {'iso_3166_1': 'LV', 'release_dates': [{'certification': '', 'iso_639_1': '', 'note': '', 'release_date': '2021-09-03T00:00:00.000Z', 'type': 3}]}, {'iso_3166_1': 'CA', 'release_dates': [{'certification': '', 'iso_639_1': '', 'note': '', 'release_date': '2021-09-03T00:00:00.000Z', 'type': 3}]}, {'iso_3166_1': 'NZ', 'release_dates': [{'certification': '', 'iso_639_1': '', 'note': '', 'release_date': '2021-09-16T00:00:00.000Z', 'type': 3}]}, {'iso_3166_1': 'TH', 'release_dates': [{'certification': '', 'iso_639_1': '', 'note': '', 'release_date': '2021-09-16T00:00:00.000Z', 'type': 3}]}, {'iso_3166_1': 'MX', 'release_dates': [{'certification': '', 'iso_639_1': '', 'note': '', 'release_date': '2021-09-02T00:00:00.000Z', 'type': 3}]}, {'iso_3166_1': 'KH', 'release_dates': [{'certification': '', 'iso_639_1': '', 'note': '', 'release_date': '2021-09-02T00:00:00.000Z', 'type': 3}]}, {'iso_3166_1': 'JP', 'release_dates': [{'certification': '', 'iso_639_1': '', 'note': '', 'release_date': '2021-09-03T00:00:00.000Z', 'type': 3}]}, {'iso_3166_1': 'IN', 'release_dates': [{'certification': '', 'iso_639_1': '', 'note': '', 'release_date': '2021-09-03T00:00:00.000Z', 'type': 3}]}, {'iso_3166_1': 'SA', 'release_dates': [{'certification': '', 'iso_639_1': '', 'note': '', 'release_date': '2021-09-03T00:00:00.000Z', 'type': 3}]}, {'iso_3166_1': 'HU', 'release_dates': [{'certification': '12', 'iso_639_1': '', 'note': '', 'release_date': '2021-09-02T00:00:00.000Z', 'type': 3}]}, {'iso_3166_1': 'TR', 'release_dates': [{'certification': '', 'iso_639_1': '', 'note': '', 'release_date': '2021-09-03T00:00:00.000Z', 'type': 3}]}, {'iso_3166_1': 'AU', 'release_dates': [{'certification': 'M', 'iso_639_1': '', 'note': '', 'release_date': '2021-09-02T00:00:00.000Z', 'type': 3}]}, {'iso_3166_1': 'SK', 'release_dates': [{'certification': '', 'iso_639_1': '', 'note': '', 'release_date': '2021-09-02T00:00:00.000Z', 'type': 3}]}, {'iso_3166_1': 'LB', 'release_dates': [{'certification': '', 'iso_639_1': '', 'note': '', 'release_date': '2021-09-02T00:00:00.000Z', 'type': 3}]}, {'iso_3166_1': 'AR', 'release_dates': [{'certification': '', 'iso_639_1': '', 'note': '', 'release_date': '2021-09-02T00:00:00.000Z', 'type': 3}]}]}\n"
          ]
        }
      ]
    },
    {
      "cell_type": "code",
      "metadata": {
        "id": "GFvf5hYk_GuT"
      },
      "source": [
        "# def prepare(df):\n",
        "#     global json_cols\n",
        "#     global train_dict\n",
        "\n",
        "#     df[['release_month','release_day','release_year']]=df['release_date'].str.split('/',expand=True).replace(np.nan, 0).astype(int)\n",
        "#     df['release_year'] = df['release_year']\n",
        "#     df.loc[ (df['release_year'] <= 19) & (df['release_year'] < 100), \"release_year\"] += 2000\n",
        "#     df.loc[ (df['release_year'] > 19)  & (df['release_year'] < 100), \"release_year\"] += 1900\n",
        "    \n",
        "#     releaseDate = pd.to_datetime(df['release_date']) \n",
        "#     df['release_dayofweek'] = releaseDate.dt.dayofweek \n",
        "#     df['release_quarter'] = releaseDate.dt.quarter     \n",
        "\n",
        "\n",
        "#     df['originalBudget'] = df['budget']\n",
        "#     df['inflationBudget'] = df['budget'] + df['budget']*1.8/100*(2021-df['release_year']) #Inflation simple formula\n",
        "#     df['budget'] = np.log1p(df['budget']) \n",
        "    \n",
        "    \n",
        "#     # Thanks to this Kernel for the next 7 features https://www.kaggle.com/artgor/eda-feature-engineering-and-model-interpretation\n",
        "#     df['genders_0_crew'] = df['crew'].apply(lambda x: sum([1 for i in x if i['gender'] == 0]))\n",
        "#     df['genders_1_crew'] = df['crew'].apply(lambda x: sum([1 for i in x if i['gender'] == 1]))\n",
        "#     df['genders_2_crew'] = df['crew'].apply(lambda x: sum([1 for i in x if i['gender'] == 2]))\n",
        "#     df['_collection_name'] = df['belongs_to_collection'].apply(lambda x: x[0]['name'] if x != {} else 0)\n",
        "#     le = LabelEncoder()\n",
        "#     le.fit(list(df['_collection_name'].fillna('')))\n",
        "#     df['_collection_name'] = le.transform(df['_collection_name'].fillna('').astype(str))\n",
        "#     df['_num_Keywords'] = df['Keywords'].apply(lambda x: len(x) if x != {} else 0)\n",
        "#     df['_num_cast'] = df['cast'].apply(lambda x: len(x) if x != {} else 0)\n",
        "\n",
        "    \n",
        "    \n",
        "#     df['_popularity_mean_year'] = df['popularity'] / df.groupby(\"release_year\")[\"popularity\"].transform('mean')\n",
        "#     df['_budget_runtime_ratio'] = df['budget']/df['runtime'] \n",
        "#     df['_budget_popularity_ratio'] = df['budget']/df['popularity']\n",
        "#     df['_budget_year_ratio'] = df['budget']/(df['release_year']*df['release_year'])\n",
        "#     df['_releaseYear_popularity_ratio'] = df['release_year']/df['popularity']\n",
        "#     df['_releaseYear_popularity_ratio2'] = df['popularity']/df['release_year']\n",
        "    \n",
        "#     df['has_homepage'] = 1\n",
        "#     df.loc[pd.isnull(df['homepage']) ,\"has_homepage\"] = 0\n",
        "    \n",
        "#     df['isbelongs_to_collectionNA'] = 0\n",
        "#     df.loc[pd.isnull(df['belongs_to_collection']) ,\"isbelongs_to_collectionNA\"] = 1\n",
        "    \n",
        "#     df['isTaglineNA'] = 0\n",
        "#     df.loc[df['tagline'] == 0 ,\"isTaglineNA\"] = 1 \n",
        "\n",
        "#     df['isOriginalLanguageEng'] = 0 \n",
        "#     df.loc[ df['original_language'] == \"en\" ,\"isOriginalLanguageEng\"] = 1\n",
        "    \n",
        "#     df['isTitleDifferent'] = 1\n",
        "#     df.loc[ df['original_title'] == df['title'] ,\"isTitleDifferent\"] = 0 \n",
        "\n",
        "#     df['isMovieReleased'] = 1\n",
        "#     df.loc[ df['status'] != \"Released\" ,\"isMovieReleased\"] = 0 \n",
        "\n",
        "#     # get collection id\n",
        "#     df['collection_id'] = df['belongs_to_collection'].apply(lambda x : np.nan if len(x)==0 else x[0]['id'])\n",
        "    \n",
        "#     # df['original_title_letter_count'] = df['original_title'].str.len() \n",
        "#     # df['original_title_word_count'] = df['original_title'].str.split().str.len() \n",
        "\n",
        "\n",
        "#     # df['title_word_count'] = df['title'].str.split().str.len()\n",
        "#     # df['overview_word_count'] = df['overview'].str.split().str.len()\n",
        "#     # df['tagline_word_count'] = df['tagline'].str.split().str.len()\n",
        "    \n",
        "#     # df['production_countries_count'] = df['production_countries'].apply(lambda x : len(x))\n",
        "#     # df['production_companies_count'] = df['production_companies'].apply(lambda x : len(x))\n",
        "#     # df['cast_count'] = df['cast'].apply(lambda x : len(x))\n",
        "#     # df['crew_count'] = df['crew'].apply(lambda x : len(x))\n",
        "    \n",
        "\n",
        "#     df['meanruntimeByYear'] = df.groupby(\"release_year\")[\"runtime\"].aggregate('mean')\n",
        "#     df['meanPopularityByYear'] = df.groupby(\"release_year\")[\"popularity\"].aggregate('mean')\n",
        "#     df['meanBudgetByYear'] = df.groupby(\"release_year\")[\"budget\"].aggregate('mean')\n",
        "#   #  df['meantotalVotesByYear'] = df.groupby(\"release_year\")[\"totalVotes\"].aggregate('mean')\n",
        "#   #  df['meanTotalVotesByRating'] = df.groupby(\"rating\")[\"totalVotes\"].aggregate('mean')\n",
        "#     df['medianBudgetByYear'] = df.groupby(\"release_year\")[\"budget\"].aggregate('median')\n",
        "\n",
        "#     for col in ['genres', 'production_countries', 'spoken_languages', 'production_companies'] :\n",
        "#         df[col] = df[col].map(lambda x: sorted(list(set([n if n in train_dict[col] else col+'_etc' for n in [d['name'] for d in x]])))).map(lambda x: ','.join(map(str, x)))\n",
        "#         temp = df[col].str.get_dummies(sep=',')\n",
        "#         df = pd.concat([df, temp], axis=1, sort=False)\n",
        "#     df.drop(['genres_etc'], axis = 1, inplace = True)\n",
        "    \n",
        "#     df = df.drop(['id', 'revenue','belongs_to_collection','genres','homepage','imdb_id','overview','runtime'\n",
        "#     ,'poster_path','production_companies','production_countries','release_date','spoken_languages'\n",
        "#     ,'status','title','Keywords','cast','crew','original_language','original_title','tagline', 'collection_id'\n",
        "#     ],axis=1)\n",
        "    \n",
        "#     df.fillna(value=0.0, inplace = True) \n",
        "\n",
        "#     return df\n",
        "\n",
        "# train = pd.read_csv('train.csv')\n",
        "\n",
        "# #power_six = train.id[train.budget > 1000][train.revenue < 100]\n",
        "\n",
        "# #for k in power_six :\n",
        "# #    train.loc[train['id'] == k,'revenue'] =  train.loc[train['id'] == k,'revenue'] * 1000000\n",
        "# #Clean Datapower_six \n",
        " \n",
        "# train.loc[train['id'] == 16,'revenue'] = 192864          # Skinning\n",
        "# train.loc[train['id'] == 90,'budget'] = 30000000         # Sommersby          \n",
        "# train.loc[train['id'] == 118,'budget'] = 60000000        # Wild Hogs\n",
        "# train.loc[train['id'] == 149,'budget'] = 18000000        # Beethoven\n",
        "# train.loc[train['id'] == 313,'revenue'] = 12000000       # The Cookout \n",
        "# train.loc[train['id'] == 451,'revenue'] = 12000000       # Chasing Liberty\n",
        "# train.loc[train['id'] == 464,'budget'] = 20000000        # Parenthood\n",
        "# train.loc[train['id'] == 470,'budget'] = 13000000        # The Karate Kid, Part II\n",
        "# train.loc[train['id'] == 513,'budget'] = 930000          # From Prada to Nada\n",
        "# train.loc[train['id'] == 797,'budget'] = 8000000         # Welcome to Dongmakgol\n",
        "# train.loc[train['id'] == 819,'budget'] = 90000000        # Alvin and the Chipmunks: The Road Chip\n",
        "# train.loc[train['id'] == 850,'budget'] = 90000000        # Modern Times\n",
        "# train.loc[train['id'] == 1007,'budget'] = 2              # Zyzzyx Road \n",
        "# train.loc[train['id'] == 1112,'budget'] = 7500000        # An Officer and a Gentleman\n",
        "# train.loc[train['id'] == 1131,'budget'] = 4300000        # Smokey and the Bandit   \n",
        "# train.loc[train['id'] == 1359,'budget'] = 10000000       # Stir Crazy \n",
        "# train.loc[train['id'] == 1542,'budget'] = 1              # All at Once\n",
        "# train.loc[train['id'] == 1570,'budget'] = 15800000       # Crocodile Dundee II\n",
        "# train.loc[train['id'] == 1571,'budget'] = 4000000        # Lady and the Tramp\n",
        "# train.loc[train['id'] == 1714,'budget'] = 46000000       # The Recruit\n",
        "# train.loc[train['id'] == 1721,'budget'] = 17500000       # Cocoon\n",
        "# train.loc[train['id'] == 1865,'revenue'] = 25000000      # Scooby-Doo 2: Monsters Unleashed\n",
        "# train.loc[train['id'] == 1885,'budget'] = 12             # In the Cut\n",
        "# train.loc[train['id'] == 2091,'budget'] = 10             # Deadfall\n",
        "# train.loc[train['id'] == 2268,'budget'] = 17500000       # Madea Goes to Jail budget\n",
        "# train.loc[train['id'] == 2491,'budget'] = 6              # Never Talk to Strangers\n",
        "# train.loc[train['id'] == 2602,'budget'] = 31000000       # Mr. Holland's Opus\n",
        "# train.loc[train['id'] == 2612,'budget'] = 15000000       # Field of Dreams\n",
        "# train.loc[train['id'] == 2696,'budget'] = 10000000       # Nurse 3-D\n",
        "# train.loc[train['id'] == 2801,'budget'] = 10000000       # Fracture\n",
        "# train.loc[train['id'] == 335,'budget'] = 2 \n",
        "# train.loc[train['id'] == 348,'budget'] = 12\n",
        "# train.loc[train['id'] == 470,'budget'] = 13000000 \n",
        "# train.loc[train['id'] == 513,'budget'] = 1100000\n",
        "# train.loc[train['id'] == 640,'budget'] = 6 \n",
        "# train.loc[train['id'] == 696,'budget'] = 1\n",
        "# train.loc[train['id'] == 797,'budget'] = 8000000 \n",
        "# train.loc[train['id'] == 850,'budget'] = 1500000\n",
        "# train.loc[train['id'] == 1199,'budget'] = 5 \n",
        "# train.loc[train['id'] == 1282,'budget'] = 9               # Death at a Funeral\n",
        "# train.loc[train['id'] == 1347,'budget'] = 1\n",
        "# train.loc[train['id'] == 1755,'budget'] = 2\n",
        "# train.loc[train['id'] == 1801,'budget'] = 5\n",
        "# train.loc[train['id'] == 1918,'budget'] = 592 \n",
        "# train.loc[train['id'] == 2033,'budget'] = 4\n",
        "# train.loc[train['id'] == 2118,'budget'] = 344 \n",
        "# train.loc[train['id'] == 2252,'budget'] = 130\n",
        "# train.loc[train['id'] == 2256,'budget'] = 1 \n",
        "# train.loc[train['id'] == 2696,'budget'] = 10000000\n",
        "\n",
        "\n",
        "# # test = pd.read_csv('test.csv')\n",
        "# test = dataFrame3\n",
        "\n",
        "# #Clean Data\n",
        "# # test.loc[test['id'] == 6733,'budget'] = 5000000\n",
        "# # test.loc[test['id'] == 3889,'budget'] = 15000000\n",
        "# # test.loc[test['id'] == 6683,'budget'] = 50000000\n",
        "# # test.loc[test['id'] == 5704,'budget'] = 4300000\n",
        "# # test.loc[test['id'] == 6109,'budget'] = 281756\n",
        "# # test.loc[test['id'] == 7242,'budget'] = 10000000\n",
        "# # test.loc[test['id'] == 7021,'budget'] = 17540562       #  Two Is a Family\n",
        "# # test.loc[test['id'] == 5591,'budget'] = 4000000        # The Orphanage\n",
        "# # test.loc[test['id'] == 4282,'budget'] = 20000000       # Big Top Pee-wee\n",
        "# # test.loc[test['id'] == 3033,'budget'] = 250 \n",
        "# # test.loc[test['id'] == 3051,'budget'] = 50\n",
        "# # test.loc[test['id'] == 3084,'budget'] = 337\n",
        "# # test.loc[test['id'] == 3224,'budget'] = 4  \n",
        "# # test.loc[test['id'] == 3594,'budget'] = 25  \n",
        "# # test.loc[test['id'] == 3619,'budget'] = 500  \n",
        "# # test.loc[test['id'] == 3831,'budget'] = 3  \n",
        "# # test.loc[test['id'] == 3935,'budget'] = 500  \n",
        "# # test.loc[test['id'] == 4049,'budget'] = 995946 \n",
        "# # test.loc[test['id'] == 4424,'budget'] = 3  \n",
        "# # test.loc[test['id'] == 4460,'budget'] = 8  \n",
        "# # test.loc[test['id'] == 4555,'budget'] = 1200000 \n",
        "# # test.loc[test['id'] == 4624,'budget'] = 30 \n",
        "# # test.loc[test['id'] == 4645,'budget'] = 500 \n",
        "# # test.loc[test['id'] == 4709,'budget'] = 450 \n",
        "# # test.loc[test['id'] == 4839,'budget'] = 7\n",
        "# # test.loc[test['id'] == 3125,'budget'] = 25 \n",
        "# # test.loc[test['id'] == 3142,'budget'] = 1\n",
        "# # test.loc[test['id'] == 3201,'budget'] = 450\n",
        "# # test.loc[test['id'] == 3222,'budget'] = 6\n",
        "# # test.loc[test['id'] == 3545,'budget'] = 38\n",
        "# # test.loc[test['id'] == 3670,'budget'] = 18\n",
        "# # test.loc[test['id'] == 3792,'budget'] = 19\n",
        "# # test.loc[test['id'] == 3881,'budget'] = 7\n",
        "# # test.loc[test['id'] == 3969,'budget'] = 400\n",
        "# # test.loc[test['id'] == 4196,'budget'] = 6\n",
        "# # test.loc[test['id'] == 4221,'budget'] = 11\n",
        "# # test.loc[test['id'] == 4222,'budget'] = 500\n",
        "# # test.loc[test['id'] == 4285,'budget'] = 11\n",
        "# # test.loc[test['id'] == 4319,'budget'] = 1\n",
        "# # test.loc[test['id'] == 4639,'budget'] = 10\n",
        "# # test.loc[test['id'] == 4719,'budget'] = 45\n",
        "# # test.loc[test['id'] == 4822,'budget'] = 22\n",
        "# # test.loc[test['id'] == 4829,'budget'] = 20\n",
        "# # test.loc[test['id'] == 4969,'budget'] = 20\n",
        "# # test.loc[test['id'] == 5021,'budget'] = 40 \n",
        "# # test.loc[test['id'] == 5035,'budget'] = 1 \n",
        "# # test.loc[test['id'] == 5063,'budget'] = 14 \n",
        "# # test.loc[test['id'] == 5119,'budget'] = 2 \n",
        "# # test.loc[test['id'] == 5214,'budget'] = 30 \n",
        "# # test.loc[test['id'] == 5221,'budget'] = 50 \n",
        "# # test.loc[test['id'] == 4903,'budget'] = 15\n",
        "# # test.loc[test['id'] == 4983,'budget'] = 3\n",
        "# # test.loc[test['id'] == 5102,'budget'] = 28\n",
        "# # test.loc[test['id'] == 5217,'budget'] = 75\n",
        "# # test.loc[test['id'] == 5224,'budget'] = 3 \n",
        "# # test.loc[test['id'] == 5469,'budget'] = 20 \n",
        "# # test.loc[test['id'] == 5840,'budget'] = 1 \n",
        "# # test.loc[test['id'] == 5960,'budget'] = 30\n",
        "# # test.loc[test['id'] == 6506,'budget'] = 11 \n",
        "# # test.loc[test['id'] == 6553,'budget'] = 280\n",
        "# # test.loc[test['id'] == 6561,'budget'] = 7\n",
        "# # test.loc[test['id'] == 6582,'budget'] = 218\n",
        "# # test.loc[test['id'] == 6638,'budget'] = 5\n",
        "# # test.loc[test['id'] == 6749,'budget'] = 8 \n",
        "# # test.loc[test['id'] == 6759,'budget'] = 50 \n",
        "# # test.loc[test['id'] == 6856,'budget'] = 10\n",
        "# # test.loc[test['id'] == 6858,'budget'] =  100\n",
        "# # test.loc[test['id'] == 6876,'budget'] =  250\n",
        "# # test.loc[test['id'] == 6972,'budget'] = 1\n",
        "# # test.loc[test['id'] == 7079,'budget'] = 8000000\n",
        "# # test.loc[test['id'] == 7150,'budget'] = 118\n",
        "# # test.loc[test['id'] == 6506,'budget'] = 118\n",
        "# # test.loc[test['id'] == 7225,'budget'] = 6\n",
        "# # test.loc[test['id'] == 7231,'budget'] = 85\n",
        "# # test.loc[test['id'] == 5222,'budget'] = 5\n",
        "# # test.loc[test['id'] == 5322,'budget'] = 90\n",
        "# # test.loc[test['id'] == 5350,'budget'] = 70\n",
        "# # test.loc[test['id'] == 5378,'budget'] = 10\n",
        "# # test.loc[test['id'] == 5545,'budget'] = 80\n",
        "# # test.loc[test['id'] == 5810,'budget'] = 8\n",
        "# # test.loc[test['id'] == 5926,'budget'] = 300\n",
        "# # test.loc[test['id'] == 5927,'budget'] = 4\n",
        "# # test.loc[test['id'] == 5986,'budget'] = 1\n",
        "# # test.loc[test['id'] == 6053,'budget'] = 20\n",
        "# # test.loc[test['id'] == 6104,'budget'] = 1\n",
        "# # test.loc[test['id'] == 6130,'budget'] = 30\n",
        "# # test.loc[test['id'] == 6301,'budget'] = 150\n",
        "# # test.loc[test['id'] == 6276,'budget'] = 100\n",
        "# # test.loc[test['id'] == 6473,'budget'] = 100\n",
        "# # test.loc[test['id'] == 6842,'budget'] = 30\n",
        "\n",
        "\n",
        "# # test['revenue'] = np.nan\n",
        "\n",
        "# # features from https://www.kaggle.com/kamalchhirang/eda-simple-feature-engineering-external-data\n",
        "# #train = pd.merge(train, pd.read_csv('../input/tmdb-competition-additional-features/TrainAdditionalFeatures.csv'), how='left', on=['imdb_id'])\n",
        "# #test = pd.merge(test, pd.read_csv('../input/tmdb-competition-additional-features/TestAdditionalFeatures.csv'), how='left', on=['imdb_id'])\n",
        "\n",
        "\n",
        "\n",
        "# #additionalTrainData = pd.read_csv('../input/tmdb-box-office-prediction-more-training-data/additionalTrainData.csv')\n",
        "# #additionalTrainData['release_date'] = additionalTrainData['release_date'].astype('str')\n",
        "# #additionalTrainData['release_date'] = additionalTrainData['release_date'].str.replace('-', '/')\n",
        "# #train = pd.concat([train, additionalTrainData])\n",
        "\n",
        "# #train = pd.merge(train, additionalTrainData, how='left', on=['imdb_id'],axis=1)\n",
        "\n",
        "# print(train.columns)\n",
        "# print(train.shape)\n",
        "# train['revenue'] = np.log1p(train['revenue'].astype('int32'))\n",
        "# y = train['revenue'].values\n",
        "\n",
        "# json_cols = ['genres', 'production_companies', 'production_countries', 'spoken_languages', 'Keywords', 'cast', 'crew']\n",
        "\n",
        "# def get_dictionary(s):\n",
        "#     try:\n",
        "#         d = eval(s)\n",
        "#     except:\n",
        "#         d = {}\n",
        "#     return d\n",
        "\n",
        "# for col in tqdm(json_cols + ['belongs_to_collection']) :\n",
        "#     train[col] = train[col].apply(lambda x : get_dictionary(x))\n",
        "#     test[col] = test[col].apply(lambda x : get_dictionary(x))\n",
        "    \n",
        "# def get_json_dict(df) :\n",
        "#     global json_cols\n",
        "#     result = dict()\n",
        "#     for e_col in json_cols :\n",
        "#         d = dict()\n",
        "#         rows = df[e_col].values\n",
        "#         for row in rows :\n",
        "#             if row is None : continue\n",
        "#             for i in row :\n",
        "#                 if i['name'] not in d :\n",
        "#                     d[i['name']] = 0\n",
        "#                 d[i['name']] += 1\n",
        "#         result[e_col] = d\n",
        "#     return result\n",
        "\n",
        "# train_dict = get_json_dict(train)\n",
        "# test_dict = get_json_dict(test)\n",
        "\n",
        "# # remove cateogry with bias and low frequency\n",
        "# for col in json_cols :\n",
        "    \n",
        "#     remove = []\n",
        "#     train_id = set(list(train_dict[col].keys()))\n",
        "#     test_id = set(list(test_dict[col].keys()))   \n",
        "    \n",
        "#     remove += list(train_id - test_id) + list(test_id - train_id)\n",
        "#     for i in train_id.union(test_id) - set(remove) :\n",
        "#         if train_dict[col][i] < 10 or i == '' :\n",
        "#             remove += [i]\n",
        "            \n",
        "#     for i in remove :\n",
        "#         if i in train_dict[col] :\n",
        "#             del train_dict[col][i]\n",
        "#         if i in test_dict[col] :\n",
        "#             del test_dict[col][i]\n",
        "             \n",
        "# all_data = prepare(pd.concat([train, test]).reset_index(drop = True))\n",
        "# train = all_data.loc[:train.shape[0] - 1,:]\n",
        "# test = all_data.loc[train.shape[0]:,:] "
      ],
      "execution_count": null,
      "outputs": []
    },
    {
      "cell_type": "code",
      "metadata": {
        "colab": {
          "base_uri": "https://localhost:8080/"
        },
        "id": "moYF6f8uB4AZ",
        "outputId": "19cbeb77-1bb3-4129-b258-afb78f88587b"
      },
      "source": [
        "# test.shape"
      ],
      "execution_count": null,
      "outputs": [
        {
          "output_type": "execute_result",
          "data": {
            "text/plain": [
              "(4398, 182)"
            ]
          },
          "metadata": {},
          "execution_count": 34
        }
      ]
    },
    {
      "cell_type": "code",
      "metadata": {
        "colab": {
          "base_uri": "https://localhost:8080/",
          "height": 372
        },
        "id": "mKSKBB-1B_ZA",
        "outputId": "e7f68943-6e8d-4b42-be73-ede0e835cf37"
      },
      "source": [
        "# dataFrame3.head()"
      ],
      "execution_count": null,
      "outputs": [
        {
          "output_type": "execute_result",
          "data": {
            "text/html": [
              "<div>\n",
              "<style scoped>\n",
              "    .dataframe tbody tr th:only-of-type {\n",
              "        vertical-align: middle;\n",
              "    }\n",
              "\n",
              "    .dataframe tbody tr th {\n",
              "        vertical-align: top;\n",
              "    }\n",
              "\n",
              "    .dataframe thead th {\n",
              "        text-align: right;\n",
              "    }\n",
              "</style>\n",
              "<table border=\"1\" class=\"dataframe\">\n",
              "  <thead>\n",
              "    <tr style=\"text-align: right;\">\n",
              "      <th></th>\n",
              "      <th>0</th>\n",
              "      <th>1</th>\n",
              "      <th>2</th>\n",
              "      <th>3</th>\n",
              "      <th>4</th>\n",
              "      <th>5</th>\n",
              "      <th>6</th>\n",
              "      <th>7</th>\n",
              "      <th>8</th>\n",
              "      <th>9</th>\n",
              "      <th>10</th>\n",
              "      <th>11</th>\n",
              "      <th>12</th>\n",
              "      <th>13</th>\n",
              "      <th>14</th>\n",
              "      <th>15</th>\n",
              "      <th>16</th>\n",
              "      <th>17</th>\n",
              "      <th>18</th>\n",
              "      <th>19</th>\n",
              "      <th>20</th>\n",
              "      <th>21</th>\n",
              "      <th>22</th>\n",
              "      <th>23</th>\n",
              "      <th>24</th>\n",
              "      <th>25</th>\n",
              "      <th>26</th>\n",
              "      <th>27</th>\n",
              "      <th>28</th>\n",
              "      <th>29</th>\n",
              "      <th>30</th>\n",
              "      <th>31</th>\n",
              "    </tr>\n",
              "  </thead>\n",
              "  <tbody>\n",
              "    <tr>\n",
              "      <th>0</th>\n",
              "      <td>adult</td>\n",
              "      <td>backdrop_path</td>\n",
              "      <td>belongs_to_collection</td>\n",
              "      <td>budget</td>\n",
              "      <td>genres</td>\n",
              "      <td>homepage</td>\n",
              "      <td>id</td>\n",
              "      <td>imdb_id</td>\n",
              "      <td>original_language</td>\n",
              "      <td>original_title</td>\n",
              "      <td>overview</td>\n",
              "      <td>popularity</td>\n",
              "      <td>poster_path</td>\n",
              "      <td>production_companies</td>\n",
              "      <td>production_countries</td>\n",
              "      <td>release_date</td>\n",
              "      <td>revenue</td>\n",
              "      <td>runtime</td>\n",
              "      <td>spoken_languages</td>\n",
              "      <td>status</td>\n",
              "      <td>tagline</td>\n",
              "      <td>title</td>\n",
              "      <td>video</td>\n",
              "      <td>vote_average</td>\n",
              "      <td>vote_count</td>\n",
              "      <td>videos</td>\n",
              "      <td>trailers</td>\n",
              "      <td>images</td>\n",
              "      <td>casts</td>\n",
              "      <td>translations</td>\n",
              "      <td>keywords</td>\n",
              "      <td>release_dates</td>\n",
              "    </tr>\n",
              "    <tr>\n",
              "      <th>1</th>\n",
              "      <td>False</td>\n",
              "      <td>/cinER0ESG0eJ49kXlExM0MEWGxW.jpg</td>\n",
              "      <td>None</td>\n",
              "      <td>150000000</td>\n",
              "      <td>[[id, name], [id, name], [id, name]]</td>\n",
              "      <td>https://www.marvel.com/movies/shang-chi-and-th...</td>\n",
              "      <td>566525</td>\n",
              "      <td>tt9376612</td>\n",
              "      <td>en</td>\n",
              "      <td>Shang-Chi and the Legend of the Ten Rings</td>\n",
              "      <td>Shang-Chi must confront the past he thought he...</td>\n",
              "      <td>8300.4</td>\n",
              "      <td>/1BIoJGKbXjdFDAqUEiA2VHqkK1Z.jpg</td>\n",
              "      <td>[[id, logo_path, name, origin_country]]</td>\n",
              "      <td>[[iso_3166_1, name]]</td>\n",
              "      <td>2021-09-01</td>\n",
              "      <td>430238384</td>\n",
              "      <td>132</td>\n",
              "      <td>[[english_name, iso_639_1, name], [english_nam...</td>\n",
              "      <td>Released</td>\n",
              "      <td>You can't outrun your destiny.</td>\n",
              "      <td>Shang-Chi and the Legend of the Ten Rings</td>\n",
              "      <td>False</td>\n",
              "      <td>7.9</td>\n",
              "      <td>3312</td>\n",
              "      <td>[results]</td>\n",
              "      <td>[quicktime, youtube]</td>\n",
              "      <td>[backdrops, logos, posters]</td>\n",
              "      <td>[cast, crew]</td>\n",
              "      <td>[translations]</td>\n",
              "      <td>[keywords]</td>\n",
              "      <td>[results]</td>\n",
              "    </tr>\n",
              "    <tr>\n",
              "      <th>0</th>\n",
              "      <td>False</td>\n",
              "      <td>/wzJRB4MKi3yK138bJyuL9nx47y6.jpg</td>\n",
              "      <td>None</td>\n",
              "      <td>205000000</td>\n",
              "      <td>[[id, name], [id, name], [id, name]]</td>\n",
              "      <td>https://www.tenetfilm.com/</td>\n",
              "      <td>577922</td>\n",
              "      <td>tt6723592</td>\n",
              "      <td>en</td>\n",
              "      <td>Tenet</td>\n",
              "      <td>Armed with only one word - Tenet - and fightin...</td>\n",
              "      <td>122.598</td>\n",
              "      <td>/oh8XmxWlySHgGLlx8QOBmq9k72j.jpg</td>\n",
              "      <td>[[id, logo_path, name, origin_country]]</td>\n",
              "      <td>[[iso_3166_1, name], [iso_3166_1, name]]</td>\n",
              "      <td>2020-08-22</td>\n",
              "      <td>363129000</td>\n",
              "      <td>150</td>\n",
              "      <td>[[english_name, iso_639_1, name]]</td>\n",
              "      <td>Released</td>\n",
              "      <td>Time runs out.</td>\n",
              "      <td>Tenet</td>\n",
              "      <td>False</td>\n",
              "      <td>7.3</td>\n",
              "      <td>6331</td>\n",
              "      <td>[results]</td>\n",
              "      <td>[quicktime, youtube]</td>\n",
              "      <td>[backdrops, logos, posters]</td>\n",
              "      <td>[cast, crew]</td>\n",
              "      <td>[translations]</td>\n",
              "      <td>[keywords]</td>\n",
              "      <td>[results]</td>\n",
              "    </tr>\n",
              "  </tbody>\n",
              "</table>\n",
              "</div>"
            ],
            "text/plain": [
              "      0                                 1   ...          30             31\n",
              "0  adult                     backdrop_path  ...    keywords  release_dates\n",
              "1  False  /cinER0ESG0eJ49kXlExM0MEWGxW.jpg  ...  [keywords]      [results]\n",
              "0  False  /wzJRB4MKi3yK138bJyuL9nx47y6.jpg  ...  [keywords]      [results]\n",
              "\n",
              "[3 rows x 32 columns]"
            ]
          },
          "metadata": {},
          "execution_count": 39
        }
      ]
    }
  ]
}